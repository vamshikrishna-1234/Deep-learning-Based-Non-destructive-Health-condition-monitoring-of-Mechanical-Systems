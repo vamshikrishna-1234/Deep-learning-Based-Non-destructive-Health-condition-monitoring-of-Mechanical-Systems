{
  "cells": [
    {
      "cell_type": "markdown",
      "source": [
        "**METRO DATASET**"
      ],
      "metadata": {
        "id": "LEt_BVQLDtSD"
      }
    },
    {
      "cell_type": "markdown",
      "metadata": {
        "id": "M3SaY3IK-Xqj"
      },
      "source": [
        "\n",
        "\n",
        "---\n",
        "**Without Transform**\n",
        "\n",
        "\n",
        "---\n",
        "\n",
        "\n",
        "\n"
      ]
    },
    {
      "cell_type": "markdown",
      "metadata": {
        "id": "DC26yO7Iw9uB"
      },
      "source": [
        "**STEP** 1"
      ]
    },
    {
      "cell_type": "code",
      "execution_count": null,
      "metadata": {
        "id": "vcinekFBwelE"
      },
      "outputs": [],
      "source": [
        "#importing all libs\n",
        "\n",
        "import numpy as np\n",
        "import pandas as pd\n",
        "import math\n",
        "\n",
        "import matplotlib.pyplot as plt\n",
        "import seaborn as sns\n",
        "from sklearn.cluster import KMeans\n",
        "from sklearn.model_selection import train_test_split\n",
        "from sklearn.metrics import accuracy_score, classification_report\n",
        "from scipy.spatial.distance import euclidean\n",
        "from sklearn.preprocessing import StandardScaler\n",
        "import random\n",
        "import torch\n",
        "import torch.nn as nn"
      ]
    },
    {
      "cell_type": "code",
      "source": [
        "\n",
        "\n",
        "# --- Set seeds here! ---\n",
        "seed = 10\n",
        "random.seed(seed)\n",
        "np.random.seed(seed)\n",
        "torch.manual_seed(seed)\n",
        "torch.cuda.manual_seed(seed)\n",
        "torch.cuda.manual_seed_all(seed)\n",
        "torch.backends.cudnn.deterministic = True\n",
        "torch.backends.cudnn.benchmark = False\n",
        "\n",
        "#--- Now we can do everything else ---\n",
        "# Split dataset, create DataLoaders, initialize model, etc.\n"
      ],
      "metadata": {
        "id": "_CvX1lo2f4tA"
      },
      "execution_count": null,
      "outputs": []
    },
    {
      "cell_type": "code",
      "execution_count": null,
      "metadata": {
        "colab": {
          "base_uri": "https://localhost:8080/"
        },
        "id": "Xh1d3Xrw_Dz7",
        "outputId": "1412c7fb-d93e-48c2-ec04-ac7ed0a6e184"
      },
      "outputs": [
        {
          "output_type": "stream",
          "name": "stdout",
          "text": [
            "Cloning into 'MetroDataset'...\n",
            "remote: Enumerating objects: 73, done.\u001b[K\n",
            "remote: Counting objects: 100% (54/54), done.\u001b[K\n",
            "remote: Compressing objects: 100% (51/51), done.\u001b[K\n",
            "remote: Total 73 (delta 15), reused 0 (delta 0), pack-reused 19 (from 1)\u001b[K\n",
            "Receiving objects: 100% (73/73), 87.02 MiB | 19.46 MiB/s, done.\n",
            "Resolving deltas: 100% (20/20), done.\n"
          ]
        }
      ],
      "source": [
        "!git clone https://github.com/EnfangCui/MetroDataset.git  #cloning into dataset"
      ]
    },
    {
      "cell_type": "code",
      "execution_count": null,
      "metadata": {
        "colab": {
          "base_uri": "https://localhost:8080/"
        },
        "id": "vsAB1vOLASif",
        "outputId": "1be2715c-a780-47f6-d6b5-ea014855d042"
      },
      "outputs": [
        {
          "output_type": "stream",
          "name": "stdout",
          "text": [
            "Extracting Metro_vibration_v1_y_axis_failure.zip...\n",
            "Extraction of Metro_vibration_v1_y_axis_failure.zip complete.\n",
            "Extracting Metro_vibration_v1_z_axis_failure.zip...\n",
            "Extraction of Metro_vibration_v1_z_axis_failure.zip complete.\n",
            "Extracting Metro_vibration_v1_x_axis_failure.zip...\n",
            "Extraction of Metro_vibration_v1_x_axis_failure.zip complete.\n",
            "Extracting Metro_vibration_v1_z_axis_normal.zip...\n",
            "Extraction of Metro_vibration_v1_z_axis_normal.zip complete.\n",
            "Extracting Metro_vibration_v1_y_axis_normal.zip...\n",
            "Extraction of Metro_vibration_v1_y_axis_normal.zip complete.\n",
            "Extracting Metro_vibration_v1_x_axis_normal.zip...\n",
            "Extraction of Metro_vibration_v1_x_axis_normal.zip complete.\n"
          ]
        }
      ],
      "source": [
        "import zipfile\n",
        "import os\n",
        "\n",
        "base_path = '/content/MetroDataset'\n",
        "failure_path = os.path.join(base_path, 'Failure')\n",
        "normal_path = os.path.join(base_path, 'Normal')\n",
        "\n",
        "#os code for extracting from zip files\n",
        "def extract_zip_files(folder_path):\n",
        "    for zip_file in os.listdir(folder_path):\n",
        "        if zip_file.endswith('.zip'):\n",
        "            folder_name = zip_file.replace('.zip', '')\n",
        "            if not os.path.exists(os.path.join(folder_path, folder_name)):\n",
        "                print(f\"Extracting {zip_file}...\")\n",
        "                with zipfile.ZipFile(os.path.join(folder_path, zip_file), 'r') as zip_ref:\n",
        "                    zip_ref.extractall(folder_path)\n",
        "                print(f\"Extraction of {zip_file} complete.\")\n",
        "            else:\n",
        "                print(f\"{folder_name} already exists, skipping extraction.\")\n",
        "\n",
        "# Extract files\n",
        "extract_zip_files(failure_path)\n",
        "extract_zip_files(normal_path)"
      ]
    },
    {
      "cell_type": "code",
      "execution_count": null,
      "metadata": {
        "id": "BgileYlMASUV"
      },
      "outputs": [],
      "source": [
        "failure_files = [os.path.join(failure_path, f) for f in os.listdir(failure_path) if f.endswith('.csv')]  #\n",
        "failure_dfs = [pd.read_csv(file) for file in failure_files]\n",
        "\n",
        "normal_files = [os.path.join(normal_path, f) for f in os.listdir(normal_path) if f.endswith('.csv')]\n",
        "normal_dfs = [pd.read_csv(file) for file in normal_files]\n",
        "\n",
        "failure_dfs = []\n",
        "for file in failure_files:\n",
        "    try:\n",
        "        df = pd.read_csv(file)\n",
        "        failure_dfs.append(df)\n",
        "    except Exception as e:\n",
        "        print(f\"Error loading {file}: {e}\") # check if there are any corrupted files within the CSV files\n",
        "\n",
        "normal_dfs = []\n",
        "for file in normal_files:\n",
        "    try:\n",
        "        df = pd.read_csv(file)\n",
        "        normal_dfs.append(df)\n",
        "    except Exception as e:\n",
        "        print(f\"Error loading {file}: {e}\") # to check if there are any corrupted files within the CSV files"
      ]
    },
    {
      "cell_type": "code",
      "execution_count": null,
      "metadata": {
        "colab": {
          "base_uri": "https://localhost:8080/"
        },
        "id": "MqC-G6qDASN-",
        "outputId": "55c0b7fa-028d-4697-ce82-a12c200e293a"
      },
      "outputs": [
        {
          "output_type": "stream",
          "name": "stdout",
          "text": [
            "6231040\n",
            "3635200\n"
          ]
        }
      ],
      "source": [
        "failure_x_path = os.path.join('/content/MetroDataset/Failure/Metro_vibration_v1_x_axis_failure.csv')\n",
        "failure_y_path = os.path.join('/content/MetroDataset/Failure/Metro_vibration_v1_y_axis_failure.csv')\n",
        "failure_z_path = os.path.join('/content/MetroDataset/Failure/Metro_vibration_v1_z_axis_failure.csv')\n",
        "\n",
        "normal_x_path = os.path.join('/content/MetroDataset/Normal/Metro_vibration_v1_x_axis_normal.csv')\n",
        "normal_y_path = os.path.join('/content/MetroDataset/Normal/Metro_vibration_v1_y_axis_normal.csv')\n",
        "normal_z_path = os.path.join('/content/MetroDataset/Normal/Metro_vibration_v1_z_axis_normal.csv')\n",
        "\n",
        "# Load the data assuming the first column is the index\n",
        "failure_x = pd.read_csv(failure_x_path, index_col=0) #index coloumn 0 means the dataframe will contain an index coloumn\n",
        "failure_y = pd.read_csv(failure_y_path, index_col=0)\n",
        "failure_z = pd.read_csv(failure_z_path, index_col=0)\n",
        "\n",
        "normal_x = pd.read_csv(normal_x_path, index_col=0)\n",
        "normal_y = pd.read_csv(normal_y_path, index_col=0)\n",
        "normal_z = pd.read_csv(normal_z_path, index_col=0)\n",
        "print(len(failure_x))\n",
        "print(len(normal_x ))"
      ]
    },
    {
      "cell_type": "code",
      "execution_count": null,
      "metadata": {
        "colab": {
          "base_uri": "https://localhost:8080/",
          "height": 448
        },
        "id": "xXtIh0ILK58q",
        "outputId": "a3d2d9d3-5e5a-4adf-a603-d84beebcf1b7"
      },
      "outputs": [
        {
          "output_type": "display_data",
          "data": {
            "text/plain": [
              "<Figure size 640x480 with 1 Axes>"
            ],
            "image/png": "[encoded data removed]"
          },
          "metadata": {}
        }
      ],
      "source": [
        "import matplotlib.pyplot as plt\n",
        "plt.plot(failure_x)\n",
        "\n",
        "plt.show()"
      ]
    },
    {
      "cell_type": "code",
      "execution_count": null,
      "metadata": {
        "colab": {
          "base_uri": "https://localhost:8080/"
        },
        "id": "pIVS_woNCIxt",
        "outputId": "4de1a152-4716-40cf-d4a0-20da8357f62d"
      },
      "outputs": [
        {
          "output_type": "stream",
          "name": "stdout",
          "text": [
            "                 x_data/g\n",
            "        index            \n",
            "failure 0            -0.4\n",
            "        1            -0.4\n",
            "        2            -0.6\n",
            "        3            -0.2\n",
            "        4             0.3\n",
            "...                   ...\n",
            "normal  3635195       1.6\n",
            "        3635196       2.7\n",
            "        3635197       1.0\n",
            "        3635198      -0.8\n",
            "        3635199       0.1\n",
            "\n",
            "[9866240 rows x 1 columns]\n",
            "(9866240, 1) (9866240, 1) (9866240, 1)\n"
          ]
        }
      ],
      "source": [
        "# Concatenate the failure and normal data with multi-index\n",
        "data_1 = pd.concat([failure_x, normal_x], keys=['failure', 'normal'])\n",
        "data_2 = pd.concat([failure_y, normal_y], keys=['failure', 'normal'])\n",
        "data_3 = pd.concat([failure_z, normal_z], keys=['failure', 'normal'])\n",
        "print(data_1)\n",
        "\n",
        "\n",
        "print(data_1.shape,data_2.shape,data_3.shape)\n"
      ]
    },
    {
      "cell_type": "code",
      "execution_count": null,
      "metadata": {
        "colab": {
          "base_uri": "https://localhost:8080/"
        },
        "id": "GdOVaPyvCYzv",
        "outputId": "6d08f1e3-3306-4a34-eb3c-59e8946c89d7"
      },
      "outputs": [
        {
          "output_type": "stream",
          "name": "stdout",
          "text": [
            "(9866240, 2) (9866240, 2) (9866240, 2)\n"
          ]
        }
      ],
      "source": [
        "# Reset multi-index to flatten the 'Condition' label into a column\n",
        "data_1 = data_1.reset_index(level=0).rename(columns={'level_0': 'Condition'})\n",
        "data_2 = data_2.reset_index(level=0).rename(columns={'level_0': 'Condition'})\n",
        "data_3 = data_3.reset_index(level=0).rename(columns={'level_0': 'Condition'})\n",
        "\n",
        "\n",
        "print(data_1.shape,data_2.shape,data_3.shape)"
      ]
    },
    {
      "cell_type": "code",
      "execution_count": null,
      "metadata": {
        "colab": {
          "base_uri": "https://localhost:8080/"
        },
        "id": "I2ZltO1HCaOW",
        "outputId": "41f81847-6aa0-410a-d9e5-9ce7009c6ca4"
      },
      "outputs": [
        {
          "output_type": "stream",
          "name": "stdout",
          "text": [
            "Index(['Condition', 'x_data/g'], dtype='object')\n",
            "Index(['Condition', 'y_data/g'], dtype='object')\n",
            "Index(['Condition', 'z_data/g'], dtype='object')\n"
          ]
        }
      ],
      "source": [
        "print(data_1.columns)\n",
        "print(data_2.columns)\n",
        "print(data_3.columns)"
      ]
    },
    {
      "cell_type": "code",
      "execution_count": null,
      "metadata": {
        "colab": {
          "base_uri": "https://localhost:8080/",
          "height": 394
        },
        "id": "SyN2aHj1MQhh",
        "outputId": "1e8f77c7-f5f0-4844-94c8-56022b9f1159"
      },
      "outputs": [
        {
          "output_type": "execute_result",
          "data": {
            "text/plain": [
              "      Condition  x_data/g\n",
              "index                    \n",
              "0       failure      -0.4\n",
              "1       failure      -0.4\n",
              "2       failure      -0.6\n",
              "3       failure      -0.2\n",
              "4       failure       0.3\n",
              "5       failure       0.7\n",
              "6       failure       0.7\n",
              "7       failure      -0.7\n",
              "8       failure      -0.4\n",
              "9       failure       0.6"
            ],
            "text/html": [
              "\n",
              "  <div id=\"df-1387cf39-b36c-41a9-88a4-8b1ede886cfa\" class=\"colab-df-container\">\n",
              "    <div>\n",
              "<style scoped>\n",
              "    .dataframe tbody tr th:only-of-type {\n",
              "        vertical-align: middle;\n",
              "    }\n",
              "\n",
              "    .dataframe tbody tr th {\n",
              "        vertical-align: top;\n",
              "    }\n",
              "\n",
              "    .dataframe thead th {\n",
              "        text-align: right;\n",
              "    }\n",
              "</style>\n",
              "<table border=\"1\" class=\"dataframe\">\n",
              "  <thead>\n",
              "    <tr style=\"text-align: right;\">\n",
              "      <th></th>\n",
              "      <th>Condition</th>\n",
              "      <th>x_data/g</th>\n",
              "    </tr>\n",
              "    <tr>\n",
              "      <th>index</th>\n",
              "      <th></th>\n",
              "      <th></th>\n",
              "    </tr>\n",
              "  </thead>\n",
              "  <tbody>\n",
              "    <tr>\n",
              "      <th>0</th>\n",
              "      <td>failure</td>\n",
              "      <td>-0.4</td>\n",
              "    </tr>\n",
              "    <tr>\n",
              "      <th>1</th>\n",
              "      <td>failure</td>\n",
              "      <td>-0.4</td>\n",
              "    </tr>\n",
              "    <tr>\n",
              "      <th>2</th>\n",
              "      <td>failure</td>\n",
              "      <td>-0.6</td>\n",
              "    </tr>\n",
              "    <tr>\n",
              "      <th>3</th>\n",
              "      <td>failure</td>\n",
              "      <td>-0.2</td>\n",
              "    </tr>\n",
              "    <tr>\n",
              "      <th>4</th>\n",
              "      <td>failure</td>\n",
              "      <td>0.3</td>\n",
              "    </tr>\n",
              "    <tr>\n",
              "      <th>5</th>\n",
              "      <td>failure</td>\n",
              "      <td>0.7</td>\n",
              "    </tr>\n",
              "    <tr>\n",
              "      <th>6</th>\n",
              "      <td>failure</td>\n",
              "      <td>0.7</td>\n",
              "    </tr>\n",
              "    <tr>\n",
              "      <th>7</th>\n",
              "      <td>failure</td>\n",
              "      <td>-0.7</td>\n",
              "    </tr>\n",
              "    <tr>\n",
              "      <th>8</th>\n",
              "      <td>failure</td>\n",
              "      <td>-0.4</td>\n",
              "    </tr>\n",
              "    <tr>\n",
              "      <th>9</th>\n",
              "      <td>failure</td>\n",
              "      <td>0.6</td>\n",
              "    </tr>\n",
              "  </tbody>\n",
              "</table>\n",
              "</div>\n",
              "    <div class=\"colab-df-buttons\">\n",
              "\n",
              "  <div class=\"colab-df-container\">\n",
              "    <button class=\"colab-df-convert\" onclick=\"convertToInteractive('df-1387cf39-b36c-41a9-88a4-8b1ede886cfa')\"\n",
              "            title=\"Convert this dataframe to an interactive table.\"\n",
              "            style=\"display:none;\">\n",
              "\n",
              "  <svg xmlns=\"http://www.w3.org/2000/svg\" height=\"24px\" viewBox=\"0 -960 960 960\">\n",
              "    <path d=\"M120-120v-720h720v720H120Zm60-500h600v-160H180v160Zm220 220h160v-160H400v160Zm0 220h160v-160H400v160ZM180-400h160v-160H180v160Zm440 0h160v-160H620v160ZM180-180h160v-160H180v160Zm440 0h160v-160H620v160Z\"/>\n",
              "  </svg>\n",
              "    </button>\n",
              "\n",
              "  <style>\n",
              "    .colab-df-container {\n",
              "      display:flex;\n",
              "      gap: 12px;\n",
              "    }\n",
              "\n",
              "    .colab-df-convert {\n",
              "      background-color: #E8F0FE;\n",
              "      border: none;\n",
              "      border-radius: 50%;\n",
              "      cursor: pointer;\n",
              "      display: none;\n",
              "      fill: #1967D2;\n",
              "      height: 32px;\n",
              "      padding: 0 0 0 0;\n",
              "      width: 32px;\n",
              "    }\n",
              "\n",
              "    .colab-df-convert:hover {\n",
              "      background-color: #E2EBFA;\n",
              "      box-shadow: 0px 1px 2px rgba(60, 64, 67, 0.3), 0px 1px 3px 1px rgba(60, 64, 67, 0.15);\n",
              "      fill: #174EA6;\n",
              "    }\n",
              "\n",
              "    .colab-df-buttons div {\n",
              "      margin-bottom: 4px;\n",
              "    }\n",
              "\n",
              "    [theme=dark] .colab-df-convert {\n",
              "      background-color: #3B4455;\n",
              "      fill: #D2E3FC;\n",
              "    }\n",
              "\n",
              "    [theme=dark] .colab-df-convert:hover {\n",
              "      background-color: #434B5C;\n",
              "      box-shadow: 0px 1px 3px 1px rgba(0, 0, 0, 0.15);\n",
              "      filter: drop-shadow(0px 1px 2px rgba(0, 0, 0, 0.3));\n",
              "      fill: #FFFFFF;\n",
              "    }\n",
              "  </style>\n",
              "\n",
              "    <script>\n",
              "      const buttonEl =\n",
              "        document.querySelector('#df-1387cf39-b36c-41a9-88a4-8b1ede886cfa button.colab-df-convert');\n",
              "      buttonEl.style.display =\n",
              "        google.colab.kernel.accessAllowed ? 'block' : 'none';\n",
              "\n",
              "      async function convertToInteractive(key) {\n",
              "        const element = document.querySelector('#df-1387cf39-b36c-41a9-88a4-8b1ede886cfa');\n",
              "        const dataTable =\n",
              "          await google.colab.kernel.invokeFunction('convertToInteractive',\n",
              "                                                    [key], {});\n",
              "        if (!dataTable) return;\n",
              "\n",
              "        const docLinkHtml = 'Like what you see? Visit the ' +\n",
              "          '<a target=\"_blank\" href=https://colab.research.google.com/notebooks/data_table.ipynb>data table notebook</a>'\n",
              "          + ' to learn more about interactive tables.';\n",
              "        element.innerHTML = '';\n",
              "        dataTable['output_type'] = 'display_data';\n",
              "        await google.colab.output.renderOutput(dataTable, element);\n",
              "        const docLink = document.createElement('div');\n",
              "        docLink.innerHTML = docLinkHtml;\n",
              "        element.appendChild(docLink);\n",
              "      }\n",
              "    </script>\n",
              "  </div>\n",
              "\n",
              "\n",
              "    <div id=\"df-540d3634-e5c8-4d66-9467-6646083108d5\">\n",
              "      <button class=\"colab-df-quickchart\" onclick=\"quickchart('df-540d3634-e5c8-4d66-9467-6646083108d5')\"\n",
              "                title=\"Suggest charts\"\n",
              "                style=\"display:none;\">\n",
              "\n",
              "<svg xmlns=\"http://www.w3.org/2000/svg\" height=\"24px\"viewBox=\"0 0 24 24\"\n",
              "     width=\"24px\">\n",
              "    <g>\n",
              "        <path d=\"M19 3H5c-1.1 0-2 .9-2 2v14c0 1.1.9 2 2 2h14c1.1 0 2-.9 2-2V5c0-1.1-.9-2-2-2zM9 17H7v-7h2v7zm4 0h-2V7h2v10zm4 0h-2v-4h2v4z\"/>\n",
              "    </g>\n",
              "</svg>\n",
              "      </button>\n",
              "\n",
              "<style>\n",
              "  .colab-df-quickchart {\n",
              "      --bg-color: #E8F0FE;\n",
              "      --fill-color: #1967D2;\n",
              "      --hover-bg-color: #E2EBFA;\n",
              "      --hover-fill-color: #174EA6;\n",
              "      --disabled-fill-color: #AAA;\n",
              "      --disabled-bg-color: #DDD;\n",
              "  }\n",
              "\n",
              "  [theme=dark] .colab-df-quickchart {\n",
              "      --bg-color: #3B4455;\n",
              "      --fill-color: #D2E3FC;\n",
              "      --hover-bg-color: #434B5C;\n",
              "      --hover-fill-color: #FFFFFF;\n",
              "      --disabled-bg-color: #3B4455;\n",
              "      --disabled-fill-color: #666;\n",
              "  }\n",
              "\n",
              "  .colab-df-quickchart {\n",
              "    background-color: var(--bg-color);\n",
              "    border: none;\n",
              "    border-radius: 50%;\n",
              "    cursor: pointer;\n",
              "    display: none;\n",
              "    fill: var(--fill-color);\n",
              "    height: 32px;\n",
              "    padding: 0;\n",
              "    width: 32px;\n",
              "  }\n",
              "\n",
              "  .colab-df-quickchart:hover {\n",
              "    background-color: var(--hover-bg-color);\n",
              "    box-shadow: 0 1px 2px rgba(60, 64, 67, 0.3), 0 1px 3px 1px rgba(60, 64, 67, 0.15);\n",
              "    fill: var(--button-hover-fill-color);\n",
              "  }\n",
              "\n",
              "  .colab-df-quickchart-complete:disabled,\n",
              "  .colab-df-quickchart-complete:disabled:hover {\n",
              "    background-color: var(--disabled-bg-color);\n",
              "    fill: var(--disabled-fill-color);\n",
              "    box-shadow: none;\n",
              "  }\n",
              "\n",
              "  .colab-df-spinner {\n",
              "    border: 2px solid var(--fill-color);\n",
              "    border-color: transparent;\n",
              "    border-bottom-color: var(--fill-color);\n",
              "    animation:\n",
              "      spin 1s steps(1) infinite;\n",
              "  }\n",
              "\n",
              "  @keyframes spin {\n",
              "    0% {\n",
              "      border-color: transparent;\n",
              "      border-bottom-color: var(--fill-color);\n",
              "      border-left-color: var(--fill-color);\n",
              "    }\n",
              "    20% {\n",
              "      border-color: transparent;\n",
              "      border-left-color: var(--fill-color);\n",
              "      border-top-color: var(--fill-color);\n",
              "    }\n",
              "    30% {\n",
              "      border-color: transparent;\n",
              "      border-left-color: var(--fill-color);\n",
              "      border-top-color: var(--fill-color);\n",
              "      border-right-color: var(--fill-color);\n",
              "    }\n",
              "    40% {\n",
              "      border-color: transparent;\n",
              "      border-right-color: var(--fill-color);\n",
              "      border-top-color: var(--fill-color);\n",
              "    }\n",
              "    60% {\n",
              "      border-color: transparent;\n",
              "      border-right-color: var(--fill-color);\n",
              "    }\n",
              "    80% {\n",
              "      border-color: transparent;\n",
              "      border-right-color: var(--fill-color);\n",
              "      border-bottom-color: var(--fill-color);\n",
              "    }\n",
              "    90% {\n",
              "      border-color: transparent;\n",
              "      border-bottom-color: var(--fill-color);\n",
              "    }\n",
              "  }\n",
              "</style>\n",
              "\n",
              "      <script>\n",
              "        async function quickchart(key) {\n",
              "          const quickchartButtonEl =\n",
              "            document.querySelector('#' + key + ' button');\n",
              "          quickchartButtonEl.disabled = true;  // To prevent multiple clicks.\n",
              "          quickchartButtonEl.classList.add('colab-df-spinner');\n",
              "          try {\n",
              "            const charts = await google.colab.kernel.invokeFunction(\n",
              "                'suggestCharts', [key], {});\n",
              "          } catch (error) {\n",
              "            console.error('Error during call to suggestCharts:', error);\n",
              "          }\n",
              "          quickchartButtonEl.classList.remove('colab-df-spinner');\n",
              "          quickchartButtonEl.classList.add('colab-df-quickchart-complete');\n",
              "        }\n",
              "        (() => {\n",
              "          let quickchartButtonEl =\n",
              "            document.querySelector('#df-540d3634-e5c8-4d66-9467-6646083108d5 button');\n",
              "          quickchartButtonEl.style.display =\n",
              "            google.colab.kernel.accessAllowed ? 'block' : 'none';\n",
              "        })();\n",
              "      </script>\n",
              "    </div>\n",
              "\n",
              "    </div>\n",
              "  </div>\n"
            ],
            "application/vnd.google.colaboratory.intrinsic+json": {
              "type": "dataframe",
              "variable_name": "data_1"
            }
          },
          "metadata": {},
          "execution_count": 11
        }
      ],
      "source": [
        "data_1.head(10)"
      ]
    },
    {
      "cell_type": "code",
      "execution_count": null,
      "metadata": {
        "colab": {
          "base_uri": "https://localhost:8080/",
          "height": 394
        },
        "id": "pVeC56erMak_",
        "outputId": "58d89ead-401f-414d-d177-e37ed58d6f9b"
      },
      "outputs": [
        {
          "output_type": "execute_result",
          "data": {
            "text/plain": [
              "        Condition  x_data/g\n",
              "index                      \n",
              "3635190    normal      -1.6\n",
              "3635191    normal      -0.5\n",
              "3635192    normal       0.8\n",
              "3635193    normal       0.9\n",
              "3635194    normal       1.7\n",
              "3635195    normal       1.6\n",
              "3635196    normal       2.7\n",
              "3635197    normal       1.0\n",
              "3635198    normal      -0.8\n",
              "3635199    normal       0.1"
            ],
            "text/html": [
              "\n",
              "  <div id=\"df-7231dc96-2dad-47b7-80f1-baffa970768e\" class=\"colab-df-container\">\n",
              "    <div>\n",
              "<style scoped>\n",
              "    .dataframe tbody tr th:only-of-type {\n",
              "        vertical-align: middle;\n",
              "    }\n",
              "\n",
              "    .dataframe tbody tr th {\n",
              "        vertical-align: top;\n",
              "    }\n",
              "\n",
              "    .dataframe thead th {\n",
              "        text-align: right;\n",
              "    }\n",
              "</style>\n",
              "<table border=\"1\" class=\"dataframe\">\n",
              "  <thead>\n",
              "    <tr style=\"text-align: right;\">\n",
              "      <th></th>\n",
              "      <th>Condition</th>\n",
              "      <th>x_data/g</th>\n",
              "    </tr>\n",
              "    <tr>\n",
              "      <th>index</th>\n",
              "      <th></th>\n",
              "      <th></th>\n",
              "    </tr>\n",
              "  </thead>\n",
              "  <tbody>\n",
              "    <tr>\n",
              "      <th>3635190</th>\n",
              "      <td>normal</td>\n",
              "      <td>-1.6</td>\n",
              "    </tr>\n",
              "    <tr>\n",
              "      <th>3635191</th>\n",
              "      <td>normal</td>\n",
              "      <td>-0.5</td>\n",
              "    </tr>\n",
              "    <tr>\n",
              "      <th>3635192</th>\n",
              "      <td>normal</td>\n",
              "      <td>0.8</td>\n",
              "    </tr>\n",
              "    <tr>\n",
              "      <th>3635193</th>\n",
              "      <td>normal</td>\n",
              "      <td>0.9</td>\n",
              "    </tr>\n",
              "    <tr>\n",
              "      <th>3635194</th>\n",
              "      <td>normal</td>\n",
              "      <td>1.7</td>\n",
              "    </tr>\n",
              "    <tr>\n",
              "      <th>3635195</th>\n",
              "      <td>normal</td>\n",
              "      <td>1.6</td>\n",
              "    </tr>\n",
              "    <tr>\n",
              "      <th>3635196</th>\n",
              "      <td>normal</td>\n",
              "      <td>2.7</td>\n",
              "    </tr>\n",
              "    <tr>\n",
              "      <th>3635197</th>\n",
              "      <td>normal</td>\n",
              "      <td>1.0</td>\n",
              "    </tr>\n",
              "    <tr>\n",
              "      <th>3635198</th>\n",
              "      <td>normal</td>\n",
              "      <td>-0.8</td>\n",
              "    </tr>\n",
              "    <tr>\n",
              "      <th>3635199</th>\n",
              "      <td>normal</td>\n",
              "      <td>0.1</td>\n",
              "    </tr>\n",
              "  </tbody>\n",
              "</table>\n",
              "</div>\n",
              "    <div class=\"colab-df-buttons\">\n",
              "\n",
              "  <div class=\"colab-df-container\">\n",
              "    <button class=\"colab-df-convert\" onclick=\"convertToInteractive('df-7231dc96-2dad-47b7-80f1-baffa970768e')\"\n",
              "            title=\"Convert this dataframe to an interactive table.\"\n",
              "            style=\"display:none;\">\n",
              "\n",
              "  <svg xmlns=\"http://www.w3.org/2000/svg\" height=\"24px\" viewBox=\"0 -960 960 960\">\n",
              "    <path d=\"M120-120v-720h720v720H120Zm60-500h600v-160H180v160Zm220 220h160v-160H400v160Zm0 220h160v-160H400v160ZM180-400h160v-160H180v160Zm440 0h160v-160H620v160ZM180-180h160v-160H180v160Zm440 0h160v-160H620v160Z\"/>\n",
              "  </svg>\n",
              "    </button>\n",
              "\n",
              "  <style>\n",
              "    .colab-df-container {\n",
              "      display:flex;\n",
              "      gap: 12px;\n",
              "    }\n",
              "\n",
              "    .colab-df-convert {\n",
              "      background-color: #E8F0FE;\n",
              "      border: none;\n",
              "      border-radius: 50%;\n",
              "      cursor: pointer;\n",
              "      display: none;\n",
              "      fill: #1967D2;\n",
              "      height: 32px;\n",
              "      padding: 0 0 0 0;\n",
              "      width: 32px;\n",
              "    }\n",
              "\n",
              "    .colab-df-convert:hover {\n",
              "      background-color: #E2EBFA;\n",
              "      box-shadow: 0px 1px 2px rgba(60, 64, 67, 0.3), 0px 1px 3px 1px rgba(60, 64, 67, 0.15);\n",
              "      fill: #174EA6;\n",
              "    }\n",
              "\n",
              "    .colab-df-buttons div {\n",
              "      margin-bottom: 4px;\n",
              "    }\n",
              "\n",
              "    [theme=dark] .colab-df-convert {\n",
              "      background-color: #3B4455;\n",
              "      fill: #D2E3FC;\n",
              "    }\n",
              "\n",
              "    [theme=dark] .colab-df-convert:hover {\n",
              "      background-color: #434B5C;\n",
              "      box-shadow: 0px 1px 3px 1px rgba(0, 0, 0, 0.15);\n",
              "      filter: drop-shadow(0px 1px 2px rgba(0, 0, 0, 0.3));\n",
              "      fill: #FFFFFF;\n",
              "    }\n",
              "  </style>\n",
              "\n",
              "    <script>\n",
              "      const buttonEl =\n",
              "        document.querySelector('#df-7231dc96-2dad-47b7-80f1-baffa970768e button.colab-df-convert');\n",
              "      buttonEl.style.display =\n",
              "        google.colab.kernel.accessAllowed ? 'block' : 'none';\n",
              "\n",
              "      async function convertToInteractive(key) {\n",
              "        const element = document.querySelector('#df-7231dc96-2dad-47b7-80f1-baffa970768e');\n",
              "        const dataTable =\n",
              "          await google.colab.kernel.invokeFunction('convertToInteractive',\n",
              "                                                    [key], {});\n",
              "        if (!dataTable) return;\n",
              "\n",
              "        const docLinkHtml = 'Like what you see? Visit the ' +\n",
              "          '<a target=\"_blank\" href=https://colab.research.google.com/notebooks/data_table.ipynb>data table notebook</a>'\n",
              "          + ' to learn more about interactive tables.';\n",
              "        element.innerHTML = '';\n",
              "        dataTable['output_type'] = 'display_data';\n",
              "        await google.colab.output.renderOutput(dataTable, element);\n",
              "        const docLink = document.createElement('div');\n",
              "        docLink.innerHTML = docLinkHtml;\n",
              "        element.appendChild(docLink);\n",
              "      }\n",
              "    </script>\n",
              "  </div>\n",
              "\n",
              "\n",
              "    <div id=\"df-a4675d88-b09f-47ad-a9e7-9175f7c68eab\">\n",
              "      <button class=\"colab-df-quickchart\" onclick=\"quickchart('df-a4675d88-b09f-47ad-a9e7-9175f7c68eab')\"\n",
              "                title=\"Suggest charts\"\n",
              "                style=\"display:none;\">\n",
              "\n",
              "<svg xmlns=\"http://www.w3.org/2000/svg\" height=\"24px\"viewBox=\"0 0 24 24\"\n",
              "     width=\"24px\">\n",
              "    <g>\n",
              "        <path d=\"M19 3H5c-1.1 0-2 .9-2 2v14c0 1.1.9 2 2 2h14c1.1 0 2-.9 2-2V5c0-1.1-.9-2-2-2zM9 17H7v-7h2v7zm4 0h-2V7h2v10zm4 0h-2v-4h2v4z\"/>\n",
              "    </g>\n",
              "</svg>\n",
              "      </button>\n",
              "\n",
              "<style>\n",
              "  .colab-df-quickchart {\n",
              "      --bg-color: #E8F0FE;\n",
              "      --fill-color: #1967D2;\n",
              "      --hover-bg-color: #E2EBFA;\n",
              "      --hover-fill-color: #174EA6;\n",
              "      --disabled-fill-color: #AAA;\n",
              "      --disabled-bg-color: #DDD;\n",
              "  }\n",
              "\n",
              "  [theme=dark] .colab-df-quickchart {\n",
              "      --bg-color: #3B4455;\n",
              "      --fill-color: #D2E3FC;\n",
              "      --hover-bg-color: #434B5C;\n",
              "      --hover-fill-color: #FFFFFF;\n",
              "      --disabled-bg-color: #3B4455;\n",
              "      --disabled-fill-color: #666;\n",
              "  }\n",
              "\n",
              "  .colab-df-quickchart {\n",
              "    background-color: var(--bg-color);\n",
              "    border: none;\n",
              "    border-radius: 50%;\n",
              "    cursor: pointer;\n",
              "    display: none;\n",
              "    fill: var(--fill-color);\n",
              "    height: 32px;\n",
              "    padding: 0;\n",
              "    width: 32px;\n",
              "  }\n",
              "\n",
              "  .colab-df-quickchart:hover {\n",
              "    background-color: var(--hover-bg-color);\n",
              "    box-shadow: 0 1px 2px rgba(60, 64, 67, 0.3), 0 1px 3px 1px rgba(60, 64, 67, 0.15);\n",
              "    fill: var(--button-hover-fill-color);\n",
              "  }\n",
              "\n",
              "  .colab-df-quickchart-complete:disabled,\n",
              "  .colab-df-quickchart-complete:disabled:hover {\n",
              "    background-color: var(--disabled-bg-color);\n",
              "    fill: var(--disabled-fill-color);\n",
              "    box-shadow: none;\n",
              "  }\n",
              "\n",
              "  .colab-df-spinner {\n",
              "    border: 2px solid var(--fill-color);\n",
              "    border-color: transparent;\n",
              "    border-bottom-color: var(--fill-color);\n",
              "    animation:\n",
              "      spin 1s steps(1) infinite;\n",
              "  }\n",
              "\n",
              "  @keyframes spin {\n",
              "    0% {\n",
              "      border-color: transparent;\n",
              "      border-bottom-color: var(--fill-color);\n",
              "      border-left-color: var(--fill-color);\n",
              "    }\n",
              "    20% {\n",
              "      border-color: transparent;\n",
              "      border-left-color: var(--fill-color);\n",
              "      border-top-color: var(--fill-color);\n",
              "    }\n",
              "    30% {\n",
              "      border-color: transparent;\n",
              "      border-left-color: var(--fill-color);\n",
              "      border-top-color: var(--fill-color);\n",
              "      border-right-color: var(--fill-color);\n",
              "    }\n",
              "    40% {\n",
              "      border-color: transparent;\n",
              "      border-right-color: var(--fill-color);\n",
              "      border-top-color: var(--fill-color);\n",
              "    }\n",
              "    60% {\n",
              "      border-color: transparent;\n",
              "      border-right-color: var(--fill-color);\n",
              "    }\n",
              "    80% {\n",
              "      border-color: transparent;\n",
              "      border-right-color: var(--fill-color);\n",
              "      border-bottom-color: var(--fill-color);\n",
              "    }\n",
              "    90% {\n",
              "      border-color: transparent;\n",
              "      border-bottom-color: var(--fill-color);\n",
              "    }\n",
              "  }\n",
              "</style>\n",
              "\n",
              "      <script>\n",
              "        async function quickchart(key) {\n",
              "          const quickchartButtonEl =\n",
              "            document.querySelector('#' + key + ' button');\n",
              "          quickchartButtonEl.disabled = true;  // To prevent multiple clicks.\n",
              "          quickchartButtonEl.classList.add('colab-df-spinner');\n",
              "          try {\n",
              "            const charts = await google.colab.kernel.invokeFunction(\n",
              "                'suggestCharts', [key], {});\n",
              "          } catch (error) {\n",
              "            console.error('Error during call to suggestCharts:', error);\n",
              "          }\n",
              "          quickchartButtonEl.classList.remove('colab-df-spinner');\n",
              "          quickchartButtonEl.classList.add('colab-df-quickchart-complete');\n",
              "        }\n",
              "        (() => {\n",
              "          let quickchartButtonEl =\n",
              "            document.querySelector('#df-a4675d88-b09f-47ad-a9e7-9175f7c68eab button');\n",
              "          quickchartButtonEl.style.display =\n",
              "            google.colab.kernel.accessAllowed ? 'block' : 'none';\n",
              "        })();\n",
              "      </script>\n",
              "    </div>\n",
              "\n",
              "    </div>\n",
              "  </div>\n"
            ],
            "application/vnd.google.colaboratory.intrinsic+json": {
              "type": "dataframe",
              "summary": "{\n  \"name\": \"data_1\",\n  \"rows\": 10,\n  \"fields\": [\n    {\n      \"column\": \"index\",\n      \"properties\": {\n        \"dtype\": \"number\",\n        \"std\": 3,\n        \"min\": 3635190,\n        \"max\": 3635199,\n        \"num_unique_values\": 10,\n        \"samples\": [\n          3635198,\n          3635191,\n          3635195\n        ],\n        \"semantic_type\": \"\",\n        \"description\": \"\"\n      }\n    },\n    {\n      \"column\": \"Condition\",\n      \"properties\": {\n        \"dtype\": \"category\",\n        \"num_unique_values\": 1,\n        \"samples\": [\n          \"normal\"\n        ],\n        \"semantic_type\": \"\",\n        \"description\": \"\"\n      }\n    },\n    {\n      \"column\": \"x_data/g\",\n      \"properties\": {\n        \"dtype\": \"number\",\n        \"std\": 1.2982466808909794,\n        \"min\": -1.6,\n        \"max\": 2.7,\n        \"num_unique_values\": 10,\n        \"samples\": [\n          -0.8\n        ],\n        \"semantic_type\": \"\",\n        \"description\": \"\"\n      }\n    }\n  ]\n}"
            }
          },
          "metadata": {},
          "execution_count": 12
        }
      ],
      "source": [
        "data_1.tail(10)"
      ]
    },
    {
      "cell_type": "code",
      "execution_count": null,
      "metadata": {
        "colab": {
          "base_uri": "https://localhost:8080/"
        },
        "id": "x2J0gLYQCnLe",
        "outputId": "eca1be27-2632-42f6-83f8-4a0bdd25ffa1"
      },
      "outputs": [
        {
          "output_type": "stream",
          "name": "stdout",
          "text": [
            "       Condition  x_axis  y_axis  z_axis\n",
            "index                                   \n",
            "0              0    -0.4    -0.6    -0.0\n",
            "1              0    -0.4    -0.3    -0.1\n",
            "2              0    -0.6    -0.1    -0.1\n",
            "3              0    -0.2    -0.2     0.1\n",
            "4              0     0.3    -0.5     0.1\n",
            "...          ...     ...     ...     ...\n",
            "995            0     0.9     1.1     0.3\n",
            "996            0     0.1     0.3    -0.0\n",
            "997            0    -0.8    -0.1    -0.2\n",
            "998            0    -1.9     0.3    -0.1\n",
            "999            0    -1.6    -0.4    -0.1\n",
            "\n",
            "[1000 rows x 4 columns]\n"
          ]
        }
      ],
      "source": [
        "# Merge X, Y, and Z axis data on the same index (drop duplicate 'Condition' columns)\n",
        "merged_data = pd.concat([data_1, data_2.drop('Condition', axis=1), data_3.drop('Condition', axis=1)], axis=1)\n",
        "\n",
        "# Rename columns for clarity\n",
        "merged_data.columns = ['Condition', 'x_axis', 'y_axis', 'z_axis']\n",
        "\n",
        "# Encode 'Condition' as numerical labels (0 for Failure, 1 for Normal)\n",
        "merged_data['Condition'] = merged_data['Condition'].map({'failure': 0, 'normal': 1})\n",
        "\n",
        "# Check the merged data\n",
        "print(merged_data.head(1000))\n",
        "\n",
        "# Save the final merged data for future use\n",
        "#merged_data.to_csv('merged_vibration_data.csv', index=True)"
      ]
    },
    {
      "cell_type": "code",
      "execution_count": null,
      "metadata": {
        "colab": {
          "base_uri": "https://localhost:8080/"
        },
        "id": "fWc9Px5gGZDv",
        "outputId": "d570199a-6482-44d4-b587-09b80fb39f26"
      },
      "outputs": [
        {
          "output_type": "stream",
          "name": "stdout",
          "text": [
            "Number of 0 values (Failure) in 'Condition' column: 6231040\n"
          ]
        }
      ],
      "source": [
        "\n",
        "\n",
        "# Count for the number of 0 values in the 'Condition' column\n",
        "zero_count = (merged_data['Condition'] == 0).sum()\n",
        "print(f\"Number of 0 values (Failure) in 'Condition' column: {zero_count}\")\n"
      ]
    },
    {
      "cell_type": "code",
      "execution_count": null,
      "metadata": {
        "colab": {
          "base_uri": "https://localhost:8080/"
        },
        "id": "Nwfwpq0BHFbO",
        "outputId": "3001fee9-1bfb-421b-f494-d960887fcb85"
      },
      "outputs": [
        {
          "output_type": "stream",
          "name": "stdout",
          "text": [
            "Number of 1 values (Normal) in 'Condition' column: 3635200\n"
          ]
        }
      ],
      "source": [
        "one_count= (merged_data['Condition'] == 1).sum()\n",
        "print(f\"Number of 1 values (Normal) in 'Condition' column: {one_count}\")"
      ]
    },
    {
      "cell_type": "code",
      "execution_count": null,
      "metadata": {
        "colab": {
          "base_uri": "https://localhost:8080/"
        },
        "id": "dJHFGo9AH_3r",
        "outputId": "9cf53c7a-d676-47ee-aab0-f7a7ee284092"
      },
      "outputs": [
        {
          "output_type": "stream",
          "name": "stdout",
          "text": [
            "Shape of failure_df: (6231040, 4)\n",
            "Shape of normal_df: (3635200, 4)\n"
          ]
        }
      ],
      "source": [
        "\n",
        "# Split the merged data into two dataframes based on the 'Condition' column\n",
        "failure_data_merged = merged_data[merged_data['Condition'] == 0]\n",
        "normal_data_merged= merged_data[merged_data['Condition'] == 1]\n",
        "\n",
        "# Print the shapes of the new dataframes to verify the split\n",
        "print(\"Shape of failure_df:\", failure_data_merged.shape)\n",
        "print(\"Shape of normal_df:\", normal_data_merged.shape)\n"
      ]
    },
    {
      "cell_type": "code",
      "execution_count": null,
      "metadata": {
        "colab": {
          "base_uri": "https://localhost:8080/",
          "height": 448
        },
        "id": "jf_LwcPtNLEp",
        "outputId": "05c20f1c-f3fc-4112-e105-2b6c2fbec399"
      },
      "outputs": [
        {
          "output_type": "display_data",
          "data": {
            "text/plain": [
              "<Figure size 640x480 with 1 Axes>"
            ],
            "image/png": "[encoded data removed]"
          },
          "metadata": {}
        }
      ],
      "source": [
        "plt.plot(failure_data_merged['x_axis'])\n",
        "plt.show()\n",
        "#np.unique(failure_data_merged['x_axis']-failure_x)"
      ]
    },
    {
      "cell_type": "code",
      "execution_count": null,
      "metadata": {
        "id": "r7a9ZhucJRS_"
      },
      "outputs": [],
      "source": [
        "# Saving the final merged data for future use\n",
        "#failure_data_merged.to_csv('failure_data.csv', index=True)"
      ]
    },
    {
      "cell_type": "code",
      "execution_count": null,
      "metadata": {
        "colab": {
          "base_uri": "https://localhost:8080/"
        },
        "id": "rCw-z5slKOQo",
        "outputId": "d1814a0a-1083-4820-8ba4-01db4339fa08"
      },
      "outputs": [
        {
          "output_type": "execute_result",
          "data": {
            "text/plain": [
              "(6231040, 4)"
            ]
          },
          "metadata": {},
          "execution_count": 19
        }
      ],
      "source": [
        "failure_data_merged.shape"
      ]
    },
    {
      "cell_type": "code",
      "execution_count": null,
      "metadata": {
        "colab": {
          "base_uri": "https://localhost:8080/"
        },
        "id": "cfH4gGWrKSVE",
        "outputId": "54578447-8050-4bf7-b2d9-93a730d017d6"
      },
      "outputs": [
        {
          "output_type": "execute_result",
          "data": {
            "text/plain": [
              "(3635200, 4)"
            ]
          },
          "metadata": {},
          "execution_count": 20
        }
      ],
      "source": [
        "normal_data_merged.shape"
      ]
    },
    {
      "cell_type": "code",
      "execution_count": null,
      "metadata": {
        "id": "69t92Mk-HXLj"
      },
      "outputs": [],
      "source": [
        "\n",
        "def energy(df):\n",
        "  \"\"\"\n",
        "  Calculateing the sum of squares of 'x_axis', 'y_axis', and 'z_axis' columns.\n",
        "\n",
        "  Args:\n",
        "    df: A pandas DataFrame with 'x_axis', 'y_axis', and 'z_axis' columns.\n",
        "\n",
        "  Returns:\n",
        "    A float representing the sum of squares.\n",
        "  \"\"\"\n",
        "  return ((df['x_axis'] ** 2) + (df['y_axis'] ** 2) + (df['z_axis'] ** 2)).sum()\n"
      ]
    },
    {
      "cell_type": "code",
      "execution_count": null,
      "metadata": {
        "id": "aIAv8ky7Kkl3"
      },
      "outputs": [],
      "source": [
        "\n",
        "\n",
        "def slice(start_index):\n",
        "\n",
        "  if start_index < 0 or start_index >= len(failure_data_merged):\n",
        "    print(\"Invalid start index.\")\n",
        "    return None\n",
        "\n",
        "  end_index = min(start_index + 1024, len(failure_data_merged))\n",
        "  return failure_data_merged.iloc[start_index:end_index].drop(columns=['Condition'])\n"
      ]
    },
    {
      "cell_type": "code",
      "execution_count": null,
      "metadata": {
        "id": "mFFbIGBMay2G"
      },
      "outputs": [],
      "source": [
        "def slice_fn(start_index):\n",
        "  \"\"\"\n",
        "  Slices the failure_data_merged DataFrame.\n",
        "\n",
        "  Args:\n",
        "    start_index: The starting index for the slice.\n",
        "\n",
        "  Returns:\n",
        "    A Pandas DataFrame containing 1024 rows starting from start_index.\n",
        "    Returns None if the start_index is invalid.\n",
        "  \"\"\"\n",
        "  if start_index < 0 or start_index >= len(normal_data_merged):\n",
        "    print(\"Invalid start index.\")\n",
        "    return None\n",
        "\n",
        "  end_index = min(start_index + 1024, len(normal_data_merged))\n",
        "  return normal_data_merged.iloc[start_index:end_index].drop(columns=['Condition'])\n"
      ]
    },
    {
      "cell_type": "code",
      "execution_count": null,
      "metadata": {
        "id": "Meh0xyzvL2cp"
      },
      "outputs": [],
      "source": [
        "\n",
        "\n",
        "def dataframe_to_numpy(df):\n",
        "  \"\"\"Converts a Pandas DataFrame to a NumPy array.\n",
        "\n",
        "  Args:\n",
        "    df: The input Pandas DataFrame.\n",
        "\n",
        "  Returns:\n",
        "    A NumPy array representing the DataFrame's data, or None if an error occurs.\n",
        "  \"\"\"\n",
        "  try:\n",
        "    return df.to_numpy()\n",
        "  except Exception as e:\n",
        "    print(f\"Error converting DataFrame to NumPy array: {e}\")\n",
        "    return None\n"
      ]
    },
    {
      "cell_type": "code",
      "execution_count": null,
      "metadata": {
        "id": "LrpYWelWLcPQ"
      },
      "outputs": [],
      "source": [
        "\n",
        "\n",
        "import numpy as np\n",
        "\n",
        "failure_3d_array = []\n",
        "normal_3d_array= []\n"
      ]
    },
    {
      "cell_type": "code",
      "execution_count": null,
      "metadata": {
        "id": "7RM49fvVAQqG"
      },
      "outputs": [],
      "source": [
        "#for i in random.sample(range(1, len(failure_data_merged)-1024), 10000):\n",
        "  #if energy(slice(i)) >= 0.1:\n",
        "    #failure_3d_array.append(slice(i).to_numpy())"
      ]
    },
    {
      "cell_type": "code",
      "execution_count": null,
      "metadata": {
        "id": "TlX8Ze3164Kt"
      },
      "outputs": [],
      "source": [
        "\n",
        "#   if energy(slice(i)) >= 0.1:\n",
        "#     failure_3d_array.append(slice(i).to_numpy())\n",
        "# change this, add break or some functionn such that after the loop i should get 10000 values in the array\n",
        "\n",
        "failure_3d_array = []\n",
        "count = 0\n",
        "for i in random.sample(range(1, len(failure_data_merged) - 1024), 20000):\n",
        "    if energy(slice(i)) >= 0.1:\n",
        "        failure_3d_array.append(slice(i).to_numpy())\n",
        "        count += 1\n",
        "    if count == 10000:\n",
        "        break\n"
      ]
    },
    {
      "cell_type": "code",
      "execution_count": null,
      "metadata": {
        "id": "8_TC117Ns4pH"
      },
      "outputs": [],
      "source": [
        "failure_3d_array=np.array(failure_3d_array)"
      ]
    },
    {
      "cell_type": "code",
      "execution_count": null,
      "metadata": {
        "colab": {
          "base_uri": "https://localhost:8080/"
        },
        "id": "KiBPORGFtRoG",
        "outputId": "0c884edf-c7a2-4f12-ff18-903cd9c22f7f"
      },
      "outputs": [
        {
          "output_type": "execute_result",
          "data": {
            "text/plain": [
              "(10000, 1024, 3)"
            ]
          },
          "metadata": {},
          "execution_count": 29
        }
      ],
      "source": [
        "failure_3d_array.shape"
      ]
    },
    {
      "cell_type": "code",
      "execution_count": null,
      "metadata": {
        "id": "7gALcbmgtsII"
      },
      "outputs": [],
      "source": [
        "normal_3d_array = []\n",
        "count = 0\n",
        "for i in random.sample(range(1, len(normal_data_merged) - 1024), 20000):\n",
        "    if energy(slice_fn(i)) >= 0.1:\n",
        "        normal_3d_array.append(slice_fn(i).to_numpy())\n",
        "        count += 1\n",
        "    if count == 10000:\n",
        "        break\n"
      ]
    },
    {
      "cell_type": "code",
      "execution_count": null,
      "metadata": {
        "id": "OytWX7-1vLi-"
      },
      "outputs": [],
      "source": [
        "normal_3d_array=np.array(normal_3d_array)"
      ]
    },
    {
      "cell_type": "code",
      "execution_count": null,
      "metadata": {
        "colab": {
          "base_uri": "https://localhost:8080/"
        },
        "id": "z2Y37g8SvSFV",
        "outputId": "28d65c14-d517-40ef-f0a3-114cee3e470c"
      },
      "outputs": [
        {
          "output_type": "execute_result",
          "data": {
            "text/plain": [
              "(10000, 1024, 3)"
            ]
          },
          "metadata": {},
          "execution_count": 32
        }
      ],
      "source": [
        "normal_3d_array.shape"
      ]
    },
    {
      "cell_type": "code",
      "execution_count": null,
      "metadata": {
        "id": "_fKLmHoQ83m1"
      },
      "outputs": [],
      "source": [
        "# np.save('/content/normal_3d_array_update.npy', normal_3d_array)\n",
        "# np.save('/content/failure_3d_array_update.npy', failure_3d_array)"
      ]
    },
    {
      "cell_type": "markdown",
      "metadata": {
        "id": "O4QI2L-95Lum"
      },
      "source": [
        "\n",
        "\n",
        "---\n",
        "\n"
      ]
    },
    {
      "cell_type": "code",
      "execution_count": null,
      "metadata": {
        "colab": {
          "base_uri": "https://localhost:8080/"
        },
        "id": "dWTeK_EA5LSk",
        "outputId": "07e44622-4692-417a-82f2-500575d09efb"
      },
      "outputs": [
        {
          "output_type": "stream",
          "name": "stdout",
          "text": [
            "(10000, 1024, 3)\n",
            "(10000, 1024, 3)\n"
          ]
        }
      ],
      "source": [
        "import numpy as np\n",
        "\n",
        "# normal_array = np.load('/content/normal_3d_array_update.npy', mmap_mode='r')\n",
        "# failure_array = np.load('/content/failure_3d_array_update.npy', mmap_mode='r')\n",
        "\n",
        "print(normal_3d_array.shape)\n",
        "print(failure_3d_array.shape)"
      ]
    },
    {
      "cell_type": "markdown",
      "metadata": {
        "id": "4MAH6_P35KVH"
      },
      "source": [
        "\n",
        "\n",
        "---\n",
        "\n"
      ]
    },
    {
      "cell_type": "markdown",
      "metadata": {
        "id": "d9l0mH9oxV5B"
      },
      "source": [
        "**STEP 2**\n"
      ]
    },
    {
      "cell_type": "code",
      "execution_count": null,
      "metadata": {
        "id": "UQK1njVbvVfl"
      },
      "outputs": [],
      "source": [
        "normal_3d_array=normal_3d_array.transpose(0,2,1)\n",
        "failure_3d_array=failure_3d_array.transpose(0,2,1)\n",
        "\n",
        "\n",
        "\n"
      ]
    },
    {
      "cell_type": "code",
      "source": [
        "failure_3d_array.shape\n"
      ],
      "metadata": {
        "colab": {
          "base_uri": "https://localhost:8080/"
        },
        "id": "jofdJHrwPMU8",
        "outputId": "db66ea55-3c97-405d-a6d8-f778db5b4c46"
      },
      "execution_count": null,
      "outputs": [
        {
          "output_type": "execute_result",
          "data": {
            "text/plain": [
              "(10000, 3, 1024)"
            ]
          },
          "metadata": {},
          "execution_count": 36
        }
      ]
    },
    {
      "cell_type": "code",
      "source": [
        "normal_3d_array.shape"
      ],
      "metadata": {
        "colab": {
          "base_uri": "https://localhost:8080/"
        },
        "id": "mrLHgJABQXYi",
        "outputId": "67507aef-c7f8-4064-b092-f54a2ecf1613"
      },
      "execution_count": null,
      "outputs": [
        {
          "output_type": "execute_result",
          "data": {
            "text/plain": [
              "(10000, 3, 1024)"
            ]
          },
          "metadata": {},
          "execution_count": 37
        }
      ]
    },
    {
      "cell_type": "code",
      "source": [
        "\n",
        "\n",
        "#saving them\n",
        "np.save('failure_3d_array.npy', failure_3d_array)\n",
        "np.save('normal_3d_array.npy', normal_3d_array)"
      ],
      "metadata": {
        "id": "T_0LPHYAP-3q"
      },
      "execution_count": null,
      "outputs": []
    },
    {
      "cell_type": "code",
      "execution_count": null,
      "metadata": {
        "id": "j7u9Hx950frc"
      },
      "outputs": [],
      "source": [
        "from collections.abc import ItemsView\n",
        "\n",
        "\n",
        "class Dataset:\n",
        "    def __init__(self, normal_array_path, failure_array_path):\n",
        "        self.normal_array = np.load(normal_array_path, mmap_mode='r')\n",
        "        self.failure_array = np.load(failure_array_path, mmap_mode='r')\n",
        "\n",
        "    def __len__(self):\n",
        "        return len(self.normal_array) + len(self.failure_array)\n",
        "\n",
        "    def __getitem__(self, idx):\n",
        "        if idx<len(self.normal_array):\n",
        "          data=self.normal_array[idx,:,:]\n",
        "          label=1\n",
        "        if idx>=len(self.normal_array):\n",
        "          data=self.failure_array[idx-len(self.normal_array),:,:]\n",
        "          label=0\n",
        "        return data,label\n",
        "\n",
        "\n",
        "\n"
      ]
    },
    {
      "cell_type": "code",
      "execution_count": null,
      "metadata": {
        "colab": {
          "base_uri": "https://localhost:8080/"
        },
        "collapsed": true,
        "id": "nmsfh_pYd44_",
        "outputId": "da7c0cc9-bae0-4436-a3c4-11b1b1fd6290"
      },
      "outputs": [
        {
          "output_type": "stream",
          "name": "stdout",
          "text": [
            "Batch 0: Data shape: torch.Size([100, 3, 1024]), Labels shape: torch.Size([100])\n",
            "Time taken 0.07371234893798828\n"
          ]
        },
        {
          "output_type": "stream",
          "name": "stderr",
          "text": [
            "/usr/local/lib/python3.11/dist-packages/torch/utils/data/_utils/collate.py:285: UserWarning: The given NumPy array is not writable, and PyTorch does not support non-writable tensors. This means writing to this tensor will result in undefined behavior. You may want to copy the array to protect its data or make it writable before converting it to a tensor. This type of warning will be suppressed for the rest of this program. (Triggered internally at /pytorch/torch/csrc/utils/tensor_numpy.cpp:203.)\n",
            "  return collate([torch.as_tensor(b) for b in batch], collate_fn_map=collate_fn_map)\n"
          ]
        }
      ],
      "source": [
        "\n",
        "from torch.utils.data import DataLoader\n",
        "\n",
        "import time\n",
        "\n",
        "start= time.time()\n",
        "### Your code goes here #################################################################################################\n",
        "\n",
        "\n",
        "\n",
        "\n",
        "# Create the dataset\n",
        "dataset = Dataset('/content/normal_3d_array.npy', '/content/failure_3d_array.npy')\n",
        "\n",
        "# Create a DataLoader\n",
        "batch_size = 100\n",
        "dataloader = DataLoader(dataset, batch_size=batch_size, shuffle=False)\n",
        "\n",
        "# Iterate through the DataLoader\n",
        "for batch_idx, (data, labels) in enumerate(dataloader):\n",
        "    print(f\"Batch {batch_idx}: Data shape: {data.shape}, Labels shape: {labels.shape}\")\n",
        "    # Now you have batches of data and labels ready for your model\n",
        "    #model training code here ...\n",
        "    break #remove to run through the entire dataloader\n",
        "\n",
        "#################################################################################################################################\n",
        "\n",
        "end = time.time()\n",
        "print(\"Time taken\", end- start)\n"
      ]
    },
    {
      "cell_type": "code",
      "execution_count": null,
      "metadata": {
        "colab": {
          "base_uri": "https://localhost:8080/"
        },
        "id": "OKcdNKUjMRCj",
        "outputId": "d139e35f-dee9-4a1d-9908-a27f711197ef"
      },
      "outputs": [
        {
          "output_type": "stream",
          "name": "stdout",
          "text": [
            "y_train memory occupied: 56 bytes\n"
          ]
        }
      ],
      "source": [
        "#checking the size of the file in memory\n",
        "import sys\n",
        "print(f'y_train memory occupied: {sys.getsizeof(dataset)} bytes')"
      ]
    },
    {
      "cell_type": "code",
      "execution_count": null,
      "metadata": {
        "id": "EBYw9f9sAgbn"
      },
      "outputs": [],
      "source": [
        "\n",
        "\n",
        "class ConvNet(nn.Module):\n",
        "    def __init__(self, in_channels=3):\n",
        "        super(ConvNet, self).__init__()\n",
        "        self.conv1 = nn.Conv1d(in_channels, 32, kernel_size=3, padding=1)\n",
        "        self.relu1 = nn.ReLU()\n",
        "        self.pool1 = nn.MaxPool1d(kernel_size=2)\n",
        "        self.conv2 = nn.Conv1d(32, 64, kernel_size=3, padding=1)\n",
        "        self.relu2 = nn.ReLU()\n",
        "        self.pool2 = nn.MaxPool1d(kernel_size=2)\n",
        "        self.fc1 = nn.Linear(64 * 256, 128) # Adjust input size based on pooling\n",
        "        self.relu3 = nn.ReLU()\n",
        "        self.fc2 = nn.Linear(128, 1) # Output size 1 for binary classification\n",
        "        self.sigmoid = nn.Sigmoid()\n",
        "\n",
        "\n",
        "    def forward(self, x):\n",
        "        x = self.pool1(self.relu1(self.conv1(x)))\n",
        "        x = self.pool2(self.relu2(self.conv2(x)))\n",
        "        x = x.view(-1, 64 * 256)  # Adjust input size based on pooling\n",
        "        x = self.relu3(self.fc1(x))\n",
        "        x = self.sigmoid(self.fc2(x))\n",
        "        return x\n",
        "\n",
        "\n",
        "model = ConvNet()\n",
        "#print(model(failure_tensor).shape) # Now it should print a valid shape\n",
        "# Example forward pass (replace with our actual input)\n",
        "#output = model(failure_tensor[0].unsqueeze(0))  # Unsqueezingto add a batch dimension\n",
        "#print(output)\n",
        "\n",
        "\n",
        "\n",
        "# Example usage (assuming your data is in 'failure_array'):\n",
        "# Reshape the data to (samples, channels, length)\n",
        "#failure_array = failure_array.reshape(failure_array.shape[0], 3, 1024) # Correct the reshape\n",
        "#normal_array = normal_array.reshape(normal_array.shape[0], 3, 1024)\n",
        "\n",
        "# Convert NumPy arrays to PyTorch tensors\n",
        "#failure_tensor = torch.tensor(failure_array, dtype=torch.float32)\n",
        "# Instantiate the model"
      ]
    },
    {
      "cell_type": "code",
      "execution_count": null,
      "metadata": {
        "id": "0x7xDe8Ye9Ky"
      },
      "outputs": [],
      "source": [
        "\n",
        "\n",
        "# # Reshape your data to have the correct dimensions for the CNN\n",
        "# failure_array = failure_array.reshape(failure_array.shape[0], 3, 1024)\n",
        "\n",
        "# # Select a single sample to pass to the model\n",
        "# x = failure_array[0]\n",
        "\n",
        "# # Pass the data to the model and print the output size\n",
        "# print(model(torch.tensor(x, dtype=torch.float32)).size())\n"
      ]
    },
    {
      "cell_type": "code",
      "execution_count": null,
      "metadata": {
        "collapsed": true,
        "id": "l4eYIUTYkzXi"
      },
      "outputs": [],
      "source": [
        "\n",
        "# import torch\n",
        "# import torch.nn as nn\n",
        "import torch.optim as optim\n",
        "from torch.utils.data import DataLoader, random_split\n",
        "from sklearn.metrics import accuracy_score, confusion_matrix\n",
        "import numpy as np\n",
        "import seaborn as sns\n",
        "import matplotlib.pyplot as plt\n",
        "\n",
        "\n",
        "# Split the dataset into training and testing sets\n",
        "test_size = int(0.2 * len(dataset))\n",
        "train_size = len(dataset) - test_size\n",
        "train_dataset, test_dataset = random_split(dataset, [train_size, test_size])\n",
        "\n",
        "\n",
        "# # Create DataLoaders\n",
        "\n",
        "train_loader = DataLoader(train_dataset, batch_size=batch_size, shuffle=True)\n",
        "test_loader = DataLoader(test_dataset, batch_size=batch_size, shuffle=False)\n",
        "\n",
        "# # Instantiate the model, optimizer, and loss function\n",
        "# model = ConvNet()\n",
        "optimizer = optim.Adam(model.parameters())\n",
        "criterion = nn.BCELoss()  # Binary Cross-Entropy Loss\n"
      ]
    },
    {
      "cell_type": "code",
      "source": [],
      "metadata": {
        "id": "EpPpHURxTpac"
      },
      "execution_count": null,
      "outputs": []
    },
    {
      "cell_type": "code",
      "source": [
        "#Training loop with early stopping\n",
        "num_epochs = 10  #Adjust as needed\n",
        "patience = 1  #Number of epochs with no improvement after which training will be stopped\n",
        "best_accuracy = 0\n",
        "epochs_no_improve = 0\n",
        "\n",
        "# Training\n",
        "train_losses = []\n",
        "train_accuracies = []\n",
        "test_losses = []\n",
        "test_accuracies = []\n",
        "\n",
        "for epoch in range(num_epochs):\n",
        "    model.train()\n",
        "    train_loss = 0\n",
        "    correct_train = 0\n",
        "    total_train = 0\n",
        "    for data, labels in train_loader:\n",
        "        #data = data.to(torch.complex64)\n",
        "        data = data.float()\n",
        "        labels = labels.float().unsqueeze(1)  # convert labels to float and unsqueeze\n",
        "        # print(f\"Batch {batch_idx} - Data shape: {data.shape}, Labels shape: {labels.shape}, Data type: {data.dtype}, Labels shape: {labels.dtype}\")\n",
        "\n",
        "        optimizer.zero_grad()\n",
        "        outputs = model(data)\n",
        "        loss = criterion(outputs, labels)\n",
        "        loss.backward()\n",
        "        optimizer.step()\n",
        "\n",
        "        train_loss += loss.item()\n",
        "        predicted = (outputs > 0.5).float()\n",
        "        total_train += labels.size(0)\n",
        "        correct_train += (predicted == labels).sum().item()\n",
        "\n",
        "    train_accuracy = 100 * correct_train / total_train\n",
        "    train_losses.append(train_loss / len(train_loader))\n",
        "    train_accuracies.append(train_accuracy)\n",
        "\n",
        "    # Evaluation\n",
        "    model.eval()\n",
        "    test_loss = 0\n",
        "    correct_test = 0\n",
        "    total_test = 0\n",
        "    all_predictions = []\n",
        "    all_labels = []\n",
        "    with torch.no_grad():\n",
        "        for data, labels in test_loader:\n",
        "            data = data.float()  # convert data to float\n",
        "            #data = data.to(torch.complex64)\n",
        "            labels = labels.float().unsqueeze(1)  # convert labels to float and unsqueeze\n",
        "            outputs = model(data)\n",
        "            loss = criterion(outputs, labels)\n",
        "            test_loss += loss.item()\n",
        "            predictions = (outputs > 0.5).float()  # convert output to 0,1 values\n",
        "            all_predictions.extend(predictions.cpu().numpy())\n",
        "            all_labels.extend(labels.cpu().numpy())\n",
        "            total_test += labels.size(0)\n",
        "            correct_test += (predictions == labels).sum().item()\n",
        "\n",
        "    test_accuracy = 100 * correct_test / total_test\n",
        "    test_losses.append(test_loss / len(test_loader))\n",
        "    test_accuracies.append(test_accuracy)\n",
        "\n",
        "\n",
        "    print(f\"Epoch {epoch+1}/{num_epochs}, \"\n",
        "          f\"Train Loss: {train_losses[-1]:.4f}, Train Acc: {train_accuracies[-1]:.2f}%, \"\n",
        "          f\"Test Loss: {test_losses[-1]:.4f}, Test Acc: {test_accuracies[-1]:.2f}%\")\n",
        "\n",
        "\n",
        "\n",
        "     # Early stopping check\n",
        "    if test_accuracy > best_accuracy:\n",
        "        best_accuracy = test_accuracy\n",
        "        epochs_no_improve = 0\n",
        "        # Save the model weights\n",
        "        torch.save(model.state_dict(), 'best_model_weights.pth')\n",
        "    else:\n",
        "        epochs_no_improve += 1\n",
        "    if epochs_no_improve == patience:\n",
        "        print(f\"Early stopping at epoch {epoch+1}\")\n",
        "        break\n",
        "\n",
        "    # Confusion Matrix (optional - uncomment if you want to see it per epoch)\n",
        "    # cm = confusion_matrix(all_labels, all_predictions)\n",
        "    # plt.figure(figsize=(8, 6))\n",
        "    # sns.heatmap(cm, annot=True, fmt=\"d\", cmap=\"Blues\",\n",
        "    #             xticklabels=['Predicted Failure', 'Predicted Normal'],\n",
        "    #             yticklabels=['Actual Failure', 'Actual Normal'])\n",
        "    # plt.title(f\"Confusion Matrix - Epoch {epoch+1}\")\n",
        "    # plt.show()"
      ],
      "metadata": {
        "colab": {
          "base_uri": "https://localhost:8080/"
        },
        "id": "NIgJSgV6TnJi",
        "outputId": "7a943de4-ed0a-4554-f7db-aff30bee6393"
      },
      "execution_count": null,
      "outputs": [
        {
          "output_type": "stream",
          "name": "stdout",
          "text": [
            "Epoch 1/10, Train Loss: 0.4497, Train Acc: 79.69%, Test Loss: 0.3558, Test Acc: 84.28%\n",
            "Epoch 2/10, Train Loss: 0.3144, Train Acc: 86.43%, Test Loss: 0.2812, Test Acc: 87.65%\n",
            "Epoch 3/10, Train Loss: 0.2087, Train Acc: 92.89%, Test Loss: 0.1797, Test Acc: 94.03%\n",
            "Epoch 4/10, Train Loss: 0.1628, Train Acc: 94.45%, Test Loss: 0.1677, Test Acc: 94.55%\n",
            "Epoch 5/10, Train Loss: 0.1506, Train Acc: 94.81%, Test Loss: 0.1804, Test Acc: 93.85%\n",
            "Early stopping at epoch 5\n"
          ]
        }
      ]
    },
    {
      "cell_type": "code",
      "source": [
        "# Plot the loss vs epochs\n",
        "plt.plot(range(1, len(train_losses) + 1), train_losses, label='Train Loss')\n",
        "plt.plot(range(1, len(train_losses) + 1), test_losses, label='Test Loss')\n",
        "plt.xlabel('Epochs')\n",
        "plt.ylabel('Loss')\n",
        "plt.title('Loss vs Epochs')\n",
        "plt.legend()\n",
        "plt.show()\n"
      ],
      "metadata": {
        "colab": {
          "base_uri": "https://localhost:8080/",
          "height": 472
        },
        "id": "tViGXIJTTxR7",
        "outputId": "78c55597-7fd2-49b6-8a43-d1b9e3f25155"
      },
      "execution_count": null,
      "outputs": [
        {
          "output_type": "display_data",
          "data": {
            "text/plain": [
              "<Figure size 640x480 with 1 Axes>"
            ],
            "image/png": "[encoded data removed]"
          },
          "metadata": {}
        }
      ]
    },
    {
      "cell_type": "code",
      "source": [
        "\n",
        "\n",
        "#  ( existing code)\n",
        "\n",
        "# (modified to print confusion matrix only once)\n",
        "\n",
        "\n",
        "# Confusion Matrix (printed only once after all epochs)\n",
        "cm = confusion_matrix(all_labels, all_predictions)\n",
        "plt.figure(figsize=(8, 6))\n",
        "sns.heatmap(cm, annot=True, fmt=\"d\", cmap=\"Blues\",\n",
        "            xticklabels=['Predicted Failure', 'Predicted Normal'],\n",
        "            yticklabels=['Actual Failure', 'Actual Normal'])\n",
        "plt.title(\"Confusion Matrix - Final\") # Added - Final to indicate it is the last epoch\n",
        "plt.show()\n"
      ],
      "metadata": {
        "colab": {
          "base_uri": "https://localhost:8080/",
          "height": 545
        },
        "id": "clLEgrtGT0eF",
        "outputId": "85c05a32-464b-415c-db7c-584225211ede"
      },
      "execution_count": null,
      "outputs": [
        {
          "output_type": "display_data",
          "data": {
            "text/plain": [
              "<Figure size 800x600 with 2 Axes>"
            ],
            "image/png": "[encoded data removed]"
          },
          "metadata": {}
        }
      ]
    },
    {
      "cell_type": "code",
      "source": [
        "\n",
        "from sklearn.metrics import precision_score, recall_score, f1_score\n",
        "\n",
        "# Calculate precision, recall, and F1-score\n",
        "precision = precision_score(all_labels, all_predictions)\n",
        "recall = recall_score(all_labels, all_predictions)\n",
        "f1 = f1_score(all_labels, all_predictions)\n",
        "\n",
        "print(f\"\\nPrecision: {precision:.4f}\")\n",
        "print(f\"Recall: {recall:.4f}\")\n",
        "print(f\"F1-Score: {f1:.4f}\")"
      ],
      "metadata": {
        "colab": {
          "base_uri": "https://localhost:8080/"
        },
        "id": "KnrN__60Wbqw",
        "outputId": "c221e172-d8ee-4d83-f823-d9d0eda178c6"
      },
      "execution_count": null,
      "outputs": [
        {
          "output_type": "stream",
          "name": "stdout",
          "text": [
            "\n",
            "Precision: 0.9152\n",
            "Recall: 0.9691\n",
            "F1-Score: 0.9414\n"
          ]
        }
      ]
    },
    {
      "cell_type": "code",
      "source": [
        "# stop here"
      ],
      "metadata": {
        "id": "7WXMOMRPgm26"
      },
      "execution_count": null,
      "outputs": []
    },
    {
      "cell_type": "code",
      "source": [
        "# ###################################### ADDING THIS CODE CELL FOR WITH SEED CALCULATIONS ########################################\n",
        "\n",
        "# import torch\n",
        "# import torch.nn as nn\n",
        "# import torch.optim as optim\n",
        "# from torch.utils.data import DataLoader, random_split\n",
        "# import numpy as np\n",
        "# import matplotlib.pyplot as plt\n",
        "# import seaborn as sns\n",
        "# from sklearn.metrics import confusion_matrix, precision_score, recall_score, f1_score\n",
        "\n",
        "# seeds = [0, 1, 42, 1234, 10]\n",
        "# #seeds = [42, 1234, 10]\n",
        "\n",
        "# for seed in seeds:\n",
        "#     print(f\"\\nRunning training with seed: {seed}\")\n",
        "#     torch.manual_seed(seed)\n",
        "#     torch.cuda.manual_seed(seed)\n",
        "#     torch.backends.cudnn.deterministic = True\n",
        "#     torch.backends.cudnn.benchmark = False\n",
        "#     np.random.seed(seed)\n",
        "\n",
        "#     test_size = int(0.2 * len(dataset))\n",
        "#     train_size = len(dataset) - test_size\n",
        "#     train_dataset, test_dataset = random_split(dataset, [train_size, test_size])\n",
        "\n",
        "#     train_loader = DataLoader(train_dataset, batch_size=batch_size, shuffle=True)\n",
        "#     test_loader = DataLoader(test_dataset, batch_size=batch_size, shuffle=False)\n",
        "\n",
        "#     model = ConvNet()\n",
        "#     criterion = nn.BCEWithLogitsLoss()\n",
        "#     optimizer = optim.Adam(model.parameters(), lr=1e-3)\n",
        "\n",
        "#     num_epochs = 10\n",
        "#     patience = 5\n",
        "#     best_accuracy = 0\n",
        "#     epochs_no_improve = 0\n",
        "\n",
        "#     train_losses = []\n",
        "#     train_accuracies = []\n",
        "#     test_losses = []\n",
        "#     test_accuracies = []\n",
        "\n",
        "#     for epoch in range(num_epochs):\n",
        "#         model.train()\n",
        "#         train_loss = 0\n",
        "#         correct_train = 0\n",
        "#         total_train = 0\n",
        "\n",
        "#         for data, labels in train_loader:\n",
        "#             data = data.float()\n",
        "#             data = (data - data.mean(dim=-1, keepdim=True)) / (data.std(dim=-1, keepdim=True) + 1e-6)\n",
        "#             labels = labels.float().unsqueeze(1)\n",
        "\n",
        "#             optimizer.zero_grad()\n",
        "#             outputs = model(data)\n",
        "#             loss = criterion(outputs, labels)\n",
        "#             loss.backward()\n",
        "#             optimizer.step()\n",
        "\n",
        "#             train_loss += loss.item()\n",
        "#             predicted = (torch.sigmoid(outputs) > 0.5).float()\n",
        "#             total_train += labels.size(0)\n",
        "#             correct_train += (predicted == labels).sum().item()\n",
        "\n",
        "#         train_accuracy = 100 * correct_train / total_train\n",
        "#         train_losses.append(train_loss / len(train_loader))\n",
        "#         train_accuracies.append(train_accuracy)\n",
        "\n",
        "#         model.eval()\n",
        "#         test_loss = 0\n",
        "#         correct_test = 0\n",
        "#         total_test = 0\n",
        "#         all_predictions = []\n",
        "#         all_labels = []\n",
        "\n",
        "#         with torch.no_grad():\n",
        "#             for data, labels in test_loader:\n",
        "#                 if data.ndim == 2:\n",
        "#                     data = data.unsqueeze(1)\n",
        "#                 elif data.ndim == 4:\n",
        "#                     data = data.squeeze(1)\n",
        "#                 data = data.float()\n",
        "#                 data = (data - data.mean(dim=-1, keepdim=True)) / (data.std(dim=-1, keepdim=True) + 1e-6)\n",
        "#                 labels = labels.float().unsqueeze(1)\n",
        "\n",
        "#                 outputs = model(data)\n",
        "#                 loss = criterion(outputs, labels)\n",
        "#                 test_loss += loss.item()\n",
        "#                 predictions = (torch.sigmoid(outputs) > 0.5).float()\n",
        "#                 all_predictions.extend(predictions.cpu().numpy())\n",
        "#                 all_labels.extend(labels.cpu().numpy())\n",
        "#                 total_test += labels.size(0)\n",
        "#                 correct_test += (predictions == labels).sum().item()\n",
        "\n",
        "#         test_accuracy = 100 * correct_test / total_test\n",
        "#         test_losses.append(test_loss / len(test_loader))\n",
        "#         test_accuracies.append(test_accuracy)\n",
        "\n",
        "#         print(f\"Epoch {epoch+1}/{num_epochs}, \"\n",
        "#               f\"Train Loss: {train_losses[-1]:.4f}, Train Acc: {train_accuracies[-1]:.2f}%, \"\n",
        "#               f\"Test Loss: {test_losses[-1]:.4f}, Test Acc: {test_accuracies[-1]:.2f}%\")\n",
        "\n",
        "#         if test_accuracy > best_accuracy:\n",
        "#             best_accuracy = test_accuracy\n",
        "#             epochs_no_improve = 0\n",
        "#             torch.save(model.state_dict(), f'best_model_seed_{seed}.pth')\n",
        "#         else:\n",
        "#             epochs_no_improve += 1\n",
        "#             if epochs_no_improve == patience:\n",
        "#                 print(f\"Early stopping at epoch {epoch+1}\")\n",
        "#                 break\n",
        "\n",
        "#     plt.figure()\n",
        "#     plt.plot(range(1, len(train_losses) + 1), train_losses, label='Train Loss')\n",
        "#     plt.plot(range(1, len(test_losses) + 1), test_losses, label='Test Loss')\n",
        "#     plt.xlabel('Epochs')\n",
        "#     plt.ylabel('Loss')\n",
        "#     plt.title(f'Loss vs Epochs (Seed: {seed})')\n",
        "#     plt.legend()\n",
        "#     plt.show()\n",
        "\n",
        "#     cm = confusion_matrix(all_labels, all_predictions)\n",
        "#     plt.figure(figsize=(8, 6))\n",
        "#     sns.heatmap(cm, annot=True, fmt=\"d\", cmap=\"Blues\",\n",
        "#                 xticklabels=['Predicted Failure', 'Predicted Normal'],\n",
        "#                 yticklabels=['Actual Failure', 'Actual Normal'])\n",
        "#     plt.title(f\"Confusion Matrix - Final (Seed: {seed})\")\n",
        "#     plt.xlabel(\"Predicted Label\")\n",
        "#     plt.ylabel(\"True Label\")\n",
        "#     plt.show()\n",
        "\n",
        "#     precision = precision_score(all_labels, all_predictions)\n",
        "#     recall = recall_score(all_labels, all_predictions)\n",
        "#     f1 = f1_score(all_labels, all_predictions)\n",
        "\n",
        "#     print(f\"\\n[Metrics for Seed {seed}]\")\n",
        "#     print(f\"Precision: {precision:.4f}\")\n",
        "#     print(f\"Recall:    {recall:.4f}\")\n",
        "#     print(f\"F1-Score:  {f1:.4f}\")\n"
      ],
      "metadata": {
        "id": "XKzAj6QeMCPk"
      },
      "execution_count": null,
      "outputs": []
    },
    {
      "cell_type": "code",
      "source": [
        "# stop here"
      ],
      "metadata": {
        "id": "R4GTsDuJMM9A"
      },
      "execution_count": null,
      "outputs": []
    },
    {
      "cell_type": "code",
      "execution_count": null,
      "metadata": {
        "id": "wUzQ0JEEshh0"
      },
      "outputs": [],
      "source": [
        "# for seed in seeds:\n",
        "#     print(f\"\\nRunning training with seed: {seed}\")\n",
        "#     torch.manual_seed(seed)\n",
        "#     torch.cuda.manual_seed(seed)\n",
        "#     torch.backends.cudnn.deterministic = True\n",
        "#     torch.backends.cudnn.benchmark = False\n",
        "#     np.random.seed(seed)\n",
        "\n",
        "#     test_size = int(0.2 * len(dataset))\n",
        "#     train_size = len(dataset) - test_size\n",
        "#     train_dataset, test_dataset = random_split(dataset, [train_size, test_size])\n",
        "\n",
        "#     train_loader = DataLoader(train_dataset, batch_size=batch_size, shuffle=True)\n",
        "#     test_loader = DataLoader(test_dataset, batch_size=batch_size, shuffle=False)\n",
        "\n",
        "#     model = ConvNet()\n",
        "#     criterion = nn.BCEWithLogitsLoss()\n",
        "#     optimizer = optim.Adam(model.parameters(), lr=1e-3)\n",
        "\n",
        "#     # Training loop with early stopping\n",
        "#     num_epochs = 10  # Adj\n",
        "#     patience = 1  # Number of epochs with no improvement after which training will be stopped\n",
        "#     best_accuracy = 0\n",
        "#     epochs_no_improve = 0\n",
        "\n",
        "#     # Training\n",
        "#     train_losses = []\n",
        "#     train_accuracies = []\n",
        "#     test_losses = []\n",
        "#     test_accuracies = []\n",
        "\n",
        "#     for epoch in range(num_epochs):\n",
        "#         model.train()\n",
        "#         train_loss = 0\n",
        "#         correct_train = 0\n",
        "#         total_train = 0\n",
        "#             for data, labels in train_loader:\n",
        "#                 data = data.float()  # convert data to float\n",
        "#                 #data = data.to(torch.complex64)\n",
        "#                 labels = labels.float().unsqueeze(1)  # convert labels to float and unsqueeze\n",
        "#                 optimizer.zero_grad()\n",
        "#                 outputs = model(data)\n",
        "#                 loss = criterion(outputs, labels)\n",
        "#                 loss.backward()\n",
        "#                 optimizer.step()\n",
        "\n",
        "#                 train_loss += loss.item()\n",
        "#                 predicted = (outputs > 0.5).float()\n",
        "#                 total_train += labels.size(0)\n",
        "#                 correct_train += (predicted == labels).sum().item()\n",
        "\n",
        "#                 train_accuracy = 100 * correct_train / total_train\n",
        "#                 train_losses.append(train_loss / len(train_loader))\n",
        "#                 train_accuracies.append(train_accuracy)\n",
        "\n",
        "#                 # Evaluation\n",
        "#                 model.eval()\n",
        "#                 test_loss = 0\n",
        "#                 correct_test = 0\n",
        "#                 total_test = 0\n",
        "#                 all_predictions = []\n",
        "#                 all_labels = []\n",
        "#                 with torch.no_grad():\n",
        "#                     for data, labels in test_loader:\n",
        "#                         data = data.float()  # convert data to float\n",
        "#                         labels = labels.float().unsqueeze(1)  # convert labels to float and unsqueeze\n",
        "#                         outputs = model(data)\n",
        "#                         loss = criterion(outputs, labels)\n",
        "#                         test_loss += loss.item()\n",
        "#                         predictions = (outputs > 0.5).float()  # convert output to 0,1 values\n",
        "#                         all_predictions.extend(predictions.cpu().numpy())\n",
        "#                         all_labels.extend(labels.cpu().numpy())\n",
        "#                         total_test += labels.size(0)\n",
        "#                         correct_test += (predictions == labels).sum().item()\n",
        "\n",
        "#                 test_accuracy = 100 * correct_test / total_test\n",
        "#                 test_losses.append(test_loss / len(test_loader))\n",
        "#                 test_accuracies.append(test_accuracy)\n",
        "\n",
        "\n",
        "#         print(f\"Epoch {epoch+1}/{num_epochs}, \"\n",
        "#               f\"Train Loss: {train_losses[-1]:.4f}, Train Acc: {train_accuracies[-1]:.2f}%, \"\n",
        "#               f\"Test Loss: {test_losses[-1]:.4f}, Test Acc: {test_accuracies[-1]:.2f}%\")\n",
        "\n",
        "\n",
        "\n",
        "#         # Early stopping check\n",
        "#         if test_accuracy > best_accuracy:\n",
        "#             best_accuracy = test_accuracy\n",
        "#             epochs_no_improve = 0\n",
        "#             # Save the model weights\n",
        "#             torch.save(model.state_dict(), 'best_model_weights.pth')\n",
        "#         else:\n",
        "#             epochs_no_improve += 1\n",
        "#         if epochs_no_improve == patience:\n",
        "#             print(f\"Early stopping at epoch {epoch+1}\")\n",
        "#             break\n",
        "\n",
        "\n",
        "\n",
        "\n",
        "\n",
        "\n",
        "#     # Confusion Matrix (optional - uncomment if you want to see it per epoch)\n",
        "#     # cm = confusion_matrix(all_labels, all_predictions)\n",
        "#     # plt.figure(figsize=(8, 6))\n",
        "#     # sns.heatmap(cm, annot=True, fmt=\"d\", cmap=\"Blues\",\n",
        "#     #             xticklabels=['Predicted Failure', 'Predicted Normal'],\n",
        "#     #             yticklabels=['Actual Failure', 'Actual Normal'])\n",
        "#     # plt.title(f\"Confusion Matrix - Epoch {epoch+1}\")\n",
        "#     # plt.show()\n",
        "\n"
      ]
    },
    {
      "cell_type": "markdown",
      "metadata": {
        "id": "Zh2HMT_uz6PC"
      },
      "source": [
        "\n",
        "\n",
        "---\n",
        "\n"
      ]
    },
    {
      "cell_type": "markdown",
      "metadata": {
        "id": "-CS1aMGQ-djd"
      },
      "source": [
        "\n",
        "\n",
        "```\n",
        "# This is formatted as code\n",
        "```\n",
        "\n",
        "\n",
        "\n",
        "---\n",
        "**With Transform**\n",
        "\n",
        "---\n",
        "\n",
        "\n"
      ]
    },
    {
      "cell_type": "code",
      "execution_count": null,
      "metadata": {
        "id": "PmLG5hbqrbgo"
      },
      "outputs": [],
      "source": [
        "# #sample\n",
        "# import numpy as np\n",
        "# import matplotlib.pyplot as plt\n",
        "\n",
        "# def plot_fft_from_array(data_array, label, sample_rate=1024):\n",
        "#     plt.figure(figsize=(20, 18))\n",
        "\n",
        "#     num_samples, num_timesteps, num_channels = data_array.shape\n",
        "#     fft_freqs = np.fft.fftfreq(num_timesteps, d=1/sample_rate)\n",
        "#     for ch in range(num_channels):\n",
        "#         # plt.subplot(3, 1, ch + 1)\n",
        "#         for i in range(num_samples):\n",
        "#             signal = data_array[i, :, ch]\n",
        "#             fft_vals = np.fft.fft(signal)\n",
        "#             fft_db = 20 * np.log10(np.abs(fft_vals) + 1e-8)\n",
        "#             plt.plot(fft_freqs[:num_timesteps // 2] * sample_rate,\n",
        "#                      fft_db[:num_timesteps // 2], alpha=0.3)\n",
        "\n",
        "#         plt.title(f'{label} FFT of Channel {ch + 1}', fontsize=14)\n",
        "#         plt.xlabel('Frequency (Hz)', fontsize=12)\n",
        "#         plt.ylabel('Amplitude (dB)', fontsize=12)\n",
        "#         plt.legend([f'{label} Channel {ch + 1}'])\n",
        "#         plt.grid(False)\n",
        "\n",
        "#     plt.tight_layout(pad=3.0)\n",
        "#     plt.show()"
      ]
    },
    {
      "cell_type": "code",
      "execution_count": null,
      "metadata": {
        "id": "C34VdMNjWD-q"
      },
      "outputs": [],
      "source": [
        "from scipy.fft import dct  #\n",
        "from scipy.fft import dst"
      ]
    },
    {
      "cell_type": "code",
      "execution_count": null,
      "metadata": {
        "id": "tUACuD0YrxjV"
      },
      "outputs": [],
      "source": [
        "from collections.abc import ItemsView\n",
        "from scipy.signal import hilbert\n",
        "\n",
        "class Dataset_custom_transform(Dataset):\n",
        "    def __init__(self, normal_array_path, failure_array_path, preprocessing_flag = 'None'):\n",
        "        self.normal_array = np.load(normal_array_path, mmap_mode='r')\n",
        "        self.failure_array = np.load(failure_array_path, mmap_mode='r')\n",
        "        self.preprocessing_flag = preprocessing_flag\n",
        "\n",
        "    def fft_function(self, data):\n",
        "        num_channels, signal_length = data.shape\n",
        "        fft_data = np.zeros_like(data, dtype=complex)\n",
        "        for ch in range(num_channels):\n",
        "            fft_data[ch, :] = np.fft.fft(data[ch, :])\n",
        "        return fft_data\n",
        "\n",
        "\n",
        "    def hilbert_function(self, data, fs=400):\n",
        "        num_channels, signal_length = data.shape\n",
        "        hilbert_data = np.zeros_like(data, dtype=complex)\n",
        "        for ch in range(num_channels):\n",
        "            hilbert_data[ch, :] = hilbert(data[ch, :])\n",
        "        return hilbert_data\n",
        "\n",
        "    def dct_function(self, data):\n",
        "        num_channels, signal_length = data.shape\n",
        "        dct_data = np.zeros_like(data)\n",
        "        for ch in range(num_channels):\n",
        "            dct_data[ch, :] = dct(data[ch, :], type=2)  # Using DCT-II\n",
        "        return dct_data\n",
        "\n",
        "    def dst_function(self, data):\n",
        "        num_channels, signal_length = data.shape\n",
        "        dst_data = np.zeros_like(data)\n",
        "        for ch in range(num_channels):\n",
        "            dst_data[ch, :] = dst(data[ch, :], type=2)  # Using DST-II\n",
        "        return dst_data\n",
        "\n",
        "    def wavelet_function(self, data, wavelet='haar', level=1):\n",
        "        import pywt\n",
        "        num_channels, signal_length = data.shape\n",
        "        wavelet_data = []\n",
        "        for ch in range(num_channels):\n",
        "            coeffs = pywt.wavedec(data[ch, :].copy(), wavelet, level=level)\n",
        "            # We will concatenate the coefficients for each channel\n",
        "            wavelet_data.append(np.concatenate(coeffs))\n",
        "        # Pad or truncate to a consistent size if needed, or handle variable lengths\n",
        "        # For simplicity, we will just return the list of concatenated coefficients\n",
        "        # This might require adjustments depending on the CNN input requirements\n",
        "        # For a fixed output size, you might need padding/truncation\n",
        "        # Example of padding to the max length:\n",
        "        max_len = max(len(coeff_array) for coeff_array in wavelet_data)\n",
        "        padded_wavelet_data = np.zeros((num_channels, max_len))\n",
        "        for ch, coeff_array in enumerate(wavelet_data):\n",
        "            padded_wavelet_data[ch, :len(coeff_array)] = coeff_array\n",
        "\n",
        "        return padded_wavelet_data\n",
        "\n",
        "    def __len__(self):\n",
        "        return len(self.normal_array) + len(self.failure_array)\n",
        "\n",
        "    def preprocessing(self, data, preprocessing_flag):\n",
        "        if preprocessing_flag == 'FFT':\n",
        "            return self.fft_function(data)\n",
        "        elif preprocessing_flag == 'Hilbert':\n",
        "            return self.hilbert_function(data)\n",
        "        else:              # MMMR: Changed here. Not sure if it is necessary\n",
        "            return data\n",
        "\n",
        "    def preprocessing(self, data, preprocessing_flag):\n",
        "        if preprocessing_flag == 'FFT':\n",
        "            return self.fft_function(data)\n",
        "        elif preprocessing_flag == 'Hilbert':\n",
        "            return self.hilbert_function(data)\n",
        "        elif preprocessing_flag == 'DCT':\n",
        "            from scipy.fftpack import dct\n",
        "            return self.dct_function(data)\n",
        "        elif preprocessing_flag == 'DST':\n",
        "            from scipy.fftpack import dst\n",
        "            return self.dst_function(data)\n",
        "        elif preprocessing_flag == 'Wavelet':\n",
        "            # Making sure pywt is installed: !pip install PyWavelets\n",
        "            import pywt\n",
        "            return self.wavelet_function(data)\n",
        "        else:\n",
        "            return data\n",
        "\n",
        "    def __getitem__(self, idx):\n",
        "        if idx<len(self.normal_array):\n",
        "          data=self.normal_array[idx,:,:]\n",
        "          label=1\n",
        "        else:\n",
        "          data=self.failure_array[idx-len(self.normal_array),:,:]\n",
        "          label=0\n",
        "\n",
        "        final_data = self.preprocessing(data, self.preprocessing_flag)\n",
        "        return torch.from_numpy(final_data), torch.tensor(label)  # MMMR: Changed here. Not sure if it is necessary\n"
      ]
    },
    {
      "cell_type": "markdown",
      "source": [
        "**HILBERT :**"
      ],
      "metadata": {
        "id": "0XA54F78DCBN"
      }
    },
    {
      "cell_type": "code",
      "execution_count": null,
      "metadata": {
        "colab": {
          "base_uri": "https://localhost:8080/"
        },
        "id": "K0is8F6xsCh4",
        "outputId": "7f14909d-ed3a-49fc-aa6b-072271fe5ac9"
      },
      "outputs": [
        {
          "output_type": "stream",
          "name": "stdout",
          "text": [
            "Batch 0 - Data shape: torch.Size([100, 3, 1024]), Labels shape: torch.Size([100, 1]), Data type: torch.complex64, Labels shape: torch.float32\n",
            "Time taken 0.026547670364379883\n"
          ]
        }
      ],
      "source": [
        "from torch.utils.data import DataLoader\n",
        "import time\n",
        "\n",
        "start= time.time()\n",
        "### Your code goes here #################################################################################################\n",
        "\n",
        "\n",
        "# Create the dataset\n",
        "dataset = Dataset_custom_transform('/content/normal_3d_array.npy', '/content/failure_3d_array.npy', preprocessing_flag='Hilbert')\n",
        "\n",
        "# Create a DataLoader\n",
        "batch_size = 100\n",
        "dataloader = DataLoader(dataset, batch_size=batch_size, shuffle=False)\n",
        "\n",
        "# Iterate through the DataLoader\n",
        "for batch_idx, (data, labels) in enumerate(dataloader):\n",
        "    data = data.to(torch.complex64)\n",
        "    labels = labels.float().unsqueeze(1)\n",
        "    print(f\"Batch {batch_idx} - Data shape: {data.shape}, Labels shape: {labels.shape}, Data type: {data.dtype}, Labels shape: {labels.dtype}\")\n",
        "    # Now you have batches of data and labels ready for your model\n",
        "    # ... your model training code here ...\n",
        "    break #remove to run through the entire dataloader\n",
        "\n",
        "#################################################################################################################################\n",
        "\n",
        "end = time.time()\n",
        "print(\"Time taken\", end- start)\n",
        "\n",
        "\n"
      ]
    },
    {
      "cell_type": "code",
      "execution_count": null,
      "metadata": {
        "id": "-Mie97dYsEBb"
      },
      "outputs": [],
      "source": [
        "import torch\n",
        "import torch.nn as nn\n",
        "import torch.nn.functional as F\n",
        "\n",
        "class ComplexConv1D(nn.Module):\n",
        "    def __init__(self, in_channels, out_channels, kernel_size, padding=0):\n",
        "        super(ComplexConv1D, self).__init__()\n",
        "        self.real_conv = nn.Conv1d(in_channels, out_channels, kernel_size, padding=padding)\n",
        "        self.imag_conv = nn.Conv1d(in_channels, out_channels, kernel_size, padding=padding)\n",
        "\n",
        "    def forward(self, x):\n",
        "        real = x.real\n",
        "        imag = x.imag\n",
        "        real_out = self.real_conv(real) - self.imag_conv(imag)\n",
        "        imag_out = self.real_conv(imag) + self.imag_conv(real)\n",
        "        return torch.complex(real_out, imag_out)\n",
        "\n",
        "class ComplexReLU(nn.Module):\n",
        "    def forward(self, x):\n",
        "        return torch.complex(F.relu(x.real), F.relu(x.imag))\n",
        "\n",
        "\n",
        "class ComplexMaxPool1d(nn.Module):\n",
        "    def __init__(self, kernel_size, return_indices=True):\n",
        "        super(ComplexMaxPool1d, self).__init__()\n",
        "        self.pool = nn.MaxPool1d(kernel_size, return_indices=return_indices)\n",
        "        self.return_indices = return_indices\n",
        "\n",
        "    def forward(self, x):\n",
        "        # Max-pool based on magnitude\n",
        "        mag = torch.abs(x)\n",
        "\n",
        "        # Perform max pooling, optionally returning indices\n",
        "        if self.return_indices:\n",
        "            output, indices = self.pool(mag)\n",
        "            # If returning indices, apply pooling separately to real and imaginary parts\n",
        "            real = torch.gather(x.real, dim=-1, index=indices)\n",
        "            imag = torch.gather(x.imag, dim=-1, index=indices)\n",
        "            return torch.complex(real, imag)            # MMMR: Returning indices as well. So it is a tuple and networ breaks. Removed it\n",
        "        else:\n",
        "            # If not returning indices, just return the pooled magnitude\n",
        "            output = self.pool(mag)\n",
        "            # Calculate magnitude and phase from pooled magnitude\n",
        "            magnitude = output\n",
        "            phase = torch.atan2(x.imag, x.real)\n",
        "            # Reconstruct complex output using pooled magnitude and original phase\n",
        "            real_out = magnitude * torch.cos(phase)\n",
        "            imag_out = magnitude * torch.sin(phase)\n",
        "            return torch.complex(real_out, imag_out) # Return only the complex output\n",
        "\n",
        "\n",
        "class ComplexLinear(nn.Module):\n",
        "    def __init__(self, in_features, out_features):\n",
        "        super(ComplexLinear, self).__init__()\n",
        "        self.real_fc = nn.Linear(in_features, out_features)\n",
        "        self.imag_fc = nn.Linear(in_features, out_features)\n",
        "\n",
        "    def forward(self, x):\n",
        "        real = x.real\n",
        "        imag = x.imag\n",
        "        real_out = self.real_fc(real) - self.imag_fc(imag)\n",
        "        imag_out = self.real_fc(imag) + self.imag_fc(real)\n",
        "        return torch.complex(real_out, imag_out)\n",
        "\n",
        "class ComplexConv1D(nn.Module):\n",
        "    def __init__(self, in_channels, out_channels, kernel_size, padding=0):\n",
        "        super(ComplexConv1D, self).__init__()\n",
        "        self.real_conv = nn.Conv1d(in_channels, out_channels, kernel_size, padding=padding)\n",
        "        self.imag_conv = nn.Conv1d(in_channels, out_channels, kernel_size, padding=padding)\n",
        "\n",
        "    def forward(self, x):\n",
        "        real = x.real\n",
        "        imag = x.imag\n",
        "        real_out = self.real_conv(real) - self.imag_conv(imag)\n",
        "        imag_out = self.real_conv(imag) + self.imag_conv(real)\n",
        "        return torch.complex(real_out, imag_out)\n"
      ]
    },
    {
      "cell_type": "code",
      "execution_count": null,
      "metadata": {
        "id": "mA5kuIezsD95"
      },
      "outputs": [],
      "source": [
        "class ComplexConvNet(nn.Module):\n",
        "    def __init__(self, in_channels=3):\n",
        "        super(ComplexConvNet, self).__init__()\n",
        "        self.conv1 = ComplexConv1D(in_channels, 32, kernel_size=3, padding=1)\n",
        "        #self.conv1 = ComplexConv1D(32, in_channels, kernel_size=3, padding=1)\n",
        "        self.relu1 = ComplexReLU()\n",
        "        self.pool1 = ComplexMaxPool1d(kernel_size=2)\n",
        "        self.conv2 = ComplexConv1D(32, 64, kernel_size=3, padding=1)\n",
        "        self.relu2 = ComplexReLU()\n",
        "        self.pool2 = ComplexMaxPool1d(kernel_size=2)\n",
        "        self.fc1 = ComplexLinear(64 * 256, 128)\n",
        "        self.relu3 = ComplexReLU()\n",
        "        self.fc2 = ComplexLinear(128, 1)\n",
        "\n",
        "    def forward(self, x):\n",
        "        x = self.pool1(self.relu1(self.conv1(x)))\n",
        "        x = self.pool2(self.relu2(self.conv2(x)))\n",
        "        x = x.view(-1, 64 * 256)\n",
        "        x = self.relu3(self.fc1(x))\n",
        "        x = self.fc2(x)\n",
        "        x = torch.real(x)  # MMMR: Need a number from -inf to + inf. Then only sigmoid can produce [0-1]\n",
        "        x = torch.sigmoid(x) # MMMR - Need a probability value from [0-1]\n",
        "        return x\n",
        "\n",
        "model = ComplexConvNet(in_channels=3)"
      ]
    },
    {
      "cell_type": "code",
      "source": [
        "# import torch\n",
        "# import torch.nn as nn\n",
        "import torch.optim as optim\n",
        "from torch.utils.data import DataLoader, random_split\n",
        "from sklearn.metrics import accuracy_score, confusion_matrix\n",
        "import numpy as np\n",
        "import seaborn as sns\n",
        "import matplotlib.pyplot as plt\n",
        "\n",
        "\n",
        "# Split the dataset into training and testing sets\n",
        "test_size = int(0.2 * len(dataset))\n",
        "train_size = len(dataset) - test_size\n",
        "train_dataset, test_dataset = random_split(dataset, [train_size, test_size])\n",
        "\n",
        "\n",
        "# # Create DataLoaders\n",
        "\n",
        "train_loader = DataLoader(train_dataset, batch_size=batch_size, shuffle=True)  # MMMR: This need to be True always as batch optimization need data to be shuffled at the start of every epochs.\n",
        "test_loader = DataLoader(test_dataset, batch_size=batch_size, shuffle=False)\n",
        "\n",
        "# # Instantiate the model, optimizer, and loss function\n",
        "model = ComplexConvNet(in_channels=3)\n",
        "optimizer = optim.Adam(model.parameters())\n",
        "criterion = nn.BCELoss()  # Binary Cross-Entropy Loss\n"
      ],
      "metadata": {
        "id": "fyFz1_2loWfa"
      },
      "execution_count": null,
      "outputs": []
    },
    {
      "cell_type": "code",
      "source": [
        "# Training loop with early stopping\n",
        "num_epochs = 10  # Adjust as needed\n",
        "patience = 1  # Number of epochs with no improvement after which training will be stopped\n",
        "best_accuracy = 0\n",
        "epochs_no_improve = 0\n",
        "\n",
        "# Training\n",
        "train_losses = []\n",
        "train_accuracies = []\n",
        "test_losses = []\n",
        "test_accuracies = []\n",
        "\n",
        "for epoch in range(num_epochs):\n",
        "    model.train()\n",
        "    train_loss = 0\n",
        "    correct_train = 0\n",
        "    total_train = 0\n",
        "    for data, labels in train_loader:\n",
        "        data = data.to(torch.complex64)\n",
        "        labels = labels.float().unsqueeze(1)  # convert labels to float and unsqueeze\n",
        "        # print(f\"Batch {batch_idx} - Data shape: {data.shape}, Labels shape: {labels.shape}, Data type: {data.dtype}, Labels shape: {labels.dtype}\")\n",
        "\n",
        "        optimizer.zero_grad()\n",
        "        outputs = model(data)\n",
        "        loss = criterion(outputs, labels)\n",
        "        loss.backward()\n",
        "        optimizer.step()\n",
        "\n",
        "        train_loss += loss.item()\n",
        "        predicted = (outputs > 0.5).float()\n",
        "        total_train += labels.size(0)\n",
        "        correct_train += (predicted == labels).sum().item()\n",
        "\n",
        "    train_accuracy = 100 * correct_train / total_train\n",
        "    train_losses.append(train_loss / len(train_loader))\n",
        "    train_accuracies.append(train_accuracy)\n",
        "\n",
        "    # Evaluation\n",
        "    model.eval()\n",
        "    test_loss = 0\n",
        "    correct_test = 0\n",
        "    total_test = 0\n",
        "    all_predictions = []\n",
        "    all_labels = []\n",
        "    with torch.no_grad():\n",
        "        for data, labels in test_loader:\n",
        "            #data = data.float()  # convert data to float\n",
        "            data = data.to(torch.complex64)\n",
        "            labels = labels.float().unsqueeze(1)  # convert labels to float and unsqueeze\n",
        "            outputs = model(data)\n",
        "            loss = criterion(outputs, labels)\n",
        "            test_loss += loss.item()\n",
        "            predictions = (outputs > 0.5).float()  # convert output to 0,1 values\n",
        "            all_predictions.extend(predictions.cpu().numpy())\n",
        "            all_labels.extend(labels.cpu().numpy())\n",
        "            total_test += labels.size(0)\n",
        "            correct_test += (predictions == labels).sum().item()\n",
        "\n",
        "    test_accuracy = 100 * correct_test / total_test\n",
        "    test_losses.append(test_loss / len(test_loader))\n",
        "    test_accuracies.append(test_accuracy)\n",
        "\n",
        "\n",
        "    print(f\"Epoch {epoch+1}/{num_epochs}, \"\n",
        "          f\"Train Loss: {train_losses[-1]:.4f}, Train Acc: {train_accuracies[-1]:.2f}%, \"\n",
        "          f\"Test Loss: {test_losses[-1]:.4f}, Test Acc: {test_accuracies[-1]:.2f}%\")\n",
        "\n",
        "\n",
        "\n",
        "     # Early stopping check\n",
        "    if test_accuracy > best_accuracy:\n",
        "        best_accuracy = test_accuracy\n",
        "        epochs_no_improve = 0\n",
        "        # Save the model weights\n",
        "        torch.save(model.state_dict(), 'best_model_weights.pth')\n",
        "    else:\n",
        "        epochs_no_improve += 1\n",
        "    if epochs_no_improve == patience:\n",
        "        print(f\"Early stopping at epoch {epoch+1}\")\n",
        "        break\n",
        "\n",
        "    # Confusion Matrix (optional - uncomment if you want to see it per epoch)\n",
        "    # cm = confusion_matrix(all_labels, all_predictions)\n",
        "    # plt.figure(figsize=(8, 6))\n",
        "    # sns.heatmap(cm, annot=True, fmt=\"d\", cmap=\"Blues\",\n",
        "    #             xticklabels=['Predicted Failure', 'Predicted Normal'],\n",
        "    #             yticklabels=['Actual Failure', 'Actual Normal'])\n",
        "    # plt.title(f\"Confusion Matrix - Epoch {epoch+1}\")\n",
        "    # plt.show()"
      ],
      "metadata": {
        "colab": {
          "base_uri": "https://localhost:8080/"
        },
        "id": "Kl0whNevojo0",
        "outputId": "4df8a2b1-acdc-4479-ca3e-9ebfff34257b"
      },
      "execution_count": null,
      "outputs": [
        {
          "output_type": "stream",
          "name": "stdout",
          "text": [
            "Epoch 1/10, Train Loss: 0.8026, Train Acc: 79.62%, Test Loss: 0.3501, Test Acc: 83.33%\n",
            "Epoch 2/10, Train Loss: 0.2779, Train Acc: 88.87%, Test Loss: 0.2593, Test Acc: 91.60%\n",
            "Epoch 3/10, Train Loss: 0.1860, Train Acc: 93.81%, Test Loss: 0.2146, Test Acc: 92.67%\n",
            "Epoch 4/10, Train Loss: 0.1568, Train Acc: 94.73%, Test Loss: 0.2387, Test Acc: 92.65%\n",
            "Early stopping at epoch 4\n"
          ]
        }
      ]
    },
    {
      "cell_type": "code",
      "source": [
        "# Plot the loss vs epochs\n",
        "plt.plot(range(1, len(train_losses) + 1), train_losses, label='Train Loss')\n",
        "plt.plot(range(1, len(train_losses) + 1), test_losses, label='Test Loss')\n",
        "plt.xlabel('Epochs')\n",
        "plt.ylabel('Loss')\n",
        "plt.title('Loss vs Epochs')\n",
        "plt.legend()\n",
        "plt.show()\n"
      ],
      "metadata": {
        "colab": {
          "base_uri": "https://localhost:8080/",
          "height": 472
        },
        "id": "Uv_31aaxoyLo",
        "outputId": "24254d3f-97e0-4c06-b8d1-6766f4836835"
      },
      "execution_count": null,
      "outputs": [
        {
          "output_type": "display_data",
          "data": {
            "text/plain": [
              "<Figure size 640x480 with 1 Axes>"
            ],
            "image/png": "[encoded data removed]"
          },
          "metadata": {}
        }
      ]
    },
    {
      "cell_type": "code",
      "source": [
        "\n",
        "\n",
        "#  ( existing code)\n",
        "\n",
        "# (modified to print confusion matrix only once)\n",
        "\n",
        "\n",
        "# Confusion Matrix (printed only once after all epochs)\n",
        "cm = confusion_matrix(all_labels, all_predictions)\n",
        "plt.figure(figsize=(8, 6))\n",
        "sns.heatmap(cm, annot=True, fmt=\"d\", cmap=\"Blues\",\n",
        "            xticklabels=['Predicted Failure', 'Predicted Normal'],\n",
        "            yticklabels=['Actual Failure', 'Actual Normal'])\n",
        "plt.title(\"Confusion Matrix - Final\") # Added - Final to indicate it is the last epoch\n",
        "plt.show()\n"
      ],
      "metadata": {
        "colab": {
          "base_uri": "https://localhost:8080/",
          "height": 545
        },
        "id": "pM0CSLa9pgkn",
        "outputId": "f64c2d36-edaa-4308-f901-113855a0f012"
      },
      "execution_count": null,
      "outputs": [
        {
          "output_type": "display_data",
          "data": {
            "text/plain": [
              "<Figure size 800x600 with 2 Axes>"
            ],
            "image/png": "[encoded data removed]"
          },
          "metadata": {}
        }
      ]
    },
    {
      "cell_type": "code",
      "source": [
        "\n",
        "from sklearn.metrics import precision_score, recall_score, f1_score\n",
        "\n",
        "# Calculate precision, recall, and F1-score\n",
        "precision = precision_score(all_labels, all_predictions)\n",
        "recall = recall_score(all_labels, all_predictions)\n",
        "f1 = f1_score(all_labels, all_predictions)\n",
        "\n",
        "print(f\"\\nPrecision: {precision:.4f}\")\n",
        "print(f\"Recall: {recall:.4f}\")\n",
        "print(f\"F1-Score: {f1:.4f}\")"
      ],
      "metadata": {
        "colab": {
          "base_uri": "https://localhost:8080/"
        },
        "id": "PufZYu1TpntN",
        "outputId": "c640ac88-d1f8-4e7a-c774-2cd64a4c84a9"
      },
      "execution_count": null,
      "outputs": [
        {
          "output_type": "stream",
          "name": "stdout",
          "text": [
            "\n",
            "Precision: 0.8957\n",
            "Recall: 0.9655\n",
            "F1-Score: 0.9293\n"
          ]
        }
      ]
    },
    {
      "cell_type": "code",
      "source": [
        "# ############ NEW CODE WITH SEEDS##########################\n",
        "# import torch\n",
        "# import torch.nn as nn\n",
        "# import torch.optim as optim\n",
        "# from torch.utils.data import DataLoader, random_split\n",
        "# import numpy as np\n",
        "# import matplotlib.pyplot as plt\n",
        "# import seaborn as sns\n",
        "# from sklearn.metrics import confusion_matrix, precision_score, recall_score, f1_score\n",
        "\n",
        "# seeds = [0, 1, 42, 1234, 10]\n",
        "# #seeds = [42, 1234, 10, 1]\n",
        "\n",
        "# for seed in seeds:\n",
        "#     print(f\"\\nRunning training with seed: {seed}\")\n",
        "#     torch.manual_seed(seed)\n",
        "#     torch.cuda.manual_seed(seed)\n",
        "#     torch.backends.cudnn.deterministic = True\n",
        "#     torch.backends.cudnn.benchmark = False\n",
        "#     np.random.seed(seed)\n",
        "\n",
        "#     test_size = int(0.2 * len(dataset))\n",
        "#     train_size = len(dataset) - test_size\n",
        "#     train_dataset, test_dataset = random_split(dataset, [train_size, test_size])\n",
        "\n",
        "#     train_loader = DataLoader(train_dataset, batch_size=batch_size, shuffle=True)\n",
        "#     test_loader = DataLoader(test_dataset, batch_size=batch_size, shuffle=False)\n",
        "\n",
        "#     model = ComplexConvNet()\n",
        "#     criterion = nn.BCEWithLogitsLoss()\n",
        "#     optimizer = optim.Adam(model.parameters(), lr=1e-3)\n",
        "\n",
        "#     num_epochs = 10\n",
        "#     patience = 5\n",
        "#     best_accuracy = 0\n",
        "#     epochs_no_improve = 0\n",
        "\n",
        "#     train_losses = []\n",
        "#     train_accuracies = []\n",
        "#     test_losses = []\n",
        "#     test_accuracies = []\n",
        "\n",
        "#     for epoch in range(num_epochs):\n",
        "#         model.train()\n",
        "#         train_loss = 0\n",
        "#         correct_train = 0\n",
        "#         total_train = 0\n",
        "\n",
        "#         for data, labels in train_loader:\n",
        "#             data = data.float()\n",
        "#             data = (data - data.mean(dim=-1, keepdim=True)) / (data.std(dim=-1, keepdim=True) + 1e-6)\n",
        "#             data = data.to(torch.complex64)\n",
        "#             labels = labels.float().unsqueeze(1)\n",
        "\n",
        "#             optimizer.zero_grad()\n",
        "#             outputs = model(data)\n",
        "#             loss = criterion(outputs, labels)\n",
        "#             loss.backward()\n",
        "#             optimizer.step()\n",
        "\n",
        "#             train_loss += loss.item()\n",
        "#             predicted = (torch.sigmoid(outputs) > 0.5).float()\n",
        "#             total_train += labels.size(0)\n",
        "#             correct_train += (predicted == labels).sum().item()\n",
        "\n",
        "#         train_accuracy = 100 * correct_train / total_train\n",
        "#         train_losses.append(train_loss / len(train_loader))\n",
        "#         train_accuracies.append(train_accuracy)\n",
        "\n",
        "#         model.eval()\n",
        "#         test_loss = 0\n",
        "#         correct_test = 0\n",
        "#         total_test = 0\n",
        "#         all_predictions = []\n",
        "#         all_labels = []\n",
        "\n",
        "#         with torch.no_grad():\n",
        "#             for data, labels in test_loader:\n",
        "#                 if data.ndim == 2:\n",
        "#                     data = data.unsqueeze(1)\n",
        "#                 elif data.ndim == 4:\n",
        "#                     data = data.squeeze(1)\n",
        "#                 data = data.float()\n",
        "#                 data = (data - data.mean(dim=-1, keepdim=True)) / (data.std(dim=-1, keepdim=True) + 1e-6)\n",
        "#                 data = data.to(torch.complex64)\n",
        "#                 labels = labels.float().unsqueeze(1)\n",
        "\n",
        "#                 outputs = model(data)\n",
        "#                 loss = criterion(outputs, labels)\n",
        "#                 test_loss += loss.item()\n",
        "#                 predictions = (torch.sigmoid(outputs) > 0.5).float()\n",
        "#                 all_predictions.extend(predictions.cpu().numpy())\n",
        "#                 all_labels.extend(labels.cpu().numpy())\n",
        "#                 total_test += labels.size(0)\n",
        "#                 correct_test += (predictions == labels).sum().item()\n",
        "\n",
        "#         test_accuracy = 100 * correct_test / total_test\n",
        "#         test_losses.append(test_loss / len(test_loader))\n",
        "#         test_accuracies.append(test_accuracy)\n",
        "\n",
        "#         print(f\"Epoch {epoch+1}/{num_epochs}, \"\n",
        "#               f\"Train Loss: {train_losses[-1]:.4f}, Train Acc: {train_accuracies[-1]:.2f}%, \"\n",
        "#               f\"Test Loss: {test_losses[-1]:.4f}, Test Acc: {test_accuracies[-1]:.2f}%\")\n",
        "\n",
        "#         if test_accuracy > best_accuracy:\n",
        "#             best_accuracy = test_accuracy\n",
        "#             epochs_no_improve = 0\n",
        "#             torch.save(model.state_dict(), f'best_model_seed_{seed}.pth')\n",
        "#         else:\n",
        "#             epochs_no_improve += 1\n",
        "#             if epochs_no_improve == patience:\n",
        "#                 print(f\"Early stopping at epoch {epoch+1}\")\n",
        "#                 break\n",
        "\n",
        "#     cm = confusion_matrix(all_labels, all_predictions)\n",
        "#     plt.figure(figsize=(8, 6))\n",
        "#     sns.heatmap(cm, annot=True, fmt=\"d\", cmap=\"Blues\",\n",
        "#                 xticklabels=['Predicted Failure', 'Predicted Normal'],\n",
        "#                 yticklabels=['Actual Failure', 'Actual Normal'])\n",
        "#     plt.title(f\"Confusion Matrix - Final (Seed: {seed})\")\n",
        "#     plt.xlabel(\"Predicted Label\")\n",
        "#     plt.ylabel(\"True Label\")\n",
        "#     plt.show()\n",
        "\n",
        "#     precision = precision_score(all_labels, all_predictions)\n",
        "#     recall = recall_score(all_labels, all_predictions)\n",
        "#     f1 = f1_score(all_labels, all_predictions)\n",
        "\n",
        "#     print(f\"\\n[Metrics for Seed {seed}]\")\n",
        "#     print(f\"Precision: {precision:.4f}\")\n",
        "#     print(f\"Recall:    {recall:.4f}\")\n",
        "#     print(f\"F1-Score:  {f1:.4f}\")"
      ],
      "metadata": {
        "id": "TT2C7EdX9ITt"
      },
      "execution_count": null,
      "outputs": []
    },
    {
      "cell_type": "code",
      "execution_count": null,
      "metadata": {
        "id": "yEKWtXORsJTa"
      },
      "outputs": [],
      "source": [
        "# # import torch\n",
        "# # import torch.nn as nn\n",
        "# import torch.optim as optim\n",
        "# from torch.utils.data import DataLoader, random_split\n",
        "# from sklearn.metrics import accuracy_score, confusion_matrix\n",
        "# import numpy as np\n",
        "# import seaborn as sns\n",
        "# import matplotlib.pyplot as plt\n",
        "\n",
        "\n",
        "# # Split the dataset into training and testing sets\n",
        "# test_size = int(0.2 * len(dataset))\n",
        "# train_size = len(dataset) - test_size\n",
        "# train_dataset, test_dataset = random_split(dataset, [train_size, test_size])\n",
        "\n",
        "\n",
        "# # # Create DataLoaders\n",
        "\n",
        "# train_loader = DataLoader(train_dataset, batch_size=batch_size, shuffle=True)  # MMMR: This need to be True always as batch optimization need data to be shuffled at the start of every epochs.\n",
        "# test_loader = DataLoader(test_dataset, batch_size=batch_size, shuffle=False)\n",
        "\n",
        "# # # Instantiate the model, optimizer, and loss function\n",
        "# # model = ConvNet()\n",
        "# optimizer = optim.Adam(model.parameters())\n",
        "# criterion = nn.BCELoss()  # Binary Cross-Entropy Loss\n"
      ]
    },
    {
      "cell_type": "code",
      "execution_count": null,
      "metadata": {
        "id": "JB69Ckp5sJQA"
      },
      "outputs": [],
      "source": [
        "# # Training loop with early stopping\n",
        "# num_epochs = 20  # Adjust as needed\n",
        "# patience = 2  # Number of epochs with no improvement after which training will be stopped\n",
        "# best_accuracy = 0\n",
        "# epochs_no_improve = 0\n",
        "\n",
        "# # Training\n",
        "# train_losses = []\n",
        "# train_accuracies = []\n",
        "# test_losses = []\n",
        "# test_accuracies = []\n",
        "\n",
        "# for epoch in range(num_epochs):\n",
        "#     model.train()\n",
        "#     train_loss = 0\n",
        "#     correct_train = 0\n",
        "#     total_train = 0\n",
        "#     for data, labels in train_loader:\n",
        "#         data = data.to(torch.complex64)\n",
        "#         labels = labels.float().unsqueeze(1)  # convert labels to float and unsqueeze\n",
        "#         # print(f\"Batch {batch_idx} - Data shape: {data.shape}, Labels shape: {labels.shape}, Data type: {data.dtype}, Labels shape: {labels.dtype}\")\n",
        "\n",
        "#         optimizer.zero_grad()\n",
        "#         outputs = model(data)\n",
        "#         loss = criterion(outputs, labels)\n",
        "#         loss.backward()\n",
        "#         optimizer.step()\n",
        "\n",
        "#         train_loss += loss.item()\n",
        "#         predicted = (outputs > 0.5).float()\n",
        "#         total_train += labels.size(0)\n",
        "#         correct_train += (predicted == labels).sum().item()\n",
        "\n",
        "#     train_accuracy = 100 * correct_train / total_train\n",
        "#     train_losses.append(train_loss / len(train_loader))\n",
        "#     train_accuracies.append(train_accuracy)\n",
        "\n",
        "#     # Evaluation\n",
        "#     model.eval()\n",
        "#     test_loss = 0\n",
        "#     correct_test = 0\n",
        "#     total_test = 0\n",
        "#     all_predictions = []\n",
        "#     all_labels = []\n",
        "#     with torch.no_grad():\n",
        "#         for data, labels in test_loader:\n",
        "#             #data = data.float()  # convert data to float\n",
        "#             data = data.to(torch.complex64)\n",
        "#             labels = labels.float().unsqueeze(1)  # convert labels to float and unsqueeze\n",
        "#             outputs = model(data)\n",
        "#             loss = criterion(outputs, labels)\n",
        "#             test_loss += loss.item()\n",
        "#             predictions = (outputs > 0.5).float()  # convert output to 0,1 values\n",
        "#             all_predictions.extend(predictions.cpu().numpy())\n",
        "#             all_labels.extend(labels.cpu().numpy())\n",
        "#             total_test += labels.size(0)\n",
        "#             correct_test += (predictions == labels).sum().item()\n",
        "\n",
        "#     test_accuracy = 100 * correct_test / total_test\n",
        "#     test_losses.append(test_loss / len(test_loader))\n",
        "#     test_accuracies.append(test_accuracy)\n",
        "\n",
        "\n",
        "#     print(f\"Epoch {epoch+1}/{num_epochs}, \"\n",
        "#           f\"Train Loss: {train_losses[-1]:.4f}, Train Acc: {train_accuracies[-1]:.2f}%, \"\n",
        "#           f\"Test Loss: {test_losses[-1]:.4f}, Test Acc: {test_accuracies[-1]:.2f}%\")\n",
        "\n",
        "\n",
        "\n",
        "#      # Early stopping check\n",
        "#     if test_accuracy > best_accuracy:\n",
        "#         best_accuracy = test_accuracy\n",
        "#         epochs_no_improve = 0\n",
        "#         # Save the model weights\n",
        "#         torch.save(model.state_dict(), 'best_model_weights.pth')\n",
        "#     else:\n",
        "#         epochs_no_improve += 1\n",
        "#     if epochs_no_improve == patience:\n",
        "#         print(f\"Early stopping at epoch {epoch+1}\")\n",
        "#         break\n",
        "\n",
        "#     # Confusion Matrix (optional - uncomment if you want to see it per epoch)\n",
        "#     # cm = confusion_matrix(all_labels, all_predictions)\n",
        "#     # plt.figure(figsize=(8, 6))\n",
        "#     # sns.heatmap(cm, annot=True, fmt=\"d\", cmap=\"Blues\",\n",
        "#     #             xticklabels=['Predicted Failure', 'Predicted Normal'],\n",
        "#     #             yticklabels=['Actual Failure', 'Actual Normal'])\n",
        "#     # plt.title(f\"Confusion Matrix - Epoch {epoch+1}\")\n",
        "#     # plt.show()"
      ]
    },
    {
      "cell_type": "code",
      "execution_count": null,
      "metadata": {
        "id": "Bg77RmmCsJOS"
      },
      "outputs": [],
      "source": [
        "\n",
        "\n",
        "# #  ( existing code)\n",
        "\n",
        "# # (modified to print confusion matrix only once)\n",
        "\n",
        "\n",
        "# # Confusion Matrix (printed only once after all epochs)\n",
        "# cm = confusion_matrix(all_labels, all_predictions)\n",
        "# plt.figure(figsize=(8, 6))\n",
        "# sns.heatmap(cm, annot=True, fmt=\"d\", cmap=\"Blues\",\n",
        "#             xticklabels=['Predicted Failure', 'Predicted Normal'],\n",
        "#             yticklabels=['Actual Failure', 'Actual Normal'])\n",
        "# plt.title(\"Confusion Matrix - Final\") # Added - Final to indicate it is the last epoch\n",
        "# plt.show()\n"
      ]
    },
    {
      "cell_type": "code",
      "execution_count": null,
      "metadata": {
        "id": "4Jaax33v1nKB"
      },
      "outputs": [],
      "source": [
        "\n",
        "# from sklearn.metrics import precision_score, recall_score, f1_score\n",
        "\n",
        "# # Calculate precision, recall, and F1-score\n",
        "# precision = precision_score(all_labels, all_predictions)\n",
        "# recall = recall_score(all_labels, all_predictions)\n",
        "# f1 = f1_score(all_labels, all_predictions)\n",
        "\n",
        "# print(f\"\\nPrecision: {precision:.4f}\")\n",
        "# print(f\"Recall: {recall:.4f}\")\n",
        "# print(f\"F1-Score: {f1:.4f}\")"
      ]
    },
    {
      "cell_type": "markdown",
      "metadata": {
        "id": "eOmM06Tq2sBu"
      },
      "source": []
    },
    {
      "cell_type": "markdown",
      "metadata": {
        "id": "rxxkHAQObXE0"
      },
      "source": [
        "**FOURIER TRANSFORM**"
      ]
    },
    {
      "cell_type": "code",
      "execution_count": null,
      "metadata": {
        "id": "2fJ47xMIsDxD",
        "colab": {
          "base_uri": "https://localhost:8080/"
        },
        "outputId": "7bb2f4d4-e2b8-4f67-fb6a-0c077bdd9f89"
      },
      "outputs": [
        {
          "output_type": "stream",
          "name": "stdout",
          "text": [
            "Batch 0 - Data shape: torch.Size([100, 3, 1024]), Labels shape: torch.Size([100, 1]), Data type: torch.complex64, Labels shape: torch.float32\n",
            "Time taken 0.020874977111816406\n"
          ]
        }
      ],
      "source": [
        "from torch.utils.data import DataLoader\n",
        "import time\n",
        "\n",
        "start= time.time()\n",
        "### Your code goes here #################################################################################################\n",
        "\n",
        "\n",
        "# Create the dataset\n",
        "dataset = Dataset_custom_transform('/content/normal_3d_array.npy', '/content/failure_3d_array.npy', preprocessing_flag='FFT')\n",
        "\n",
        "# Create a DataLoader\n",
        "batch_size = 100\n",
        "dataloader = DataLoader(dataset, batch_size=batch_size, shuffle=False)\n",
        "\n",
        "# Iterate through the DataLoader\n",
        "for batch_idx, (data, labels) in enumerate(dataloader):\n",
        "    data = data.to(torch.complex64)\n",
        "    labels = labels.float().unsqueeze(1)\n",
        "    print(f\"Batch {batch_idx} - Data shape: {data.shape}, Labels shape: {labels.shape}, Data type: {data.dtype}, Labels shape: {labels.dtype}\")\n",
        "    # Now you have batches of data and labels ready for your model\n",
        "    # ... your model training code here ...\n",
        "    break #remove to run through the entire dataloader\n",
        "\n",
        "#################################################################################################################################\n",
        "\n",
        "end = time.time()\n",
        "print(\"Time taken\", end- start)\n",
        "\n",
        "\n"
      ]
    },
    {
      "cell_type": "code",
      "source": [
        "## USING COMPLEX CON NET IN FFT TOO ##"
      ],
      "metadata": {
        "id": "nbJdKhuLtFcR"
      },
      "execution_count": null,
      "outputs": []
    },
    {
      "cell_type": "code",
      "source": [
        "# import torch\n",
        "# import torch.nn as nn\n",
        "import torch.optim as optim\n",
        "from torch.utils.data import DataLoader, random_split\n",
        "from sklearn.metrics import accuracy_score, confusion_matrix\n",
        "import numpy as np\n",
        "import seaborn as sns\n",
        "import matplotlib.pyplot as plt\n",
        "\n",
        "\n",
        "# Split the dataset into training and testing sets\n",
        "test_size = int(0.2 * len(dataset))\n",
        "train_size = len(dataset) - test_size\n",
        "train_dataset, test_dataset = random_split(dataset, [train_size, test_size])\n",
        "\n",
        "\n",
        "# # Create DataLoaders\n",
        "\n",
        "train_loader = DataLoader(train_dataset, batch_size=batch_size, shuffle=True)  # MMMR: This need to be True always as batch optimization need data to be shuffled at the start of every epochs.\n",
        "test_loader = DataLoader(test_dataset, batch_size=batch_size, shuffle=False)\n",
        "\n",
        "# # Instantiate the model, optimizer, and loss function\n",
        "model = ComplexConvNet(in_channels=3)\n",
        "optimizer = optim.Adam(model.parameters())\n",
        "criterion = nn.BCELoss()  # Binary Cross-Entropy Loss\n"
      ],
      "metadata": {
        "id": "9QDheEDOs7nW"
      },
      "execution_count": null,
      "outputs": []
    },
    {
      "cell_type": "code",
      "source": [
        "# Training loop with early stopping\n",
        "num_epochs = 10  # Adjust as needed\n",
        "patience = 1  # Number of epochs with no improvement after which training will be stopped\n",
        "best_accuracy = 0\n",
        "epochs_no_improve = 0\n",
        "\n",
        "# Training\n",
        "train_losses = []\n",
        "train_accuracies = []\n",
        "test_losses = []\n",
        "test_accuracies = []\n",
        "\n",
        "for epoch in range(num_epochs):\n",
        "    model.train()\n",
        "    train_loss = 0\n",
        "    correct_train = 0\n",
        "    total_train = 0\n",
        "    for data, labels in train_loader:\n",
        "        data = data.to(torch.complex64)\n",
        "        labels = labels.float().unsqueeze(1)  # convert labels to float and unsqueeze\n",
        "        # print(f\"Batch {batch_idx} - Data shape: {data.shape}, Labels shape: {labels.shape}, Data type: {data.dtype}, Labels shape: {labels.dtype}\")\n",
        "\n",
        "        optimizer.zero_grad()\n",
        "        outputs = model(data)\n",
        "        loss = criterion(outputs, labels)\n",
        "        loss.backward()\n",
        "        optimizer.step()\n",
        "\n",
        "        train_loss += loss.item()\n",
        "        predicted = (outputs > 0.5).float()\n",
        "        total_train += labels.size(0)\n",
        "        correct_train += (predicted == labels).sum().item()\n",
        "\n",
        "    train_accuracy = 100 * correct_train / total_train\n",
        "    train_losses.append(train_loss / len(train_loader))\n",
        "    train_accuracies.append(train_accuracy)\n",
        "\n",
        "    # Evaluation\n",
        "    model.eval() ## USING COMPLEX CON NET IN FFT TOO ##\n",
        "    test_loss = 0\n",
        "    correct_test = 0\n",
        "    total_test = 0\n",
        "    all_predictions = []\n",
        "    all_labels = []\n",
        "    with torch.no_grad():\n",
        "        for data, labels in test_loader:\n",
        "            #data = data.float()  # convert data to float\n",
        "            data = data.to(torch.complex64)\n",
        "            labels = labels.float().unsqueeze(1)  # convert labels to float and unsqueeze\n",
        "            outputs = model(data)\n",
        "            loss = criterion(outputs, labels)\n",
        "            test_loss += loss.item()\n",
        "            predictions = (outputs > 0.5).float()  # convert output to 0,1 values\n",
        "            all_predictions.extend(predictions.cpu().numpy())\n",
        "            all_labels.extend(labels.cpu().numpy())\n",
        "            total_test += labels.size(0)\n",
        "            correct_test += (predictions == labels).sum().item()\n",
        "\n",
        "    test_accuracy = 100 * correct_test / total_test\n",
        "    test_losses.append(test_loss / len(test_loader))\n",
        "    test_accuracies.append(test_accuracy)\n",
        "\n",
        "\n",
        "    print(f\"Epoch {epoch+1}/{num_epochs}, \"\n",
        "          f\"Train Loss: {train_losses[-1]:.4f}, Train Acc: {train_accuracies[-1]:.2f}%, \"\n",
        "          f\"Test Loss: {test_losses[-1]:.4f}, Test Acc: {test_accuracies[-1]:.2f}%\")\n",
        "\n",
        "\n",
        "\n",
        "     # Early stopping check\n",
        "    if test_accuracy > best_accuracy:\n",
        "        best_accuracy = test_accuracy\n",
        "        epochs_no_improve = 0\n",
        "        # Save the model weights\n",
        "        torch.save(model.state_dict(), 'best_model_weights.pth')\n",
        "    else:\n",
        "        epochs_no_improve += 1\n",
        "    if epochs_no_improve == patience:\n",
        "        print(f\"Early stopping at epoch {epoch+1}\")\n",
        "        break\n",
        "\n",
        "    # Confusion Matrix (optional - uncomment if you want to see it per epoch)\n",
        "    # cm = confusion_matrix(all_labels, all_predictions)\n",
        "    # plt.figure(figsize=(8, 6))\n",
        "    # sns.heatmap(cm, annot=True, fmt=\"d\", cmap=\"Blues\",\n",
        "    #             xticklabels=['Predicted Failure', 'Predicted Normal'],\n",
        "    #             yticklabels=['Actual Failure', 'Actual Normal'])\n",
        "    # plt.title(f\"Confusion Matrix - Epoch {epoch+1}\")\n",
        "    # plt.show()"
      ],
      "metadata": {
        "colab": {
          "base_uri": "https://localhost:8080/"
        },
        "id": "AmUS6xINsqVS",
        "outputId": "b4a2c463-2be9-46ff-f06f-c0387b1dbccc"
      },
      "execution_count": null,
      "outputs": [
        {
          "output_type": "stream",
          "name": "stdout",
          "text": [
            "Epoch 1/10, Train Loss: 37.9347, Train Acc: 49.98%, Test Loss: 38.4375, Test Acc: 49.90%\n",
            "Epoch 2/10, Train Loss: 38.2133, Train Acc: 50.02%, Test Loss: 38.3895, Test Acc: 49.90%\n",
            "Early stopping at epoch 2\n"
          ]
        }
      ]
    },
    {
      "cell_type": "code",
      "source": [
        "# Plot the loss vs epochs\n",
        "plt.plot(range(1, len(train_losses) + 1), train_losses, label='Train Loss')\n",
        "plt.plot(range(1, len(train_losses) + 1), test_losses, label='Test Loss')\n",
        "plt.xlabel('Epochs')\n",
        "plt.ylabel('Loss')\n",
        "plt.title('Loss vs Epochs')\n",
        "plt.legend()\n",
        "plt.show()\n"
      ],
      "metadata": {
        "colab": {
          "base_uri": "https://localhost:8080/",
          "height": 472
        },
        "id": "EZKhVW3LtcBe",
        "outputId": "ba7a276e-65e7-4158-d5f6-c63a82177131"
      },
      "execution_count": null,
      "outputs": [
        {
          "output_type": "display_data",
          "data": {
            "text/plain": [
              "<Figure size 640x480 with 1 Axes>"
            ],
            "image/png": "[encoded data removed]"
          },
          "metadata": {}
        }
      ]
    },
    {
      "cell_type": "code",
      "source": [
        "\n",
        "\n",
        "#  ( existing code)\n",
        "\n",
        "# (modified to print confusion matrix only once)\n",
        "\n",
        "\n",
        "# Confusion Matrix (printed only once after all epochs)\n",
        "cm = confusion_matrix(all_labels, all_predictions)\n",
        "plt.figure(figsize=(8, 6))\n",
        "sns.heatmap(cm, annot=True, fmt=\"d\", cmap=\"Blues\",\n",
        "            xticklabels=['Predicted Failure', 'Predicted Normal'],\n",
        "            yticklabels=['Actual Failure', 'Actual Normal'])\n",
        "plt.title(\"Confusion Matrix - Final\") # Added - Final to indicate it is the last epoch\n",
        "plt.show()\n"
      ],
      "metadata": {
        "colab": {
          "base_uri": "https://localhost:8080/",
          "height": 545
        },
        "id": "G7w6vJmPtWG0",
        "outputId": "dc5c3188-b8f3-4a07-e5f5-40aa398a58cd"
      },
      "execution_count": null,
      "outputs": [
        {
          "output_type": "display_data",
          "data": {
            "text/plain": [
              "<Figure size 800x600 with 2 Axes>"
            ],
            "image/png": "[encoded data removed]"
          },
          "metadata": {}
        }
      ]
    },
    {
      "cell_type": "code",
      "execution_count": null,
      "metadata": {
        "id": "v2nbeIWh1kjv",
        "colab": {
          "base_uri": "https://localhost:8080/"
        },
        "outputId": "310a3182-6113-4864-cf9a-e51d308ba69b"
      },
      "outputs": [
        {
          "output_type": "stream",
          "name": "stdout",
          "text": [
            "\n",
            "Precision: 0.0000\n",
            "Recall: 0.0000\n",
            "F1-Score: 0.0000\n"
          ]
        },
        {
          "output_type": "stream",
          "name": "stderr",
          "text": [
            "/usr/local/lib/python3.11/dist-packages/sklearn/metrics/_classification.py:1565: UndefinedMetricWarning: Precision is ill-defined and being set to 0.0 due to no predicted samples. Use `zero_division` parameter to control this behavior.\n",
            "  _warn_prf(average, modifier, f\"{metric.capitalize()} is\", len(result))\n"
          ]
        }
      ],
      "source": [
        "\n",
        "from sklearn.metrics import precision_score, recall_score, f1_score\n",
        "\n",
        "# Calculate precision, recall, and F1-score\n",
        "precision = precision_score(all_labels, all_predictions)\n",
        "recall = recall_score(all_labels, all_predictions)\n",
        "f1 = f1_score(all_labels, all_predictions)\n",
        "\n",
        "print(f\"\\nPrecision: {precision:.4f}\")\n",
        "print(f\"Recall: {recall:.4f}\")\n",
        "print(f\"F1-Score: {f1:.4f}\")"
      ]
    },
    {
      "cell_type": "code",
      "source": [
        "# import torch\n",
        "# import torch.nn as nn\n",
        "# import torch.optim as optim\n",
        "# from torch.utils.data import DataLoader, random_split\n",
        "# import numpy as np\n",
        "# import matplotlib.pyplot as plt\n",
        "# import seaborn as sns\n",
        "# from sklearn.metrics import confusion_matrix, precision_score, recall_score, f1_score\n",
        "\n",
        "# seeds = [0, 1, 42, 1234, 10]\n",
        "# #seeds = [1, 42, 1234, 10]\n",
        "\n",
        "# for seed in seeds:\n",
        "#     print(f\"\\nRunning training with seed: {seed}\")\n",
        "#     torch.manual_seed(seed)\n",
        "#     torch.cuda.manual_seed(seed)\n",
        "#     torch.backends.cudnn.deterministic = True\n",
        "#     torch.backends.cudnn.benchmark = False\n",
        "#     np.random.seed(seed)\n",
        "\n",
        "#     test_size = int(0.2 * len(dataset))\n",
        "#     train_size = len(dataset) - test_size\n",
        "#     train_dataset, test_dataset = random_split(dataset, [train_size, test_size])\n",
        "\n",
        "#     train_loader = DataLoader(train_dataset, batch_size=batch_size, shuffle=True)\n",
        "#     test_loader = DataLoader(test_dataset, batch_size=batch_size, shuffle=False)\n",
        "\n",
        "#     model = ComplexConvNet()\n",
        "#     criterion = nn.BCEWithLogitsLoss()\n",
        "#     optimizer = optim.Adam(model.parameters(), lr=1e-3)\n",
        "\n",
        "#     num_epochs = 10\n",
        "#     patience = 5\n",
        "#     best_accuracy = 0\n",
        "#     epochs_no_improve = 0\n",
        "\n",
        "#     train_losses = []\n",
        "#     train_accuracies = []\n",
        "#     test_losses = []\n",
        "#     test_accuracies = []\n",
        "\n",
        "#     for epoch in range(num_epochs):\n",
        "#         model.train()\n",
        "#         train_loss = 0\n",
        "#         correct_train = 0\n",
        "#         total_train = 0\n",
        "\n",
        "#         for data, labels in train_loader:\n",
        "#             data = data.float()\n",
        "#             data = (data - data.mean(dim=-1, keepdim=True)) / (data.std(dim=-1, keepdim=True) + 1e-6)\n",
        "#             data = data.to(torch.complex64)\n",
        "#             labels = labels.float().unsqueeze(1)\n",
        "\n",
        "#             optimizer.zero_grad()\n",
        "#             outputs = model(data)\n",
        "#             loss = criterion(outputs, labels)\n",
        "#             loss.backward()\n",
        "#             optimizer.step()\n",
        "\n",
        "#             train_loss += loss.item()\n",
        "#             predicted = (torch.sigmoid(outputs) > 0.5).float()\n",
        "#             total_train += labels.size(0)\n",
        "#             correct_train += (predicted == labels).sum().item()\n",
        "\n",
        "#         train_accuracy = 100 * correct_train / total_train\n",
        "#         train_losses.append(train_loss / len(train_loader))\n",
        "#         train_accuracies.append(train_accuracy)\n",
        "\n",
        "#         model.eval()\n",
        "#         test_loss = 0\n",
        "#         correct_test = 0\n",
        "#         total_test = 0\n",
        "#         all_predictions = []\n",
        "#         all_labels = []\n",
        "\n",
        "#         with torch.no_grad():\n",
        "#             for data, labels in test_loader:\n",
        "#                 if data.ndim == 2:\n",
        "#                     data = data.unsqueeze(1)\n",
        "#                 elif data.ndim == 4:\n",
        "#                     data = data.squeeze(1)\n",
        "#                 data = data.float()\n",
        "#                 data = (data - data.mean(dim=-1, keepdim=True)) / (data.std(dim=-1, keepdim=True) + 1e-6)\n",
        "#                 data = data.to(torch.complex64)\n",
        "#                 labels = labels.float().unsqueeze(1)\n",
        "\n",
        "#                 outputs = model(data)\n",
        "#                 loss = criterion(outputs, labels)\n",
        "#                 test_loss += loss.item()\n",
        "#                 predictions = (torch.sigmoid(outputs) > 0.5).float()\n",
        "#                 all_predictions.extend(predictions.cpu().numpy())\n",
        "#                 all_labels.extend(labels.cpu().numpy())\n",
        "#                 total_test += labels.size(0)\n",
        "#                 correct_test += (predictions == labels).sum().item()\n",
        "\n",
        "#         test_accuracy = 100 * correct_test / total_test\n",
        "#         test_losses.append(test_loss / len(test_loader))\n",
        "#         test_accuracies.append(test_accuracy)\n",
        "\n",
        "#         print(f\"Epoch {epoch+1}/{num_epochs}, \"\n",
        "#               f\"Train Loss: {train_losses[-1]:.4f}, Train Acc: {train_accuracies[-1]:.2f}%, \"\n",
        "#               f\"Test Loss: {test_losses[-1]:.4f}, Test Acc: {test_accuracies[-1]:.2f}%\")\n",
        "\n",
        "#         if test_accuracy > best_accuracy:\n",
        "#             best_accuracy = test_accuracy\n",
        "#             epochs_no_improve = 0\n",
        "#             torch.save(model.state_dict(), f'best_model_seed_{seed}.pth')\n",
        "#         else:\n",
        "#             epochs_no_improve += 1\n",
        "#             if epochs_no_improve == patience:\n",
        "#                 print(f\"Early stopping at epoch {epoch+1}\")\n",
        "#                 break\n",
        "\n",
        "#     cm = confusion_matrix(all_labels, all_predictions)\n",
        "#     plt.figure(figsize=(8, 6))\n",
        "#     sns.heatmap(cm, annot=True, fmt=\"d\", cmap=\"Blues\",\n",
        "#                 xticklabels=['Predicted Failure', 'Predicted Normal'],\n",
        "#                 yticklabels=['Actual Failure', 'Actual Normal'])\n",
        "#     plt.title(f\"Confusion Matrix - Final (Seed: {seed})\")\n",
        "#     plt.xlabel(\"Predicted Label\")\n",
        "#     plt.ylabel(\"True Label\")\n",
        "#     plt.show()\n",
        "\n",
        "#     precision = precision_score(all_labels, all_predictions)\n",
        "#     recall = recall_score(all_labels, all_predictions)\n",
        "#     f1 = f1_score(all_labels, all_predictions)\n",
        "\n",
        "#     print(f\"\\n[Metrics for Seed {seed}]\")\n",
        "#     print(f\"Precision: {precision:.4f}\")\n",
        "#     print(f\"Recall:    {recall:.4f}\")\n",
        "#     print(f\"F1-Score:  {f1:.4f}\")"
      ],
      "metadata": {
        "id": "KyuRk6FQAvFD"
      },
      "execution_count": null,
      "outputs": []
    },
    {
      "cell_type": "code",
      "execution_count": null,
      "metadata": {
        "id": "rPM61Er0-sg2"
      },
      "outputs": [],
      "source": []
    },
    {
      "cell_type": "markdown",
      "metadata": {
        "id": "gBXI4mEZ-6eT"
      },
      "source": [
        "**DCT**\n"
      ]
    },
    {
      "cell_type": "code",
      "execution_count": null,
      "metadata": {
        "id": "FFdqievP-5ZQ",
        "colab": {
          "base_uri": "https://localhost:8080/"
        },
        "outputId": "95561f84-7eca-4073-87b8-4555402a344e"
      },
      "outputs": [
        {
          "output_type": "stream",
          "name": "stdout",
          "text": [
            "Batch 0 - Data shape: torch.Size([100, 3, 1024]), Labels shape: torch.Size([100, 1]), Data type: torch.complex64, Labels shape: torch.float32\n",
            "Time taken 0.03339743614196777\n"
          ]
        }
      ],
      "source": [
        "from torch.utils.data import DataLoader\n",
        "import time\n",
        "\n",
        "start= time.time()\n",
        "### Your code goes here #################################################################################################\n",
        "\n",
        "\n",
        "# Create the dataset\n",
        "dataset = Dataset_custom_transform('/content/normal_3d_array.npy', '/content/failure_3d_array.npy', preprocessing_flag='DCT')\n",
        "\n",
        "# Create a DataLoader\n",
        "batch_size = 100\n",
        "dataloader = DataLoader(dataset, batch_size=batch_size, shuffle=False)\n",
        "\n",
        "# Iterate through the DataLoader\n",
        "for batch_idx, (data, labels) in enumerate(dataloader):\n",
        "    data = data.to(torch.complex64)\n",
        "    labels = labels.float().unsqueeze(1)\n",
        "    print(f\"Batch {batch_idx} - Data shape: {data.shape}, Labels shape: {labels.shape}, Data type: {data.dtype}, Labels shape: {labels.dtype}\")\n",
        "    # Now you have batches of data and labels ready for your model\n",
        "    # ... your model training code here ...\n",
        "    break #remove to run through the entire dataloader\n",
        "\n",
        "#################################################################################################################################\n",
        "\n",
        "end = time.time()\n",
        "print(\"Time taken\", end- start)\n",
        "\n",
        "\n"
      ]
    },
    {
      "cell_type": "code",
      "source": [
        "\n",
        "\n",
        "class ConvNet(nn.Module):\n",
        "    def __init__(self, in_channels=3):\n",
        "        super(ConvNet, self).__init__()\n",
        "        self.conv1 = nn.Conv1d(in_channels, 32, kernel_size=3, padding=1)\n",
        "        self.relu1 = nn.ReLU()\n",
        "        self.pool1 = nn.MaxPool1d(kernel_size=2)\n",
        "        self.conv2 = nn.Conv1d(32, 64, kernel_size=3, padding=1)\n",
        "        self.relu2 = nn.ReLU()\n",
        "        self.pool2 = nn.MaxPool1d(kernel_size=2)\n",
        "        self.fc1 = nn.Linear(64 * 256, 128) # Adjust input size based on pooling\n",
        "        self.relu3 = nn.ReLU()\n",
        "        self.fc2 = nn.Linear(128, 1) # Output size 1 for binary classification\n",
        "        self.sigmoid = nn.Sigmoid()\n",
        "\n",
        "\n",
        "    def forward(self, x):\n",
        "        x = self.pool1(self.relu1(self.conv1(x)))\n",
        "        x = self.pool2(self.relu2(self.conv2(x)))\n",
        "        x = x.view(-1, 64 * 256)  # Adjust input size based on pooling\n",
        "        x = self.relu3(self.fc1(x))\n",
        "        x = self.sigmoid(self.fc2(x))\n",
        "        return x\n",
        "\n",
        "\n",
        "model = ConvNet()\n",
        "#print(model(failure_tensor).shape) # Now it should print a valid shape\n",
        "# Example forward pass (replace with our actual input)\n",
        "#output = model(failure_tensor[0].unsqueeze(0))  # Unsqueezingto add a batch dimension\n",
        "#print(output)\n",
        "\n",
        "\n",
        "\n",
        "# Example usage (assuming your data is in 'failure_array'):\n",
        "# Reshape the data to (samples, channels, length)\n",
        "#failure_array = failure_array.reshape(failure_array.shape[0], 3, 1024) # Correct the reshape\n",
        "#normal_array = normal_array.reshape(normal_array.shape[0], 3, 1024)\n",
        "\n",
        "# Convert NumPy arrays to PyTorch tensors\n",
        "#failure_tensor = torch.tensor(failure_array, dtype=torch.float32)\n",
        "# Instantiate the model"
      ],
      "metadata": {
        "id": "Yl0OJKSk3NvI"
      },
      "execution_count": null,
      "outputs": []
    },
    {
      "cell_type": "code",
      "source": [
        "# import torch\n",
        "# import torch.nn as nn\n",
        "import torch.optim as optim\n",
        "from torch.utils.data import DataLoader, random_split\n",
        "from sklearn.metrics import accuracy_score, confusion_matrix\n",
        "import numpy as np\n",
        "import seaborn as sns\n",
        "import matplotlib.pyplot as plt\n",
        "\n",
        "\n",
        "# Split the dataset into training and testing sets\n",
        "test_size = int(0.2 * len(dataset))\n",
        "train_size = len(dataset) - test_size\n",
        "train_dataset, test_dataset = random_split(dataset, [train_size, test_size])\n",
        "\n",
        "\n",
        "# # Create DataLoaders\n",
        "\n",
        "train_loader = DataLoader(train_dataset, batch_size=batch_size, shuffle=True)  # MMMR: This need to be True always as batch optimization need data to be shuffled at the start of every epochs.\n",
        "test_loader = DataLoader(test_dataset, batch_size=batch_size, shuffle=False)\n",
        "\n",
        "# # Instantiate the model, optimizer, and loss function\n",
        "model = ConvNet(in_channels=3)\n",
        "optimizer = optim.Adam(model.parameters())\n",
        "criterion = nn.BCELoss()  # Binary Cross-Entropy Loss\n"
      ],
      "metadata": {
        "id": "CcDRaykh3Bl5"
      },
      "execution_count": null,
      "outputs": []
    },
    {
      "cell_type": "code",
      "source": [
        "#Training loop with early stopping\n",
        "num_epochs = 10  #Adjust as needed\n",
        "patience = 1  #Number of epochs with no improvement after which training will be stopped\n",
        "best_accuracy = 0\n",
        "epochs_no_improve = 0\n",
        "\n",
        "# Training\n",
        "train_losses = []\n",
        "train_accuracies = []\n",
        "test_losses = []\n",
        "test_accuracies = []\n",
        "\n",
        "for epoch in range(num_epochs):\n",
        "    model.train()\n",
        "    train_loss = 0\n",
        "    correct_train = 0\n",
        "    total_train = 0\n",
        "    for data, labels in train_loader:\n",
        "        #data = data.to(torch.complex64)\n",
        "        data = data.float()\n",
        "        labels = labels.float().unsqueeze(1)  # convert labels to float and unsqueeze\n",
        "        # print(f\"Batch {batch_idx} - Data shape: {data.shape}, Labels shape: {labels.shape}, Data type: {data.dtype}, Labels shape: {labels.dtype}\")\n",
        "\n",
        "        optimizer.zero_grad()\n",
        "        outputs = model(data)\n",
        "        loss = criterion(outputs, labels)\n",
        "        loss.backward()\n",
        "        optimizer.step()\n",
        "\n",
        "        train_loss += loss.item()\n",
        "        predicted = (outputs > 0.5).float()\n",
        "        total_train += labels.size(0)\n",
        "        correct_train += (predicted == labels).sum().item()\n",
        "\n",
        "    train_accuracy = 100 * correct_train / total_train\n",
        "    train_losses.append(train_loss / len(train_loader))\n",
        "    train_accuracies.append(train_accuracy)\n",
        "\n",
        "    # Evaluation\n",
        "    model.eval()\n",
        "    test_loss = 0\n",
        "    correct_test = 0\n",
        "    total_test = 0\n",
        "    all_predictions = []\n",
        "    all_labels = []\n",
        "    with torch.no_grad():\n",
        "        for data, labels in test_loader:\n",
        "            data = data.float()  # convert data to float\n",
        "            #data = data.to(torch.complex64)\n",
        "            labels = labels.float().unsqueeze(1)  # convert labels to float and unsqueeze\n",
        "            outputs = model(data)\n",
        "            loss = criterion(outputs, labels)\n",
        "            test_loss += loss.item()\n",
        "            predictions = (outputs > 0.5).float()  # convert output to 0,1 values\n",
        "            all_predictions.extend(predictions.cpu().numpy())\n",
        "            all_labels.extend(labels.cpu().numpy())\n",
        "            total_test += labels.size(0)\n",
        "            correct_test += (predictions == labels).sum().item()\n",
        "\n",
        "    test_accuracy = 100 * correct_test / total_test\n",
        "    test_losses.append(test_loss / len(test_loader))\n",
        "    test_accuracies.append(test_accuracy)\n",
        "\n",
        "\n",
        "    print(f\"Epoch {epoch+1}/{num_epochs}, \"\n",
        "          f\"Train Loss: {train_losses[-1]:.4f}, Train Acc: {train_accuracies[-1]:.2f}%, \"\n",
        "          f\"Test Loss: {test_losses[-1]:.4f}, Test Acc: {test_accuracies[-1]:.2f}%\")\n",
        "\n",
        "\n",
        "\n",
        "     # Early stopping check\n",
        "    if test_accuracy > best_accuracy:\n",
        "        best_accuracy = test_accuracy\n",
        "        epochs_no_improve = 0\n",
        "        # Save the model weights\n",
        "        torch.save(model.state_dict(), 'best_model_weights.pth')\n",
        "    else:\n",
        "        epochs_no_improve += 1\n",
        "    if epochs_no_improve == patience:\n",
        "        print(f\"Early stopping at epoch {epoch+1}\")\n",
        "        break\n",
        "\n",
        "    # Confusion Matrix (optional - uncomment if you want to see it per epoch)\n",
        "    # cm = confusion_matrix(all_labels, all_predictions)\n",
        "    # plt.figure(figsize=(8, 6))\n",
        "    # sns.heatmap(cm, annot=True, fmt=\"d\", cmap=\"Blues\",\n",
        "    #             xticklabels=['Predicted Failure', 'Predicted Normal'],\n",
        "    #             yticklabels=['Actual Failure', 'Actual Normal'])\n",
        "    # plt.title(f\"Confusion Matrix - Epoch {epoch+1}\")\n",
        "    # plt.show()"
      ],
      "metadata": {
        "colab": {
          "base_uri": "https://localhost:8080/"
        },
        "id": "vkbdJ09m27LU",
        "outputId": "3717b877-9737-4eb6-e83a-e939ad6a1f55"
      },
      "execution_count": null,
      "outputs": [
        {
          "output_type": "stream",
          "name": "stdout",
          "text": [
            "Epoch 1/10, Train Loss: 2.1430, Train Acc: 85.56%, Test Loss: 0.1923, Test Acc: 93.22%\n",
            "Epoch 2/10, Train Loss: 0.1603, Train Acc: 94.35%, Test Loss: 0.1809, Test Acc: 94.30%\n",
            "Epoch 3/10, Train Loss: 0.1357, Train Acc: 95.34%, Test Loss: 0.1947, Test Acc: 93.67%\n",
            "Early stopping at epoch 3\n"
          ]
        }
      ]
    },
    {
      "cell_type": "code",
      "source": [
        "# Plot the loss vs epochs\n",
        "plt.plot(range(1, len(train_losses) + 1), train_losses, label='Train Loss')\n",
        "plt.plot(range(1, len(train_losses) + 1), test_losses, label='Test Loss')\n",
        "plt.xlabel('Epochs')\n",
        "plt.ylabel('Loss')\n",
        "plt.title('Loss vs Epochs')\n",
        "plt.legend()\n",
        "plt.show()\n"
      ],
      "metadata": {
        "colab": {
          "base_uri": "https://localhost:8080/",
          "height": 472
        },
        "id": "My40yHq63tmC",
        "outputId": "00e2668a-11a4-41fd-ca35-219b9ddcf7fb"
      },
      "execution_count": null,
      "outputs": [
        {
          "output_type": "display_data",
          "data": {
            "text/plain": [
              "<Figure size 640x480 with 1 Axes>"
            ],
            "image/png": "[encoded data removed]"
          },
          "metadata": {}
        }
      ]
    },
    {
      "cell_type": "code",
      "source": [
        "\n",
        "\n",
        "#  ( existing code)\n",
        "\n",
        "# (modified to print confusion matrix only once)\n",
        "\n",
        "\n",
        "# Confusion Matrix (printed only once after all epochs)\n",
        "cm = confusion_matrix(all_labels, all_predictions)\n",
        "plt.figure(figsize=(8, 6))\n",
        "sns.heatmap(cm, annot=True, fmt=\"d\", cmap=\"Blues\",\n",
        "            xticklabels=['Predicted Failure', 'Predicted Normal'],\n",
        "            yticklabels=['Actual Failure', 'Actual Normal'])\n",
        "plt.title(\"Confusion Matrix - Final\") # Added - Final to indicate it is the last epoch\n",
        "plt.show()\n"
      ],
      "metadata": {
        "colab": {
          "base_uri": "https://localhost:8080/",
          "height": 545
        },
        "id": "Dk0UiSc13fZI",
        "outputId": "99c6c045-2106-428e-8806-1dda42d3471e"
      },
      "execution_count": null,
      "outputs": [
        {
          "output_type": "display_data",
          "data": {
            "text/plain": [
              "<Figure size 800x600 with 2 Axes>"
            ],
            "image/png": "[encoded data removed]"
          },
          "metadata": {}
        }
      ]
    },
    {
      "cell_type": "code",
      "source": [
        "\n",
        "from sklearn.metrics import precision_score, recall_score, f1_score\n",
        "\n",
        "# Calculate precision, recall, and F1-score\n",
        "precision = precision_score(all_labels, all_predictions)\n",
        "recall = recall_score(all_labels, all_predictions)\n",
        "f1 = f1_score(all_labels, all_predictions)\n",
        "\n",
        "print(f\"\\nPrecision: {precision:.4f}\")\n",
        "print(f\"Recall: {recall:.4f}\")\n",
        "print(f\"F1-Score: {f1:.4f}\")"
      ],
      "metadata": {
        "colab": {
          "base_uri": "https://localhost:8080/"
        },
        "id": "3BcO4Mzp3oVw",
        "outputId": "018247d7-bb2d-459c-aa28-b85ca94b4b32"
      },
      "execution_count": null,
      "outputs": [
        {
          "output_type": "stream",
          "name": "stdout",
          "text": [
            "\n",
            "Precision: 0.8928\n",
            "Recall: 0.9909\n",
            "F1-Score: 0.9393\n"
          ]
        }
      ]
    },
    {
      "cell_type": "markdown",
      "metadata": {
        "id": "sgBbgfIzCYfZ"
      },
      "source": [
        "**DST code**"
      ]
    },
    {
      "cell_type": "code",
      "execution_count": null,
      "metadata": {
        "id": "TU7kT6F6CbsN",
        "colab": {
          "base_uri": "https://localhost:8080/"
        },
        "outputId": "dfdf1890-be65-4753-9604-c583a93a2d9d"
      },
      "outputs": [
        {
          "output_type": "stream",
          "name": "stdout",
          "text": [
            "Batch 0 - Data shape: torch.Size([100, 3, 1024]), Labels shape: torch.Size([100, 1]), Data type: torch.complex64, Labels shape: torch.float32\n",
            "Time taken 0.012703895568847656\n"
          ]
        }
      ],
      "source": [
        "from torch.utils.data import DataLoader\n",
        "import time\n",
        "\n",
        "start= time.time()\n",
        "### Your code goes here #################################################################################################\n",
        "\n",
        "\n",
        "# Create the dataset\n",
        "dataset = Dataset_custom_transform('/content/normal_3d_array.npy', '/content/failure_3d_array.npy', preprocessing_flag='DST')\n",
        "\n",
        "# Create a DataLoader\n",
        "batch_size = 100\n",
        "dataloader = DataLoader(dataset, batch_size=batch_size, shuffle=False)\n",
        "\n",
        "# Iterate through the DataLoader\n",
        "for batch_idx, (data, labels) in enumerate(dataloader):\n",
        "    data = data.to(torch.complex64)\n",
        "    labels = labels.float().unsqueeze(1)\n",
        "    print(f\"Batch {batch_idx} - Data shape: {data.shape}, Labels shape: {labels.shape}, Data type: {data.dtype}, Labels shape: {labels.dtype}\")\n",
        "    # Now you have batches of data and labels ready for your model\n",
        "    # ... your model training code here ...\n",
        "    break #remove to run through the entire dataloader\n",
        "\n",
        "#################################################################################################################################\n",
        "\n",
        "end = time.time()\n",
        "print(\"Time taken\", end- start)\n",
        "\n",
        "\n"
      ]
    },
    {
      "cell_type": "code",
      "execution_count": null,
      "metadata": {
        "id": "oBCl1Dh_F4IB"
      },
      "outputs": [],
      "source": [
        "# import torch\n",
        "# import torch.nn as nn\n",
        "import torch.optim as optim\n",
        "from torch.utils.data import DataLoader, random_split\n",
        "from sklearn.metrics import accuracy_score, confusion_matrix\n",
        "import numpy as np\n",
        "import seaborn as sns\n",
        "import matplotlib.pyplot as plt\n",
        "\n",
        "\n",
        "# Split the dataset into training and testing sets\n",
        "test_size = int(0.2 * len(dataset))\n",
        "train_size = len(dataset) - test_size\n",
        "train_dataset, test_dataset = random_split(dataset, [train_size, test_size])\n",
        "\n",
        "\n",
        "# # Create DataLoaders\n",
        "\n",
        "train_loader = DataLoader(train_dataset, batch_size=batch_size, shuffle=True)  # MMMR: This need to be True always as batch optimization need data to be shuffled at the start of every epochs.\n",
        "test_loader = DataLoader(test_dataset, batch_size=batch_size, shuffle=False)\n",
        "\n",
        "# # Instantiate the model, optimizer, and loss function\n",
        "model = ConvNet()\n",
        "optimizer = optim.Adam(model.parameters())\n",
        "criterion = nn.BCELoss()  # Binary Cross-Entropy Loss\n"
      ]
    },
    {
      "cell_type": "code",
      "execution_count": null,
      "metadata": {
        "id": "SZssK3agF8tY",
        "colab": {
          "base_uri": "https://localhost:8080/"
        },
        "outputId": "2bff10b4-3552-4213-bb6c-c72d051c877b"
      },
      "outputs": [
        {
          "output_type": "stream",
          "name": "stdout",
          "text": [
            "Epoch 1/10, Train Loss: 24.7405, Train Acc: 58.73%, Test Loss: 0.6150, Test Acc: 77.33%\n",
            "Epoch 2/10, Train Loss: 0.5147, Train Acc: 86.07%, Test Loss: 0.4423, Test Acc: 89.35%\n",
            "Epoch 3/10, Train Loss: 0.4238, Train Acc: 90.59%, Test Loss: 0.3847, Test Acc: 92.03%\n",
            "Epoch 4/10, Train Loss: 0.3654, Train Acc: 92.41%, Test Loss: 0.3293, Test Acc: 93.55%\n",
            "Epoch 5/10, Train Loss: 0.3198, Train Acc: 93.81%, Test Loss: 0.3097, Test Acc: 94.03%\n",
            "Epoch 6/10, Train Loss: 0.2862, Train Acc: 94.25%, Test Loss: 0.2584, Test Acc: 95.05%\n",
            "Epoch 7/10, Train Loss: 0.2564, Train Acc: 95.37%, Test Loss: 0.3019, Test Acc: 92.10%\n",
            "Early stopping at epoch 7\n"
          ]
        }
      ],
      "source": [
        "# Training loop with early stopping\n",
        "num_epochs = 10  # Adjust as needed\n",
        "patience = 1  # Number of epochs with no improvement after which training will be stopped\n",
        "best_accuracy = 0\n",
        "epochs_no_improve = 0\n",
        "\n",
        "# Training\n",
        "train_losses = []\n",
        "train_accuracies = []\n",
        "test_losses = []\n",
        "test_accuracies = []\n",
        "\n",
        "for epoch in range(num_epochs):\n",
        "    model.train()\n",
        "    train_loss = 0\n",
        "    correct_train = 0\n",
        "    total_train = 0\n",
        "    for data, labels in train_loader:\n",
        "        data = data.float()\n",
        "        labels = labels.float().unsqueeze(1)  # convert labels to float and unsqueeze\n",
        "        # print(f\"Batch {batch_idx} - Data shape: {data.shape}, Labels shape: {labels.shape}, Data type: {data.dtype}, Labels shape: {labels.dtype}\")\n",
        "\n",
        "        optimizer.zero_grad()\n",
        "        outputs = model(data)\n",
        "        loss = criterion(outputs, labels)\n",
        "        loss.backward()\n",
        "        optimizer.step()\n",
        "\n",
        "        train_loss += loss.item()\n",
        "        predicted = (outputs > 0.5).float()\n",
        "        total_train += labels.size(0)\n",
        "        correct_train += (predicted == labels).sum().item()\n",
        "\n",
        "    train_accuracy = 100 * correct_train / total_train\n",
        "    train_losses.append(train_loss / len(train_loader))\n",
        "    train_accuracies.append(train_accuracy)\n",
        "\n",
        "    # Evaluation\n",
        "    model.eval()\n",
        "    test_loss = 0\n",
        "    correct_test = 0\n",
        "    total_test = 0\n",
        "    all_predictions = []\n",
        "    all_labels = []\n",
        "    with torch.no_grad():\n",
        "        for data, labels in test_loader:\n",
        "            data = data.float()  # convert data to float\n",
        "            #data = data.to(torch.complex64)\n",
        "            labels = labels.float().unsqueeze(1)  # convert labels to float and unsqueeze\n",
        "            outputs = model(data)\n",
        "            loss = criterion(outputs, labels)\n",
        "            test_loss += loss.item()\n",
        "            predictions = (outputs > 0.5).float()  # convert output to 0,1 values\n",
        "            all_predictions.extend(predictions.cpu().numpy())\n",
        "            all_labels.extend(labels.cpu().numpy())\n",
        "            total_test += labels.size(0)\n",
        "            correct_test += (predictions == labels).sum().item()\n",
        "\n",
        "    test_accuracy = 100 * correct_test / total_test\n",
        "    test_losses.append(test_loss / len(test_loader))\n",
        "    test_accuracies.append(test_accuracy)\n",
        "\n",
        "\n",
        "    print(f\"Epoch {epoch+1}/{num_epochs}, \"\n",
        "          f\"Train Loss: {train_losses[-1]:.4f}, Train Acc: {train_accuracies[-1]:.2f}%, \"\n",
        "          f\"Test Loss: {test_losses[-1]:.4f}, Test Acc: {test_accuracies[-1]:.2f}%\")\n",
        "\n",
        "\n",
        " # Inside the training loop, after the evaluation:\n",
        "    if test_accuracy > best_accuracy:\n",
        "        best_accuracy = test_accuracy\n",
        "        epochs_no_improve = 0\n",
        "        # Save the model weights\n",
        "        torch.save(model.state_dict(), 'best_model_weights.pth')\n",
        "    else:\n",
        "        epochs_no_improve += 1\n",
        "    if epochs_no_improve == patience:\n",
        "        print(f\"Early stopping at epoch {epoch+1}\")\n",
        "        break\n",
        "\n",
        "    # Confusion Matrix (optional - uncomment if you want to see it per epoch aft every epoch)\n",
        "    # cm = confusion_matrix(all_labels, all_predictions)\n",
        "    # plt.figure(figsize=(8, 6))\n",
        "    # sns.heatmap(cm, annot=True, fmt=\"d\", cmap=\"Blues\",\n",
        "    #             xticklabels=['Predicted Failure', 'Predicted Normal'],\n",
        "    #             yticklabels=['Actual Failure', 'Actual Normal'])\n",
        "    # plt.title(f\"Confusion Matrix - Epoch {epoch+1}\")\n",
        "    # plt.show()"
      ]
    },
    {
      "cell_type": "code",
      "source": [
        "# Plot the loss vs epochs\n",
        "plt.plot(range(1, len(train_losses) + 1), train_losses, label='Train Loss')\n",
        "plt.plot(range(1, len(train_losses) + 1), test_losses, label='Test Loss')\n",
        "plt.xlabel('Epochs')\n",
        "plt.ylabel('Loss')\n",
        "plt.title('Loss vs Epochs')\n",
        "plt.legend()\n",
        "plt.show()\n"
      ],
      "metadata": {
        "colab": {
          "base_uri": "https://localhost:8080/",
          "height": 472
        },
        "id": "9TSZSFGs4aRh",
        "outputId": "94eb9365-456f-48df-b5f0-3c8eeb6f8b22"
      },
      "execution_count": null,
      "outputs": [
        {
          "output_type": "display_data",
          "data": {
            "text/plain": [
              "<Figure size 640x480 with 1 Axes>"
            ],
            "image/png": "[encoded data removed]"
          },
          "metadata": {}
        }
      ]
    },
    {
      "cell_type": "code",
      "execution_count": null,
      "metadata": {
        "id": "ZwnDgsb4GAGJ",
        "colab": {
          "base_uri": "https://localhost:8080/",
          "height": 545
        },
        "outputId": "ab9b7290-2556-4c52-81ae-0f5cb35c943f"
      },
      "outputs": [
        {
          "output_type": "display_data",
          "data": {
            "text/plain": [
              "<Figure size 800x600 with 2 Axes>"
            ],
            "image/png": "[encoded data removed]"
          },
          "metadata": {}
        }
      ],
      "source": [
        "\n",
        "\n",
        "#  ( existing code)\n",
        "\n",
        "# (modified to print confusion matrix only once)\n",
        "\n",
        "\n",
        "# Confusion Matrix (printed only once after all epochs)\n",
        "cm = confusion_matrix(all_labels, all_predictions)\n",
        "plt.figure(figsize=(8, 6))\n",
        "sns.heatmap(cm, annot=True, fmt=\"d\", cmap=\"Blues\",\n",
        "            xticklabels=['Predicted Failure', 'Predicted Normal'],\n",
        "            yticklabels=['Actual Failure', 'Actual Normal'])\n",
        "plt.title(\"Confusion Matrix - Final\") # Added - Final to indicate it is the last epoch\n",
        "plt.show()\n"
      ]
    },
    {
      "cell_type": "code",
      "execution_count": null,
      "metadata": {
        "id": "Kdp3pS1hiYJV",
        "colab": {
          "base_uri": "https://localhost:8080/"
        },
        "outputId": "85c8f740-0757-4b68-b2d3-c086ee804d21"
      },
      "outputs": [
        {
          "output_type": "stream",
          "name": "stdout",
          "text": [
            "\n",
            "Precision: 0.9676\n",
            "Recall: 0.8749\n",
            "F1-Score: 0.9189\n"
          ]
        }
      ],
      "source": [
        "\n",
        "from sklearn.metrics import precision_score, recall_score, f1_score\n",
        "\n",
        "# Calculate precision, recall, and F1-score\n",
        "precision = precision_score(all_labels, all_predictions)\n",
        "recall = recall_score(all_labels, all_predictions)\n",
        "f1 = f1_score(all_labels, all_predictions)\n",
        "\n",
        "print(f\"\\nPrecision: {precision:.4f}\")\n",
        "print(f\"Recall: {recall:.4f}\")\n",
        "print(f\"F1-Score: {f1:.4f}\")"
      ]
    },
    {
      "cell_type": "code",
      "source": [
        "# import torch\n",
        "# import torch.nn as nn\n",
        "# import torch.optim as optim\n",
        "# from torch.utils.data import DataLoader, random_split\n",
        "# import numpy as np\n",
        "# import matplotlib.pyplot as plt\n",
        "# import seaborn as sns\n",
        "# from sklearn.metrics import confusion_matrix, precision_score, recall_score, f1_score\n",
        "\n",
        "# seeds = [0, 1, 42, 1234, 10]\n",
        "# #seeds = [1, 42, 1234, 10]\n",
        "\n",
        "# for seed in seeds:\n",
        "#     print(f\"\\nRunning training with seed: {seed}\")\n",
        "#     torch.manual_seed(seed)\n",
        "#     torch.cuda.manual_seed(seed)\n",
        "#     torch.backends.cudnn.deterministic = True\n",
        "#     torch.backends.cudnn.benchmark = False\n",
        "#     np.random.seed(seed)\n",
        "\n",
        "#     test_size = int(0.2 * len(dataset))\n",
        "#     train_size = len(dataset) - test_size\n",
        "#     train_dataset, test_dataset = random_split(dataset, [train_size, test_size])\n",
        "\n",
        "#     train_loader = DataLoader(train_dataset, batch_size=batch_size, shuffle=True)\n",
        "#     test_loader = DataLoader(test_dataset, batch_size=batch_size, shuffle=False)\n",
        "\n",
        "#     model = ComplexConvNet()\n",
        "#     criterion = nn.BCEWithLogitsLoss()\n",
        "#     optimizer = optim.Adam(model.parameters(), lr=1e-3)\n",
        "\n",
        "#     num_epochs = 10\n",
        "#     patience = 5\n",
        "#     best_accuracy = 0\n",
        "#     epochs_no_improve = 0\n",
        "\n",
        "#     train_losses = []\n",
        "#     train_accuracies = []\n",
        "#     test_losses = []\n",
        "#     test_accuracies = []\n",
        "\n",
        "#     for epoch in range(num_epochs):\n",
        "#         model.train()\n",
        "#         train_loss = 0\n",
        "#         correct_train = 0\n",
        "#         total_train = 0\n",
        "\n",
        "#         for data, labels in train_loader:\n",
        "#             data = data.float()\n",
        "#             data = (data - data.mean(dim=-1, keepdim=True)) / (data.std(dim=-1, keepdim=True) + 1e-6)\n",
        "#             data = data.to(torch.complex64)\n",
        "#             labels = labels.float().unsqueeze(1)\n",
        "\n",
        "#             optimizer.zero_grad()\n",
        "#             outputs = model(data)\n",
        "#             loss = criterion(outputs, labels)\n",
        "#             loss.backward()\n",
        "#             optimizer.step()\n",
        "\n",
        "#             train_loss += loss.item()\n",
        "#             predicted = (torch.sigmoid(outputs) > 0.5).float()\n",
        "#             total_train += labels.size(0)\n",
        "#             correct_train += (predicted == labels).sum().item()\n",
        "\n",
        "#         train_accuracy = 100 * correct_train / total_train\n",
        "#         train_losses.append(train_loss / len(train_loader))\n",
        "#         train_accuracies.append(train_accuracy)\n",
        "\n",
        "#         model.eval()\n",
        "#         test_loss = 0\n",
        "#         correct_test = 0\n",
        "#         total_test = 0\n",
        "#         all_predictions = []\n",
        "#         all_labels = []\n",
        "\n",
        "#         with torch.no_grad():\n",
        "#             for data, labels in test_loader:\n",
        "#                 if data.ndim == 2:\n",
        "#                     data = data.unsqueeze(1)\n",
        "#                 elif data.ndim == 4:\n",
        "#                     data = data.squeeze(1)\n",
        "#                 data = data.float()\n",
        "#                 data = (data - data.mean(dim=-1, keepdim=True)) / (data.std(dim=-1, keepdim=True) + 1e-6)\n",
        "#                 data = data.to(torch.complex64)\n",
        "#                 labels = labels.float().unsqueeze(1)\n",
        "\n",
        "#                 outputs = model(data)\n",
        "#                 loss = criterion(outputs, labels)\n",
        "#                 test_loss += loss.item()\n",
        "#                 predictions = (torch.sigmoid(outputs) > 0.5).float()\n",
        "#                 all_predictions.extend(predictions.cpu().numpy())\n",
        "#                 all_labels.extend(labels.cpu().numpy())\n",
        "#                 total_test += labels.size(0)\n",
        "#                 correct_test += (predictions == labels).sum().item()\n",
        "\n",
        "#         test_accuracy = 100 * correct_test / total_test\n",
        "#         test_losses.append(test_loss / len(test_loader))\n",
        "#         test_accuracies.append(test_accuracy)\n",
        "\n",
        "#         print(f\"Epoch {epoch+1}/{num_epochs}, \"\n",
        "#               f\"Train Loss: {train_losses[-1]:.4f}, Train Acc: {train_accuracies[-1]:.2f}%, \"\n",
        "#               f\"Test Loss: {test_losses[-1]:.4f}, Test Acc: {test_accuracies[-1]:.2f}%\")\n",
        "\n",
        "#         if test_accuracy > best_accuracy:\n",
        "#             best_accuracy = test_accuracy\n",
        "#             epochs_no_improve = 0\n",
        "#             torch.save(model.state_dict(), f'best_model_seed_{seed}.pth')\n",
        "#         else:\n",
        "#             epochs_no_improve += 1\n",
        "#             if epochs_no_improve == patience:\n",
        "#                 print(f\"Early stopping at epoch {epoch+1}\")\n",
        "#                 break\n",
        "\n",
        "#     cm = confusion_matrix(all_labels, all_predictions)\n",
        "#     plt.figure(figsize=(8, 6))\n",
        "#     sns.heatmap(cm, annot=True, fmt=\"d\", cmap=\"Blues\",\n",
        "#                 xticklabels=['Predicted Failure', 'Predicted Normal'],\n",
        "#                 yticklabels=['Actual Failure', 'Actual Normal'])\n",
        "#     plt.title(f\"Confusion Matrix - Final (Seed: {seed})\")\n",
        "#     plt.xlabel(\"Predicted Label\")\n",
        "#     plt.ylabel(\"True Label\")\n",
        "#     plt.show()\n",
        "\n",
        "#     precision = precision_score(all_labels, all_predictions)\n",
        "#     recall = recall_score(all_labels, all_predictions)\n",
        "#     f1 = f1_score(all_labels, all_predictions)\n",
        "\n",
        "#     print(f\"\\n[Metrics for Seed {seed}]\")\n",
        "#     print(f\"Precision: {precision:.4f}\")\n",
        "#     print(f\"Recall:    {recall:.4f}\")\n",
        "#     print(f\"F1-Score:  {f1:.4f}\")"
      ],
      "metadata": {
        "id": "yubLM-5I4B7E"
      },
      "execution_count": null,
      "outputs": []
    },
    {
      "cell_type": "markdown",
      "metadata": {
        "id": "SQBS725lJUal"
      },
      "source": [
        "**WAVELET**"
      ]
    },
    {
      "cell_type": "code",
      "execution_count": null,
      "metadata": {
        "id": "A_rPgfgtJUDU",
        "colab": {
          "base_uri": "https://localhost:8080/"
        },
        "outputId": "f4f6602d-5666-4d59-b1c0-01e58474d1a8"
      },
      "outputs": [
        {
          "output_type": "stream",
          "name": "stdout",
          "text": [
            "Batch 0 - Data shape: torch.Size([100, 3, 1024]), Labels shape: torch.Size([100, 1]), Data type: torch.complex64, Labels shape: torch.float32\n",
            "Time taken 0.07648491859436035\n"
          ]
        }
      ],
      "source": [
        "from torch.utils.data import DataLoader\n",
        "import time\n",
        "\n",
        "start= time.time()\n",
        "### Your code goes here #################################################################################################\n",
        "\n",
        "\n",
        "# Create the dataset\n",
        "dataset = Dataset_custom_transform('/content/normal_3d_array.npy', '/content/failure_3d_array.npy', preprocessing_flag='Wavelet')\n",
        "\n",
        "# Create a DataLoader\n",
        "batch_size = 100\n",
        "dataloader = DataLoader(dataset, batch_size=batch_size, shuffle=False)\n",
        "\n",
        "# Iterate through the DataLoader\n",
        "for batch_idx, (data, labels) in enumerate(dataloader):\n",
        "    data = data.to(torch.complex64)\n",
        "    labels = labels.float().unsqueeze(1)\n",
        "    print(f\"Batch {batch_idx} - Data shape: {data.shape}, Labels shape: {labels.shape}, Data type: {data.dtype}, Labels shape: {labels.dtype}\")\n",
        "    # Now you have batches of data and labels ready for your model\n",
        "    # ... your model training code here ...\n",
        "    break #remove to run through the entire dataloader\n",
        "\n",
        "#################################################################################################################################\n",
        "\n",
        "end = time.time()\n",
        "print(\"Time taken\", end- start)\n",
        "\n",
        "\n"
      ]
    },
    {
      "cell_type": "code",
      "execution_count": null,
      "metadata": {
        "id": "tP94i1X8xGKG"
      },
      "outputs": [],
      "source": [
        "# import torch\n",
        "# import torch.nn as nn\n",
        "import torch.optim as optim\n",
        "from torch.utils.data import DataLoader, random_split\n",
        "from sklearn.metrics import accuracy_score, confusion_matrix\n",
        "import numpy as np\n",
        "import seaborn as sns\n",
        "import matplotlib.pyplot as plt\n",
        "\n",
        "\n",
        "# Split the dataset into training and testing sets\n",
        "test_size = int(0.2 * len(dataset))\n",
        "train_size = len(dataset) - test_size\n",
        "train_dataset, test_dataset = random_split(dataset, [train_size, test_size])\n",
        "\n",
        "\n",
        "# # Create DataLoaders\n",
        "\n",
        "train_loader = DataLoader(train_dataset, batch_size=batch_size, shuffle=True)  # MMMR: This need to be True always as batch optimization need data to be shuffled at the start of every epochs.\n",
        "test_loader = DataLoader(test_dataset, batch_size=batch_size, shuffle=False)\n",
        "\n",
        "# # Instantiate the model, optimizer, and loss function\n",
        "model = ComplexConvNet()\n",
        "optimizer = optim.Adam(model.parameters())\n",
        "criterion = nn.BCELoss()  # Binary Cross-Entropy Loss\n"
      ]
    },
    {
      "cell_type": "code",
      "source": [
        "# Training loop with early stopping\n",
        "num_epochs = 10  # Adjust as needed\n",
        "patience = 1  # Number of epochs with no improvement after which training will be stopped\n",
        "best_accuracy = 0\n",
        "epochs_no_improve = 0\n",
        "\n",
        "# Training\n",
        "train_losses = []\n",
        "train_accuracies = []\n",
        "test_losses = []\n",
        "test_accuracies = []\n",
        "\n",
        "for epoch in range(num_epochs):\n",
        "    model.train()\n",
        "    train_loss = 0\n",
        "    correct_train = 0\n",
        "    total_train = 0\n",
        "    for data, labels in train_loader:\n",
        "        data = data.to(torch.complex64)\n",
        "        labels = labels.float().unsqueeze(1)  # convert labels to float and unsqueeze\n",
        "        # print(f\"Batch {batch_idx} - Data shape: {data.shape}, Labels shape: {labels.shape}, Data type: {data.dtype}, Labels shape: {labels.dtype}\")\n",
        "\n",
        "        optimizer.zero_grad()\n",
        "        outputs = model(data)\n",
        "        loss = criterion(outputs, labels)\n",
        "        loss.backward()\n",
        "        optimizer.step()\n",
        "\n",
        "        train_loss += loss.item()\n",
        "        predicted = (outputs > 0.5).float()\n",
        "        total_train += labels.size(0)\n",
        "        correct_train += (predicted == labels).sum().item()\n",
        "\n",
        "    train_accuracy = 100 * correct_train / total_train\n",
        "    train_losses.append(train_loss / len(train_loader))\n",
        "    train_accuracies.append(train_accuracy)\n",
        "\n",
        "    # Evaluation\n",
        "    model.eval() ## USING COMPLEX CON NET IN FFT TOO ##\n",
        "    test_loss = 0\n",
        "    correct_test = 0\n",
        "    total_test = 0\n",
        "    all_predictions = []\n",
        "    all_labels = []\n",
        "    with torch.no_grad():\n",
        "        for data, labels in test_loader:\n",
        "            #data = data.float()  # convert data to float\n",
        "            data = data.to(torch.complex64)\n",
        "            labels = labels.float().unsqueeze(1)  # convert labels to float and unsqueeze\n",
        "            outputs = model(data)\n",
        "            loss = criterion(outputs, labels)\n",
        "            test_loss += loss.item()\n",
        "            predictions = (outputs > 0.5).float()  # convert output to 0,1 values\n",
        "            all_predictions.extend(predictions.cpu().numpy())\n",
        "            all_labels.extend(labels.cpu().numpy())\n",
        "            total_test += labels.size(0)\n",
        "            correct_test += (predictions == labels).sum().item()\n",
        "\n",
        "    test_accuracy = 100 * correct_test / total_test\n",
        "    test_losses.append(test_loss / len(test_loader))\n",
        "    test_accuracies.append(test_accuracy)\n",
        "\n",
        "\n",
        "    print(f\"Epoch {epoch+1}/{num_epochs}, \"\n",
        "          f\"Train Loss: {train_losses[-1]:.4f}, Train Acc: {train_accuracies[-1]:.2f}%, \"\n",
        "          f\"Test Loss: {test_losses[-1]:.4f}, Test Acc: {test_accuracies[-1]:.2f}%\")\n",
        "\n",
        "\n",
        "\n",
        "     # Early stopping check\n",
        "    if test_accuracy > best_accuracy:\n",
        "        best_accuracy = test_accuracy\n",
        "        epochs_no_improve = 0\n",
        "        # Save the model weights\n",
        "        torch.save(model.state_dict(), 'best_model_weights.pth')\n",
        "    else:\n",
        "        epochs_no_improve += 1\n",
        "    if epochs_no_improve == patience:\n",
        "        print(f\"Early stopping at epoch {epoch+1}\")\n",
        "        break\n",
        "\n",
        "    # Confusion Matrix (optional - uncomment if you want to see it per epoch)\n",
        "    # cm = confusion_matrix(all_labels, all_predictions)\n",
        "    # plt.figure(figsize=(8, 6))\n",
        "    # sns.heatmap(cm, annot=True, fmt=\"d\", cmap=\"Blues\",\n",
        "    #             xticklabels=['Predicted Failure', 'Predicted Normal'],\n",
        "    #             yticklabels=['Actual Failure', 'Actual Normal'])\n",
        "    # plt.title(f\"Confusion Matrix - Epoch {epoch+1}\")\n",
        "    # plt.show()"
      ],
      "metadata": {
        "colab": {
          "base_uri": "https://localhost:8080/"
        },
        "id": "3vp94i9p464N",
        "outputId": "7ecf6274-2981-43a3-c860-2de71e807511"
      },
      "execution_count": null,
      "outputs": [
        {
          "output_type": "stream",
          "name": "stdout",
          "text": [
            "Epoch 1/10, Train Loss: 0.4296, Train Acc: 84.70%, Test Loss: 0.2449, Test Acc: 92.17%\n",
            "Epoch 2/10, Train Loss: 0.2088, Train Acc: 92.60%, Test Loss: 0.1863, Test Acc: 93.55%\n",
            "Epoch 3/10, Train Loss: 0.1936, Train Acc: 93.46%, Test Loss: 0.1764, Test Acc: 93.95%\n",
            "Epoch 4/10, Train Loss: 0.1459, Train Acc: 95.07%, Test Loss: 0.1741, Test Acc: 93.97%\n",
            "Epoch 5/10, Train Loss: 0.1325, Train Acc: 95.51%, Test Loss: 0.1545, Test Acc: 94.90%\n",
            "Epoch 6/10, Train Loss: 0.1265, Train Acc: 95.67%, Test Loss: 0.1653, Test Acc: 94.45%\n",
            "Early stopping at epoch 6\n"
          ]
        }
      ]
    },
    {
      "cell_type": "code",
      "source": [
        "# Plot the loss vs epochs\n",
        "plt.plot(range(1, len(train_losses) + 1), train_losses, label='Train Loss')\n",
        "plt.plot(range(1, len(train_losses) + 1), test_losses, label='Test Loss')\n",
        "plt.xlabel('Epochs')\n",
        "plt.ylabel('Loss')\n",
        "plt.title('Loss vs Epochs')\n",
        "plt.legend()\n",
        "plt.show()\n"
      ],
      "metadata": {
        "colab": {
          "base_uri": "https://localhost:8080/",
          "height": 472
        },
        "id": "bou9NcaI4feM",
        "outputId": "0a59c5a1-72bd-4ce3-ba48-6469732569d6"
      },
      "execution_count": null,
      "outputs": [
        {
          "output_type": "display_data",
          "data": {
            "text/plain": [
              "<Figure size 640x480 with 1 Axes>"
            ],
            "image/png": "[encoded data removed]"
          },
          "metadata": {}
        }
      ]
    },
    {
      "cell_type": "code",
      "execution_count": null,
      "metadata": {
        "id": "Ir86V6NOxXPf",
        "colab": {
          "base_uri": "https://localhost:8080/",
          "height": 545
        },
        "outputId": "63df86ac-3a3a-471d-eaf0-3fd6ca473b63"
      },
      "outputs": [
        {
          "output_type": "display_data",
          "data": {
            "text/plain": [
              "<Figure size 800x600 with 2 Axes>"
            ],
            "image/png": "[encoded data removed]"
          },
          "metadata": {}
        }
      ],
      "source": [
        "\n",
        "\n",
        "#  ( existing code)\n",
        "\n",
        "# (modified to print confusion matrix only once)\n",
        "\n",
        "\n",
        "# Confusion Matrix (printed only once after all epochs)\n",
        "cm = confusion_matrix(all_labels, all_predictions)\n",
        "plt.figure(figsize=(8, 6))\n",
        "sns.heatmap(cm, annot=True, fmt=\"d\", cmap=\"Blues\",\n",
        "            xticklabels=['Predicted Failure', 'Predicted Normal'],\n",
        "            yticklabels=['Actual Failure', 'Actual Normal'])\n",
        "plt.title(\"Confusion Matrix - Final\") # Added - Final to indicate it is the last epoch\n",
        "plt.show()\n"
      ]
    },
    {
      "cell_type": "code",
      "execution_count": null,
      "metadata": {
        "id": "bQiKvRj3xblr",
        "colab": {
          "base_uri": "https://localhost:8080/"
        },
        "outputId": "8cf2be06-3434-4115-96b0-6be82338cbb3"
      },
      "outputs": [
        {
          "output_type": "stream",
          "name": "stdout",
          "text": [
            "\n",
            "Precision: 0.9144\n",
            "Recall: 0.9839\n",
            "F1-Score: 0.9479\n"
          ]
        }
      ],
      "source": [
        "\n",
        "from sklearn.metrics import precision_score, recall_score, f1_score\n",
        "\n",
        "# Calculate precision, recall, and F1-score\n",
        "precision = precision_score(all_labels, all_predictions)\n",
        "recall = recall_score(all_labels, all_predictions)\n",
        "f1 = f1_score(all_labels, all_predictions)\n",
        "\n",
        "print(f\"\\nPrecision: {precision:.4f}\")\n",
        "print(f\"Recall: {recall:.4f}\")\n",
        "print(f\"F1-Score: {f1:.4f}\")"
      ]
    },
    {
      "cell_type": "markdown",
      "source": [
        "**THE END**"
      ],
      "metadata": {
        "id": "elox7qHE7NFd"
      }
    },
    {
      "cell_type": "code",
      "execution_count": null,
      "metadata": {
        "id": "yNrqRb-TxQkh"
      },
      "outputs": [],
      "source": [
        "# # Training loop with early stopping\n",
        "# num_epochs = 10  # Adjust as needed\n",
        "# patience = 1  # Number of epochs with no improvement after which training will be stopped\n",
        "# best_accuracy = 0\n",
        "# epochs_no_improve = 0\n",
        "\n",
        "# # Training\n",
        "# train_losses = []\n",
        "# train_accuracies = []\n",
        "# test_losses = []\n",
        "# test_accuracies = []\n",
        "\n",
        "# for epoch in range(num_epochs):\n",
        "#     model.train()\n",
        "#     train_loss = 0\n",
        "#     correct_train = 0\n",
        "#     total_train = 0\n",
        "#     for data, labels in train_loader:\n",
        "#         data = data.float()\n",
        "#         labels = labels.float().unsqueeze(1)  # convert labels to float and unsqueeze\n",
        "#         # print(f\"Batch {batch_idx} - Data shape: {data.shape}, Labels shape: {labels.shape}, Data type: {data.dtype}, Labels shape: {labels.dtype}\")\n",
        "\n",
        "#         optimizer.zero_grad()\n",
        "#         outputs = model(data)\n",
        "#         loss = criterion(outputs, labels)\n",
        "#         loss.backward()\n",
        "#         optimizer.step()\n",
        "\n",
        "#         train_loss += loss.item()\n",
        "#         predicted = (outputs > 0.5).float()\n",
        "#         total_train += labels.size(0)\n",
        "#         correct_train += (predicted == labels).sum().item()\n",
        "\n",
        "#     train_accuracy = 100 * correct_train / total_train\n",
        "#     train_losses.append(train_loss / len(train_loader))\n",
        "#     train_accuracies.append(train_accuracy)\n",
        "\n",
        "#     # Evaluation\n",
        "#     model.eval()\n",
        "#     test_loss = 0\n",
        "#     correct_test = 0\n",
        "#     total_test = 0\n",
        "#     all_predictions = []\n",
        "#     all_labels = []\n",
        "#     with torch.no_grad():\n",
        "#         for data, labels in test_loader:\n",
        "#             data = data.float()  # convert data to float\n",
        "#             #data = data.to(torch.complex64)\n",
        "#             labels = labels.float().unsqueeze(1)  # convert labels to float and unsqueeze\n",
        "#             outputs = model(data)\n",
        "#             loss = criterion(outputs, labels)\n",
        "#             test_loss += loss.item()\n",
        "#             predictions = (outputs > 0.5).float()  # convert output to 0,1 values\n",
        "#             all_predictions.extend(predictions.cpu().numpy())\n",
        "#             all_labels.extend(labels.cpu().numpy())\n",
        "#             total_test += labels.size(0)\n",
        "#             correct_test += (predictions == labels).sum().item()\n",
        "\n",
        "#     test_accuracy = 100 * correct_test / total_test\n",
        "#     test_losses.append(test_loss / len(test_loader))\n",
        "#     test_accuracies.append(test_accuracy)\n",
        "\n",
        "\n",
        "#     print(f\"Epoch {epoch+1}/{num_epochs}, \"\n",
        "#           f\"Train Loss: {train_losses[-1]:.4f}, Train Acc: {train_accuracies[-1]:.2f}%, \"\n",
        "#           f\"Test Loss: {test_losses[-1]:.4f}, Test Acc: {test_accuracies[-1]:.2f}%\")\n",
        "\n",
        "\n",
        "#  # Inside the training loop, after the evaluation:\n",
        "#     if test_accuracy > best_accuracy:\n",
        "#         best_accuracy = test_accuracy\n",
        "#         epochs_no_improve = 0\n",
        "#         # Save the model weights\n",
        "#         torch.save(model.state_dict(), 'best_model_weights.pth')\n",
        "#     else:\n",
        "#         epochs_no_improve += 1\n",
        "#     if epochs_no_improve == patience:\n",
        "#         print(f\"Early stopping at epoch {epoch+1}\")\n",
        "#         break\n",
        "\n",
        "#     # Confusion Matrix (optional - uncomment if you want to see it per epoch aft every epoch)\n",
        "#     # cm = confusion_matrix(all_labels, all_predictions)\n",
        "#     # plt.figure(figsize=(8, 6))\n",
        "#     # sns.heatmap(cm, annot=True, fmt=\"d\", cmap=\"Blues\",\n",
        "#     #             xticklabels=['Predicted Failure', 'Predicted Normal'],\n",
        "#     #             yticklabels=['Actual Failure', 'Actual Normal'])\n",
        "#     # plt.title(f\"Confusion Matrix - Epoch {epoch+1}\")\n",
        "#     # plt.show()"
      ]
    },
    {
      "cell_type": "code",
      "source": [
        "# import torch\n",
        "# import torch.nn as nn\n",
        "# import torch.optim as optim\n",
        "# from torch.utils.data import DataLoader, random_split\n",
        "# import numpy as np\n",
        "# import matplotlib.pyplot as plt\n",
        "# import seaborn as sns\n",
        "# from sklearn.metrics import confusion_matrix, precision_score, recall_score, f1_score\n",
        "\n",
        "# seeds = [0, 1, 42, 1234, 10]\n",
        "# #seeds = [42, 1234, 10]\n",
        "\n",
        "# for seed in seeds:\n",
        "#     print(f\"\\nRunning training with seed: {seed}\")\n",
        "#     torch.manual_seed(seed)\n",
        "#     torch.cuda.manual_seed(seed)\n",
        "#     torch.backends.cudnn.deterministic = True\n",
        "#     torch.backends.cudnn.benchmark = False\n",
        "#     np.random.seed(seed)\n",
        "\n",
        "#     test_size = int(0.2 * len(dataset))\n",
        "#     train_size = len(dataset) - test_size\n",
        "#     train_dataset, test_dataset = random_split(dataset, [train_size, test_size])\n",
        "\n",
        "#     train_loader = DataLoader(train_dataset, batch_size=batch_size, shuffle=True)\n",
        "#     test_loader = DataLoader(test_dataset, batch_size=batch_size, shuffle=False)\n",
        "\n",
        "#     model = ComplexConvNet()\n",
        "#     criterion = nn.BCEWithLogitsLoss()\n",
        "#     optimizer = optim.Adam(model.parameters(), lr=1e-3)\n",
        "\n",
        "#     num_epochs = 10\n",
        "#     patience = 5\n",
        "#     best_accuracy = 0\n",
        "#     epochs_no_improve = 0\n",
        "\n",
        "#     train_losses = []\n",
        "#     train_accuracies = []\n",
        "#     test_losses = []\n",
        "#     test_accuracies = []\n",
        "\n",
        "#     for epoch in range(num_epochs):\n",
        "#         model.train()\n",
        "#         train_loss = 0\n",
        "#         correct_train = 0\n",
        "#         total_train = 0\n",
        "\n",
        "#         for data, labels in train_loader:\n",
        "#             data = data.float()\n",
        "#             data = (data - data.mean(dim=-1, keepdim=True)) / (data.std(dim=-1, keepdim=True) + 1e-6)\n",
        "#             data = data.to(torch.complex64)\n",
        "#             labels = labels.float().unsqueeze(1)\n",
        "\n",
        "#             optimizer.zero_grad()\n",
        "#             outputs = model(data)\n",
        "#             loss = criterion(outputs, labels)\n",
        "#             loss.backward()\n",
        "#             optimizer.step()\n",
        "\n",
        "#             train_loss += loss.item()\n",
        "#             predicted = (torch.sigmoid(outputs) > 0.5).float()\n",
        "#             total_train += labels.size(0)\n",
        "#             correct_train += (predicted == labels).sum().item()\n",
        "\n",
        "#         train_accuracy = 100 * correct_train / total_train\n",
        "#         train_losses.append(train_loss / len(train_loader))\n",
        "#         train_accuracies.append(train_accuracy)\n",
        "\n",
        "#         model.eval()\n",
        "#         test_loss = 0\n",
        "#         correct_test = 0\n",
        "#         total_test = 0\n",
        "#         all_predictions = []\n",
        "#         all_labels = []\n",
        "\n",
        "#         with torch.no_grad():\n",
        "#             for data, labels in test_loader:\n",
        "#                 if data.ndim == 2:\n",
        "#                     data = data.unsqueeze(1)\n",
        "#                 elif data.ndim == 4:\n",
        "#                     data = data.squeeze(1)\n",
        "#                 data = data.float()\n",
        "#                 data = (data - data.mean(dim=-1, keepdim=True)) / (data.std(dim=-1, keepdim=True) + 1e-6)\n",
        "#                 data = data.to(torch.complex64)\n",
        "#                 labels = labels.float().unsqueeze(1)\n",
        "\n",
        "#                 outputs = model(data)\n",
        "#                 loss = criterion(outputs, labels)\n",
        "#                 test_loss += loss.item()\n",
        "#                 predictions = (torch.sigmoid(outputs) > 0.5).float()\n",
        "#                 all_predictions.extend(predictions.cpu().numpy())\n",
        "#                 all_labels.extend(labels.cpu().numpy())\n",
        "#                 total_test += labels.size(0)\n",
        "#                 correct_test += (predictions == labels).sum().item()\n",
        "\n",
        "#         test_accuracy = 100 * correct_test / total_test\n",
        "#         test_losses.append(test_loss / len(test_loader))\n",
        "#         test_accuracies.append(test_accuracy)\n",
        "\n",
        "#         print(f\"Epoch {epoch+1}/{num_epochs}, \"\n",
        "#               f\"Train Loss: {train_losses[-1]:.4f}, Train Acc: {train_accuracies[-1]:.2f}%, \"\n",
        "#               f\"Test Loss: {test_losses[-1]:.4f}, Test Acc: {test_accuracies[-1]:.2f}%\")\n",
        "\n",
        "#         if test_accuracy > best_accuracy:\n",
        "#             best_accuracy = test_accuracy\n",
        "#             epochs_no_improve = 0\n",
        "#             torch.save(model.state_dict(), f'best_model_seed_{seed}.pth')\n",
        "#         else:\n",
        "#             epochs_no_improve += 1\n",
        "#             if epochs_no_improve == patience:\n",
        "#                 print(f\"Early stopping at epoch {epoch+1}\")\n",
        "#                 break\n",
        "\n",
        "#     cm = confusion_matrix(all_labels, all_predictions)\n",
        "#     plt.figure(figsize=(8, 6))\n",
        "#     sns.heatmap(cm, annot=True, fmt=\"d\", cmap=\"Blues\",\n",
        "#                 xticklabels=['Predicted Failure', 'Predicted Normal'],\n",
        "#                 yticklabels=['Actual Failure', 'Actual Normal'])\n",
        "#     plt.title(f\"Confusion Matrix - Final (Seed: {seed})\")\n",
        "#     plt.xlabel(\"Predicted Label\")\n",
        "#     plt.ylabel(\"True Label\")\n",
        "#     plt.show()\n",
        "\n",
        "#     precision = precision_score(all_labels, all_predictions)\n",
        "#     recall = recall_score(all_labels, all_predictions)\n",
        "#     f1 = f1_score(all_labels, all_predictions)\n",
        "\n",
        "#     print(f\"\\n[Metrics for Seed {seed}]\")\n",
        "#     print(f\"Precision: {precision:.4f}\")\n",
        "#     print(f\"Recall:    {recall:.4f}\")\n",
        "#     print(f\"F1-Score:  {f1:.4f}\")"
      ],
      "metadata": {
        "id": "tnT-DM054Me_"
      },
      "execution_count": null,
      "outputs": []
    }
  ],
  "metadata": {
    "accelerator": "GPU",
    "colab": {
      "gpuType": "T4",
      "provenance": []
    },
    "kernelspec": {
      "display_name": "Python 3",
      "name": "python3"
    },
    "language_info": {
      "name": "python"
    }
  },
  "nbformat": 4,
  "nbformat_minor": 0
}