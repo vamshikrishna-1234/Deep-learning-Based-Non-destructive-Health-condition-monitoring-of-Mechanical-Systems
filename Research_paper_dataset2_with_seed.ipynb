{
  "cells": [
    {
      "cell_type": "markdown",
      "source": [
        "**INDUCTION MOTOR VIBRATION DATASET**"
      ],
      "metadata": {
        "id": "YE-9WFmKDzW7"
      }
    },
    {
      "cell_type": "markdown",
      "metadata": {
        "id": "M3SaY3IK-Xqj"
      },
      "source": [
        "\n",
        "\n",
        "---\n",
        "**Without Transform**\n",
        "\n",
        "\n",
        "---\n",
        "\n",
        "\n",
        "\n"
      ]
    },
    {
      "cell_type": "markdown",
      "metadata": {
        "id": "DC26yO7Iw9uB"
      },
      "source": [
        "**STEP** 1"
      ]
    },
    {
      "cell_type": "code",
      "execution_count": 1,
      "metadata": {
        "id": "vcinekFBwelE"
      },
      "outputs": [],
      "source": [
        "#importing all libs\n",
        "\n",
        "import numpy as np\n",
        "import pandas as pd\n",
        "import math\n",
        "\n",
        "import matplotlib.pyplot as plt\n",
        "import seaborn as sns\n",
        "from sklearn.cluster import KMeans\n",
        "from sklearn.model_selection import train_test_split\n",
        "from sklearn.metrics import accuracy_score, classification_report\n",
        "from scipy.spatial.distance import euclidean\n",
        "from sklearn.preprocessing import StandardScaler\n",
        "import random\n",
        "import torch\n",
        "import torch.nn as nn"
      ]
    },
    {
      "cell_type": "code",
      "source": [
        "\n",
        "\n",
        "# --- Set seeds here! ---\n",
        "seed = 0\n",
        "random.seed(seed)\n",
        "np.random.seed(seed)\n",
        "torch.manual_seed(seed)\n",
        "torch.cuda.manual_seed(seed)\n",
        "torch.cuda.manual_seed_all(seed)\n",
        "torch.backends.cudnn.deterministic = True\n",
        "torch.backends.cudnn.benchmark = False\n",
        "\n",
        "#--- Now we can do everything else ---\n",
        "# Split dataset, create DataLoaders, initialize model, etc.\n"
      ],
      "metadata": {
        "id": "L7NCZum0oe_3"
      },
      "execution_count": 2,
      "outputs": []
    },
    {
      "cell_type": "code",
      "source": [
        "# prompt: unzip this  /content/archive.zip\n",
        "\n",
        "!unzip /content/archive.zip"
      ],
      "metadata": {
        "colab": {
          "base_uri": "https://localhost:8080/"
        },
        "id": "3H36_hrjzuc6",
        "outputId": "3a1792b3-69e2-4f94-8d95-656eeb71b909"
      },
      "execution_count": 5,
      "outputs": [
        {
          "output_type": "stream",
          "name": "stdout",
          "text": [
            "Archive:  /content/archive.zip\n",
            "  inflating: accel_AbNormal_1100.csv  \n",
            "  inflating: accel_AbNormal_1300.csv  \n",
            "  inflating: accel_AbNormal_1800.csv  \n",
            "  inflating: accel_AbNormal_2300.csv  \n",
            "  inflating: accel_Normal_1100.csv   \n",
            "  inflating: accel_Normal_1300.csv   \n",
            "  inflating: accel_Normal_1800.csv   \n",
            "  inflating: accel_Normal_2300.csv   \n"
          ]
        }
      ]
    },
    {
      "cell_type": "code",
      "source": [
        "import pandas as pd\n",
        "\n",
        "accel_AbNormal_1100 = pd.read_csv('accel_AbNormal_1100.csv')\n",
        "accel_AbNormal_1300 = pd.read_csv('accel_AbNormal_1300.csv')\n",
        "accel_AbNormal_1800 = pd.read_csv('accel_AbNormal_1800.csv')\n",
        "accel_AbNormal_2300 = pd.read_csv('accel_AbNormal_2300.csv')\n",
        "accel_Normal_1100 = pd.read_csv('accel_Normal_1100.csv')\n",
        "accel_Normal_1300 = pd.read_csv('accel_Normal_1300.csv')\n",
        "accel_Normal_1800 = pd.read_csv('accel_Normal_1800.csv')\n",
        "accel_Normal_2300 = pd.read_csv('accel_Normal_2300.csv')"
      ],
      "metadata": {
        "id": "OoE57lI6xzsC"
      },
      "execution_count": 6,
      "outputs": []
    },
    {
      "cell_type": "code",
      "source": [
        "df=pd.read_csv('accel_AbNormal_1100.csv')\n",
        "df.head()"
      ],
      "metadata": {
        "id": "Fzb3W9_m0Dqa",
        "colab": {
          "base_uri": "https://localhost:8080/",
          "height": 206
        },
        "outputId": "cb367ceb-8bd6-41ea-89b9-55c186e68dfd"
      },
      "execution_count": 7,
      "outputs": [
        {
          "output_type": "execute_result",
          "data": {
            "text/plain": [
              "   X_axis  Y_axis  Z_axis\n",
              "0  0.5723  0.0200  2.2148\n",
              "1 -0.0049 -0.5493  2.0522\n",
              "2 -0.0381 -0.2627  1.8750\n",
              "3 -0.2627  0.0332  1.8301\n",
              "4  0.4268  0.5518  2.3745"
            ],
            "text/html": [
              "\n",
              "  <div id=\"df-b1bb7cc3-0d3a-4681-943b-0128c8537ad9\" class=\"colab-df-container\">\n",
              "    <div>\n",
              "<style scoped>\n",
              "    .dataframe tbody tr th:only-of-type {\n",
              "        vertical-align: middle;\n",
              "    }\n",
              "\n",
              "    .dataframe tbody tr th {\n",
              "        vertical-align: top;\n",
              "    }\n",
              "\n",
              "    .dataframe thead th {\n",
              "        text-align: right;\n",
              "    }\n",
              "</style>\n",
              "<table border=\"1\" class=\"dataframe\">\n",
              "  <thead>\n",
              "    <tr style=\"text-align: right;\">\n",
              "      <th></th>\n",
              "      <th>X_axis</th>\n",
              "      <th>Y_axis</th>\n",
              "      <th>Z_axis</th>\n",
              "    </tr>\n",
              "  </thead>\n",
              "  <tbody>\n",
              "    <tr>\n",
              "      <th>0</th>\n",
              "      <td>0.5723</td>\n",
              "      <td>0.0200</td>\n",
              "      <td>2.2148</td>\n",
              "    </tr>\n",
              "    <tr>\n",
              "      <th>1</th>\n",
              "      <td>-0.0049</td>\n",
              "      <td>-0.5493</td>\n",
              "      <td>2.0522</td>\n",
              "    </tr>\n",
              "    <tr>\n",
              "      <th>2</th>\n",
              "      <td>-0.0381</td>\n",
              "      <td>-0.2627</td>\n",
              "      <td>1.8750</td>\n",
              "    </tr>\n",
              "    <tr>\n",
              "      <th>3</th>\n",
              "      <td>-0.2627</td>\n",
              "      <td>0.0332</td>\n",
              "      <td>1.8301</td>\n",
              "    </tr>\n",
              "    <tr>\n",
              "      <th>4</th>\n",
              "      <td>0.4268</td>\n",
              "      <td>0.5518</td>\n",
              "      <td>2.3745</td>\n",
              "    </tr>\n",
              "  </tbody>\n",
              "</table>\n",
              "</div>\n",
              "    <div class=\"colab-df-buttons\">\n",
              "\n",
              "  <div class=\"colab-df-container\">\n",
              "    <button class=\"colab-df-convert\" onclick=\"convertToInteractive('df-b1bb7cc3-0d3a-4681-943b-0128c8537ad9')\"\n",
              "            title=\"Convert this dataframe to an interactive table.\"\n",
              "            style=\"display:none;\">\n",
              "\n",
              "  <svg xmlns=\"http://www.w3.org/2000/svg\" height=\"24px\" viewBox=\"0 -960 960 960\">\n",
              "    <path d=\"M120-120v-720h720v720H120Zm60-500h600v-160H180v160Zm220 220h160v-160H400v160Zm0 220h160v-160H400v160ZM180-400h160v-160H180v160Zm440 0h160v-160H620v160ZM180-180h160v-160H180v160Zm440 0h160v-160H620v160Z\"/>\n",
              "  </svg>\n",
              "    </button>\n",
              "\n",
              "  <style>\n",
              "    .colab-df-container {\n",
              "      display:flex;\n",
              "      gap: 12px;\n",
              "    }\n",
              "\n",
              "    .colab-df-convert {\n",
              "      background-color: #E8F0FE;\n",
              "      border: none;\n",
              "      border-radius: 50%;\n",
              "      cursor: pointer;\n",
              "      display: none;\n",
              "      fill: #1967D2;\n",
              "      height: 32px;\n",
              "      padding: 0 0 0 0;\n",
              "      width: 32px;\n",
              "    }\n",
              "\n",
              "    .colab-df-convert:hover {\n",
              "      background-color: #E2EBFA;\n",
              "      box-shadow: 0px 1px 2px rgba(60, 64, 67, 0.3), 0px 1px 3px 1px rgba(60, 64, 67, 0.15);\n",
              "      fill: #174EA6;\n",
              "    }\n",
              "\n",
              "    .colab-df-buttons div {\n",
              "      margin-bottom: 4px;\n",
              "    }\n",
              "\n",
              "    [theme=dark] .colab-df-convert {\n",
              "      background-color: #3B4455;\n",
              "      fill: #D2E3FC;\n",
              "    }\n",
              "\n",
              "    [theme=dark] .colab-df-convert:hover {\n",
              "      background-color: #434B5C;\n",
              "      box-shadow: 0px 1px 3px 1px rgba(0, 0, 0, 0.15);\n",
              "      filter: drop-shadow(0px 1px 2px rgba(0, 0, 0, 0.3));\n",
              "      fill: #FFFFFF;\n",
              "    }\n",
              "  </style>\n",
              "\n",
              "    <script>\n",
              "      const buttonEl =\n",
              "        document.querySelector('#df-b1bb7cc3-0d3a-4681-943b-0128c8537ad9 button.colab-df-convert');\n",
              "      buttonEl.style.display =\n",
              "        google.colab.kernel.accessAllowed ? 'block' : 'none';\n",
              "\n",
              "      async function convertToInteractive(key) {\n",
              "        const element = document.querySelector('#df-b1bb7cc3-0d3a-4681-943b-0128c8537ad9');\n",
              "        const dataTable =\n",
              "          await google.colab.kernel.invokeFunction('convertToInteractive',\n",
              "                                                    [key], {});\n",
              "        if (!dataTable) return;\n",
              "\n",
              "        const docLinkHtml = 'Like what you see? Visit the ' +\n",
              "          '<a target=\"_blank\" href=https://colab.research.google.com/notebooks/data_table.ipynb>data table notebook</a>'\n",
              "          + ' to learn more about interactive tables.';\n",
              "        element.innerHTML = '';\n",
              "        dataTable['output_type'] = 'display_data';\n",
              "        await google.colab.output.renderOutput(dataTable, element);\n",
              "        const docLink = document.createElement('div');\n",
              "        docLink.innerHTML = docLinkHtml;\n",
              "        element.appendChild(docLink);\n",
              "      }\n",
              "    </script>\n",
              "  </div>\n",
              "\n",
              "\n",
              "    <div id=\"df-72b46959-eaa7-4348-b14f-d7c6236c7680\">\n",
              "      <button class=\"colab-df-quickchart\" onclick=\"quickchart('df-72b46959-eaa7-4348-b14f-d7c6236c7680')\"\n",
              "                title=\"Suggest charts\"\n",
              "                style=\"display:none;\">\n",
              "\n",
              "<svg xmlns=\"http://www.w3.org/2000/svg\" height=\"24px\"viewBox=\"0 0 24 24\"\n",
              "     width=\"24px\">\n",
              "    <g>\n",
              "        <path d=\"M19 3H5c-1.1 0-2 .9-2 2v14c0 1.1.9 2 2 2h14c1.1 0 2-.9 2-2V5c0-1.1-.9-2-2-2zM9 17H7v-7h2v7zm4 0h-2V7h2v10zm4 0h-2v-4h2v4z\"/>\n",
              "    </g>\n",
              "</svg>\n",
              "      </button>\n",
              "\n",
              "<style>\n",
              "  .colab-df-quickchart {\n",
              "      --bg-color: #E8F0FE;\n",
              "      --fill-color: #1967D2;\n",
              "      --hover-bg-color: #E2EBFA;\n",
              "      --hover-fill-color: #174EA6;\n",
              "      --disabled-fill-color: #AAA;\n",
              "      --disabled-bg-color: #DDD;\n",
              "  }\n",
              "\n",
              "  [theme=dark] .colab-df-quickchart {\n",
              "      --bg-color: #3B4455;\n",
              "      --fill-color: #D2E3FC;\n",
              "      --hover-bg-color: #434B5C;\n",
              "      --hover-fill-color: #FFFFFF;\n",
              "      --disabled-bg-color: #3B4455;\n",
              "      --disabled-fill-color: #666;\n",
              "  }\n",
              "\n",
              "  .colab-df-quickchart {\n",
              "    background-color: var(--bg-color);\n",
              "    border: none;\n",
              "    border-radius: 50%;\n",
              "    cursor: pointer;\n",
              "    display: none;\n",
              "    fill: var(--fill-color);\n",
              "    height: 32px;\n",
              "    padding: 0;\n",
              "    width: 32px;\n",
              "  }\n",
              "\n",
              "  .colab-df-quickchart:hover {\n",
              "    background-color: var(--hover-bg-color);\n",
              "    box-shadow: 0 1px 2px rgba(60, 64, 67, 0.3), 0 1px 3px 1px rgba(60, 64, 67, 0.15);\n",
              "    fill: var(--button-hover-fill-color);\n",
              "  }\n",
              "\n",
              "  .colab-df-quickchart-complete:disabled,\n",
              "  .colab-df-quickchart-complete:disabled:hover {\n",
              "    background-color: var(--disabled-bg-color);\n",
              "    fill: var(--disabled-fill-color);\n",
              "    box-shadow: none;\n",
              "  }\n",
              "\n",
              "  .colab-df-spinner {\n",
              "    border: 2px solid var(--fill-color);\n",
              "    border-color: transparent;\n",
              "    border-bottom-color: var(--fill-color);\n",
              "    animation:\n",
              "      spin 1s steps(1) infinite;\n",
              "  }\n",
              "\n",
              "  @keyframes spin {\n",
              "    0% {\n",
              "      border-color: transparent;\n",
              "      border-bottom-color: var(--fill-color);\n",
              "      border-left-color: var(--fill-color);\n",
              "    }\n",
              "    20% {\n",
              "      border-color: transparent;\n",
              "      border-left-color: var(--fill-color);\n",
              "      border-top-color: var(--fill-color);\n",
              "    }\n",
              "    30% {\n",
              "      border-color: transparent;\n",
              "      border-left-color: var(--fill-color);\n",
              "      border-top-color: var(--fill-color);\n",
              "      border-right-color: var(--fill-color);\n",
              "    }\n",
              "    40% {\n",
              "      border-color: transparent;\n",
              "      border-right-color: var(--fill-color);\n",
              "      border-top-color: var(--fill-color);\n",
              "    }\n",
              "    60% {\n",
              "      border-color: transparent;\n",
              "      border-right-color: var(--fill-color);\n",
              "    }\n",
              "    80% {\n",
              "      border-color: transparent;\n",
              "      border-right-color: var(--fill-color);\n",
              "      border-bottom-color: var(--fill-color);\n",
              "    }\n",
              "    90% {\n",
              "      border-color: transparent;\n",
              "      border-bottom-color: var(--fill-color);\n",
              "    }\n",
              "  }\n",
              "</style>\n",
              "\n",
              "      <script>\n",
              "        async function quickchart(key) {\n",
              "          const quickchartButtonEl =\n",
              "            document.querySelector('#' + key + ' button');\n",
              "          quickchartButtonEl.disabled = true;  // To prevent multiple clicks.\n",
              "          quickchartButtonEl.classList.add('colab-df-spinner');\n",
              "          try {\n",
              "            const charts = await google.colab.kernel.invokeFunction(\n",
              "                'suggestCharts', [key], {});\n",
              "          } catch (error) {\n",
              "            console.error('Error during call to suggestCharts:', error);\n",
              "          }\n",
              "          quickchartButtonEl.classList.remove('colab-df-spinner');\n",
              "          quickchartButtonEl.classList.add('colab-df-quickchart-complete');\n",
              "        }\n",
              "        (() => {\n",
              "          let quickchartButtonEl =\n",
              "            document.querySelector('#df-72b46959-eaa7-4348-b14f-d7c6236c7680 button');\n",
              "          quickchartButtonEl.style.display =\n",
              "            google.colab.kernel.accessAllowed ? 'block' : 'none';\n",
              "        })();\n",
              "      </script>\n",
              "    </div>\n",
              "\n",
              "    </div>\n",
              "  </div>\n"
            ],
            "application/vnd.google.colaboratory.intrinsic+json": {
              "type": "dataframe",
              "variable_name": "df",
              "summary": "{\n  \"name\": \"df\",\n  \"rows\": 90785,\n  \"fields\": [\n    {\n      \"column\": \"X_axis\",\n      \"properties\": {\n        \"dtype\": \"number\",\n        \"std\": 0.5940840883747602,\n        \"min\": -1.229,\n        \"max\": 1.9971,\n        \"num_unique_values\": 5826,\n        \"samples\": [\n          0.8813,\n          -1.0698,\n          1.0503\n        ],\n        \"semantic_type\": \"\",\n        \"description\": \"\"\n      }\n    },\n    {\n      \"column\": \"Y_axis\",\n      \"properties\": {\n        \"dtype\": \"number\",\n        \"std\": 1.106285521347961,\n        \"min\": -3.2114,\n        \"max\": 2.0225,\n        \"num_unique_values\": 9296,\n        \"samples\": [\n          -1.3521,\n          -2.21,\n          1.2896\n        ],\n        \"semantic_type\": \"\",\n        \"description\": \"\"\n      }\n    },\n    {\n      \"column\": \"Z_axis\",\n      \"properties\": {\n        \"dtype\": \"number\",\n        \"std\": 0.3137419453360763,\n        \"min\": 0.8242,\n        \"max\": 3.0249,\n        \"num_unique_values\": 3576,\n        \"samples\": [\n          2.3325,\n          2.6216,\n          1.7974\n        ],\n        \"semantic_type\": \"\",\n        \"description\": \"\"\n      }\n    }\n  ]\n}"
            }
          },
          "metadata": {},
          "execution_count": 7
        }
      ]
    },
    {
      "cell_type": "code",
      "source": [
        "df.describe()"
      ],
      "metadata": {
        "id": "tkYwfur5OUi4",
        "colab": {
          "base_uri": "https://localhost:8080/",
          "height": 300
        },
        "outputId": "6f9eaa86-61fa-4cb7-b56d-715c7f81d783"
      },
      "execution_count": 8,
      "outputs": [
        {
          "output_type": "execute_result",
          "data": {
            "text/plain": [
              "             X_axis        Y_axis        Z_axis\n",
              "count  90785.000000  90785.000000  90785.000000\n",
              "mean       0.185085      0.038868      2.031517\n",
              "std        0.594084      1.106286      0.313742\n",
              "min       -1.229000     -3.211400      0.824200\n",
              "25%       -0.262700     -0.414100      1.800300\n",
              "50%        0.109900      0.283700      2.021000\n",
              "75%        0.634300      0.816900      2.256300\n",
              "max        1.997100      2.022500      3.024900"
            ],
            "text/html": [
              "\n",
              "  <div id=\"df-b0654229-d52a-4cc0-88a5-8d8e4c445220\" class=\"colab-df-container\">\n",
              "    <div>\n",
              "<style scoped>\n",
              "    .dataframe tbody tr th:only-of-type {\n",
              "        vertical-align: middle;\n",
              "    }\n",
              "\n",
              "    .dataframe tbody tr th {\n",
              "        vertical-align: top;\n",
              "    }\n",
              "\n",
              "    .dataframe thead th {\n",
              "        text-align: right;\n",
              "    }\n",
              "</style>\n",
              "<table border=\"1\" class=\"dataframe\">\n",
              "  <thead>\n",
              "    <tr style=\"text-align: right;\">\n",
              "      <th></th>\n",
              "      <th>X_axis</th>\n",
              "      <th>Y_axis</th>\n",
              "      <th>Z_axis</th>\n",
              "    </tr>\n",
              "  </thead>\n",
              "  <tbody>\n",
              "    <tr>\n",
              "      <th>count</th>\n",
              "      <td>90785.000000</td>\n",
              "      <td>90785.000000</td>\n",
              "      <td>90785.000000</td>\n",
              "    </tr>\n",
              "    <tr>\n",
              "      <th>mean</th>\n",
              "      <td>0.185085</td>\n",
              "      <td>0.038868</td>\n",
              "      <td>2.031517</td>\n",
              "    </tr>\n",
              "    <tr>\n",
              "      <th>std</th>\n",
              "      <td>0.594084</td>\n",
              "      <td>1.106286</td>\n",
              "      <td>0.313742</td>\n",
              "    </tr>\n",
              "    <tr>\n",
              "      <th>min</th>\n",
              "      <td>-1.229000</td>\n",
              "      <td>-3.211400</td>\n",
              "      <td>0.824200</td>\n",
              "    </tr>\n",
              "    <tr>\n",
              "      <th>25%</th>\n",
              "      <td>-0.262700</td>\n",
              "      <td>-0.414100</td>\n",
              "      <td>1.800300</td>\n",
              "    </tr>\n",
              "    <tr>\n",
              "      <th>50%</th>\n",
              "      <td>0.109900</td>\n",
              "      <td>0.283700</td>\n",
              "      <td>2.021000</td>\n",
              "    </tr>\n",
              "    <tr>\n",
              "      <th>75%</th>\n",
              "      <td>0.634300</td>\n",
              "      <td>0.816900</td>\n",
              "      <td>2.256300</td>\n",
              "    </tr>\n",
              "    <tr>\n",
              "      <th>max</th>\n",
              "      <td>1.997100</td>\n",
              "      <td>2.022500</td>\n",
              "      <td>3.024900</td>\n",
              "    </tr>\n",
              "  </tbody>\n",
              "</table>\n",
              "</div>\n",
              "    <div class=\"colab-df-buttons\">\n",
              "\n",
              "  <div class=\"colab-df-container\">\n",
              "    <button class=\"colab-df-convert\" onclick=\"convertToInteractive('df-b0654229-d52a-4cc0-88a5-8d8e4c445220')\"\n",
              "            title=\"Convert this dataframe to an interactive table.\"\n",
              "            style=\"display:none;\">\n",
              "\n",
              "  <svg xmlns=\"http://www.w3.org/2000/svg\" height=\"24px\" viewBox=\"0 -960 960 960\">\n",
              "    <path d=\"M120-120v-720h720v720H120Zm60-500h600v-160H180v160Zm220 220h160v-160H400v160Zm0 220h160v-160H400v160ZM180-400h160v-160H180v160Zm440 0h160v-160H620v160ZM180-180h160v-160H180v160Zm440 0h160v-160H620v160Z\"/>\n",
              "  </svg>\n",
              "    </button>\n",
              "\n",
              "  <style>\n",
              "    .colab-df-container {\n",
              "      display:flex;\n",
              "      gap: 12px;\n",
              "    }\n",
              "\n",
              "    .colab-df-convert {\n",
              "      background-color: #E8F0FE;\n",
              "      border: none;\n",
              "      border-radius: 50%;\n",
              "      cursor: pointer;\n",
              "      display: none;\n",
              "      fill: #1967D2;\n",
              "      height: 32px;\n",
              "      padding: 0 0 0 0;\n",
              "      width: 32px;\n",
              "    }\n",
              "\n",
              "    .colab-df-convert:hover {\n",
              "      background-color: #E2EBFA;\n",
              "      box-shadow: 0px 1px 2px rgba(60, 64, 67, 0.3), 0px 1px 3px 1px rgba(60, 64, 67, 0.15);\n",
              "      fill: #174EA6;\n",
              "    }\n",
              "\n",
              "    .colab-df-buttons div {\n",
              "      margin-bottom: 4px;\n",
              "    }\n",
              "\n",
              "    [theme=dark] .colab-df-convert {\n",
              "      background-color: #3B4455;\n",
              "      fill: #D2E3FC;\n",
              "    }\n",
              "\n",
              "    [theme=dark] .colab-df-convert:hover {\n",
              "      background-color: #434B5C;\n",
              "      box-shadow: 0px 1px 3px 1px rgba(0, 0, 0, 0.15);\n",
              "      filter: drop-shadow(0px 1px 2px rgba(0, 0, 0, 0.3));\n",
              "      fill: #FFFFFF;\n",
              "    }\n",
              "  </style>\n",
              "\n",
              "    <script>\n",
              "      const buttonEl =\n",
              "        document.querySelector('#df-b0654229-d52a-4cc0-88a5-8d8e4c445220 button.colab-df-convert');\n",
              "      buttonEl.style.display =\n",
              "        google.colab.kernel.accessAllowed ? 'block' : 'none';\n",
              "\n",
              "      async function convertToInteractive(key) {\n",
              "        const element = document.querySelector('#df-b0654229-d52a-4cc0-88a5-8d8e4c445220');\n",
              "        const dataTable =\n",
              "          await google.colab.kernel.invokeFunction('convertToInteractive',\n",
              "                                                    [key], {});\n",
              "        if (!dataTable) return;\n",
              "\n",
              "        const docLinkHtml = 'Like what you see? Visit the ' +\n",
              "          '<a target=\"_blank\" href=https://colab.research.google.com/notebooks/data_table.ipynb>data table notebook</a>'\n",
              "          + ' to learn more about interactive tables.';\n",
              "        element.innerHTML = '';\n",
              "        dataTable['output_type'] = 'display_data';\n",
              "        await google.colab.output.renderOutput(dataTable, element);\n",
              "        const docLink = document.createElement('div');\n",
              "        docLink.innerHTML = docLinkHtml;\n",
              "        element.appendChild(docLink);\n",
              "      }\n",
              "    </script>\n",
              "  </div>\n",
              "\n",
              "\n",
              "    <div id=\"df-a8e6fe89-4374-46aa-9cc1-99da6ca7afa0\">\n",
              "      <button class=\"colab-df-quickchart\" onclick=\"quickchart('df-a8e6fe89-4374-46aa-9cc1-99da6ca7afa0')\"\n",
              "                title=\"Suggest charts\"\n",
              "                style=\"display:none;\">\n",
              "\n",
              "<svg xmlns=\"http://www.w3.org/2000/svg\" height=\"24px\"viewBox=\"0 0 24 24\"\n",
              "     width=\"24px\">\n",
              "    <g>\n",
              "        <path d=\"M19 3H5c-1.1 0-2 .9-2 2v14c0 1.1.9 2 2 2h14c1.1 0 2-.9 2-2V5c0-1.1-.9-2-2-2zM9 17H7v-7h2v7zm4 0h-2V7h2v10zm4 0h-2v-4h2v4z\"/>\n",
              "    </g>\n",
              "</svg>\n",
              "      </button>\n",
              "\n",
              "<style>\n",
              "  .colab-df-quickchart {\n",
              "      --bg-color: #E8F0FE;\n",
              "      --fill-color: #1967D2;\n",
              "      --hover-bg-color: #E2EBFA;\n",
              "      --hover-fill-color: #174EA6;\n",
              "      --disabled-fill-color: #AAA;\n",
              "      --disabled-bg-color: #DDD;\n",
              "  }\n",
              "\n",
              "  [theme=dark] .colab-df-quickchart {\n",
              "      --bg-color: #3B4455;\n",
              "      --fill-color: #D2E3FC;\n",
              "      --hover-bg-color: #434B5C;\n",
              "      --hover-fill-color: #FFFFFF;\n",
              "      --disabled-bg-color: #3B4455;\n",
              "      --disabled-fill-color: #666;\n",
              "  }\n",
              "\n",
              "  .colab-df-quickchart {\n",
              "    background-color: var(--bg-color);\n",
              "    border: none;\n",
              "    border-radius: 50%;\n",
              "    cursor: pointer;\n",
              "    display: none;\n",
              "    fill: var(--fill-color);\n",
              "    height: 32px;\n",
              "    padding: 0;\n",
              "    width: 32px;\n",
              "  }\n",
              "\n",
              "  .colab-df-quickchart:hover {\n",
              "    background-color: var(--hover-bg-color);\n",
              "    box-shadow: 0 1px 2px rgba(60, 64, 67, 0.3), 0 1px 3px 1px rgba(60, 64, 67, 0.15);\n",
              "    fill: var(--button-hover-fill-color);\n",
              "  }\n",
              "\n",
              "  .colab-df-quickchart-complete:disabled,\n",
              "  .colab-df-quickchart-complete:disabled:hover {\n",
              "    background-color: var(--disabled-bg-color);\n",
              "    fill: var(--disabled-fill-color);\n",
              "    box-shadow: none;\n",
              "  }\n",
              "\n",
              "  .colab-df-spinner {\n",
              "    border: 2px solid var(--fill-color);\n",
              "    border-color: transparent;\n",
              "    border-bottom-color: var(--fill-color);\n",
              "    animation:\n",
              "      spin 1s steps(1) infinite;\n",
              "  }\n",
              "\n",
              "  @keyframes spin {\n",
              "    0% {\n",
              "      border-color: transparent;\n",
              "      border-bottom-color: var(--fill-color);\n",
              "      border-left-color: var(--fill-color);\n",
              "    }\n",
              "    20% {\n",
              "      border-color: transparent;\n",
              "      border-left-color: var(--fill-color);\n",
              "      border-top-color: var(--fill-color);\n",
              "    }\n",
              "    30% {\n",
              "      border-color: transparent;\n",
              "      border-left-color: var(--fill-color);\n",
              "      border-top-color: var(--fill-color);\n",
              "      border-right-color: var(--fill-color);\n",
              "    }\n",
              "    40% {\n",
              "      border-color: transparent;\n",
              "      border-right-color: var(--fill-color);\n",
              "      border-top-color: var(--fill-color);\n",
              "    }\n",
              "    60% {\n",
              "      border-color: transparent;\n",
              "      border-right-color: var(--fill-color);\n",
              "    }\n",
              "    80% {\n",
              "      border-color: transparent;\n",
              "      border-right-color: var(--fill-color);\n",
              "      border-bottom-color: var(--fill-color);\n",
              "    }\n",
              "    90% {\n",
              "      border-color: transparent;\n",
              "      border-bottom-color: var(--fill-color);\n",
              "    }\n",
              "  }\n",
              "</style>\n",
              "\n",
              "      <script>\n",
              "        async function quickchart(key) {\n",
              "          const quickchartButtonEl =\n",
              "            document.querySelector('#' + key + ' button');\n",
              "          quickchartButtonEl.disabled = true;  // To prevent multiple clicks.\n",
              "          quickchartButtonEl.classList.add('colab-df-spinner');\n",
              "          try {\n",
              "            const charts = await google.colab.kernel.invokeFunction(\n",
              "                'suggestCharts', [key], {});\n",
              "          } catch (error) {\n",
              "            console.error('Error during call to suggestCharts:', error);\n",
              "          }\n",
              "          quickchartButtonEl.classList.remove('colab-df-spinner');\n",
              "          quickchartButtonEl.classList.add('colab-df-quickchart-complete');\n",
              "        }\n",
              "        (() => {\n",
              "          let quickchartButtonEl =\n",
              "            document.querySelector('#df-a8e6fe89-4374-46aa-9cc1-99da6ca7afa0 button');\n",
              "          quickchartButtonEl.style.display =\n",
              "            google.colab.kernel.accessAllowed ? 'block' : 'none';\n",
              "        })();\n",
              "      </script>\n",
              "    </div>\n",
              "\n",
              "    </div>\n",
              "  </div>\n"
            ],
            "application/vnd.google.colaboratory.intrinsic+json": {
              "type": "dataframe",
              "summary": "{\n  \"name\": \"df\",\n  \"rows\": 8,\n  \"fields\": [\n    {\n      \"column\": \"X_axis\",\n      \"properties\": {\n        \"dtype\": \"number\",\n        \"std\": 32097.24210957003,\n        \"min\": -1.229,\n        \"max\": 90785.0,\n        \"num_unique_values\": 8,\n        \"samples\": [\n          0.18508487084870853,\n          0.1099,\n          90785.0\n        ],\n        \"semantic_type\": \"\",\n        \"description\": \"\"\n      }\n    },\n    {\n      \"column\": \"Y_axis\",\n      \"properties\": {\n        \"dtype\": \"number\",\n        \"std\": 32097.312137772115,\n        \"min\": -3.2114,\n        \"max\": 90785.0,\n        \"num_unique_values\": 8,\n        \"samples\": [\n          0.03886755961887977,\n          0.2837,\n          90785.0\n        ],\n        \"semantic_type\": \"\",\n        \"description\": \"\"\n      }\n    },\n    {\n      \"column\": \"Z_axis\",\n      \"properties\": {\n        \"dtype\": \"number\",\n        \"std\": 32096.72474850329,\n        \"min\": 0.3137419453360763,\n        \"max\": 90785.0,\n        \"num_unique_values\": 8,\n        \"samples\": [\n          2.0315172032824806,\n          2.021,\n          90785.0\n        ],\n        \"semantic_type\": \"\",\n        \"description\": \"\"\n      }\n    }\n  ]\n}"
            }
          },
          "metadata": {},
          "execution_count": 8
        }
      ]
    },
    {
      "cell_type": "code",
      "source": [
        "failure_x=df['X_axis']\n",
        "failure_y=df['Y_axis']\n",
        "failure_z=df['Z_axis']"
      ],
      "metadata": {
        "id": "fOnd2muL0Db6"
      },
      "execution_count": 9,
      "outputs": []
    },
    {
      "cell_type": "code",
      "source": [
        "print(len(failure_x))\n"
      ],
      "metadata": {
        "id": "DrZBaQcw0iFe",
        "colab": {
          "base_uri": "https://localhost:8080/"
        },
        "outputId": "80dbe66e-80ed-4ae8-f551-28eb29218c87"
      },
      "execution_count": 10,
      "outputs": [
        {
          "output_type": "stream",
          "name": "stdout",
          "text": [
            "90785\n"
          ]
        }
      ]
    },
    {
      "cell_type": "code",
      "source": [
        "normal_x=accel_Normal_1100['X_axis']\n",
        "normal_y=accel_Normal_1100['Y_axis']\n",
        "normal_z=accel_Normal_1100['Z_axis']"
      ],
      "metadata": {
        "id": "4l3b0L8n0nju"
      },
      "execution_count": 11,
      "outputs": []
    },
    {
      "cell_type": "code",
      "source": [
        "normal_x.describe()"
      ],
      "metadata": {
        "id": "-paj2DPXOrFa",
        "colab": {
          "base_uri": "https://localhost:8080/",
          "height": 335
        },
        "outputId": "8aff3dc5-034a-4a15-f91a-db946b0aa706"
      },
      "execution_count": 12,
      "outputs": [
        {
          "output_type": "execute_result",
          "data": {
            "text/plain": [
              "count    89715.000000\n",
              "mean         0.200751\n",
              "std          0.367765\n",
              "min         -0.915500\n",
              "25%         -0.085000\n",
              "50%          0.197800\n",
              "75%          0.480500\n",
              "max          1.262700\n",
              "Name: X_axis, dtype: float64"
            ],
            "text/html": [
              "<div>\n",
              "<style scoped>\n",
              "    .dataframe tbody tr th:only-of-type {\n",
              "        vertical-align: middle;\n",
              "    }\n",
              "\n",
              "    .dataframe tbody tr th {\n",
              "        vertical-align: top;\n",
              "    }\n",
              "\n",
              "    .dataframe thead th {\n",
              "        text-align: right;\n",
              "    }\n",
              "</style>\n",
              "<table border=\"1\" class=\"dataframe\">\n",
              "  <thead>\n",
              "    <tr style=\"text-align: right;\">\n",
              "      <th></th>\n",
              "      <th>X_axis</th>\n",
              "    </tr>\n",
              "  </thead>\n",
              "  <tbody>\n",
              "    <tr>\n",
              "      <th>count</th>\n",
              "      <td>89715.000000</td>\n",
              "    </tr>\n",
              "    <tr>\n",
              "      <th>mean</th>\n",
              "      <td>0.200751</td>\n",
              "    </tr>\n",
              "    <tr>\n",
              "      <th>std</th>\n",
              "      <td>0.367765</td>\n",
              "    </tr>\n",
              "    <tr>\n",
              "      <th>min</th>\n",
              "      <td>-0.915500</td>\n",
              "    </tr>\n",
              "    <tr>\n",
              "      <th>25%</th>\n",
              "      <td>-0.085000</td>\n",
              "    </tr>\n",
              "    <tr>\n",
              "      <th>50%</th>\n",
              "      <td>0.197800</td>\n",
              "    </tr>\n",
              "    <tr>\n",
              "      <th>75%</th>\n",
              "      <td>0.480500</td>\n",
              "    </tr>\n",
              "    <tr>\n",
              "      <th>max</th>\n",
              "      <td>1.262700</td>\n",
              "    </tr>\n",
              "  </tbody>\n",
              "</table>\n",
              "</div><br><label><b>dtype:</b> float64</label>"
            ]
          },
          "metadata": {},
          "execution_count": 12
        }
      ]
    },
    {
      "cell_type": "code",
      "source": [
        "print(len(normal_x ))"
      ],
      "metadata": {
        "id": "RRg4JinY0me4",
        "colab": {
          "base_uri": "https://localhost:8080/"
        },
        "outputId": "6e975194-7c8f-4f86-ad7c-631ccc520650"
      },
      "execution_count": 13,
      "outputs": [
        {
          "output_type": "stream",
          "name": "stdout",
          "text": [
            "89715\n"
          ]
        }
      ]
    },
    {
      "cell_type": "code",
      "execution_count": 14,
      "metadata": {
        "id": "MqC-G6qDASN-"
      },
      "outputs": [],
      "source": [
        "# failure_x_path = os.path.join('/content/MetroDataset/Failure/Metro_vibration_v1_x_axis_failure.csv')\n",
        "# failure_y_path = os.path.join('/content/MetroDataset/Failure/Metro_vibration_v1_y_axis_failure.csv')\n",
        "# failure_z_path = os.path.join('/content/MetroDataset/Failure/Metro_vibration_v1_z_axis_failure.csv')\n",
        "\n",
        "# normal_x_path = os.path.join('/content/MetroDataset/Normal/Metro_vibration_v1_x_axis_normal.csv')\n",
        "# normal_y_path = os.path.join('/content/MetroDataset/Normal/Metro_vibration_v1_y_axis_normal.csv')\n",
        "# normal_z_path = os.path.join('/content/MetroDataset/Normal/Metro_vibration_v1_z_axis_normal.csv')\n",
        "\n",
        "# # Load the data assuming the first column is the index\n",
        "# failure_x = pd.read_csv(failure_x_path, index_col=0) #index coloumn 0 means the dataframe will contain an index coloumn\n",
        "# failure_y = pd.read_csv(failure_y_path, index_col=0)\n",
        "# failure_z = pd.read_csv(failure_z_path, index_col=0)\n",
        "\n",
        "# normal_x = pd.read_csv(normal_x_path, index_col=0)\n",
        "# normal_y = pd.read_csv(normal_y_path, index_col=0)\n",
        "# normal_z = pd.read_csv(normal_z_path, index_col=0)\n",
        "# print(len(failure_x))\n",
        "# print(len(normal_x ))"
      ]
    },
    {
      "cell_type": "code",
      "execution_count": 15,
      "metadata": {
        "id": "xXtIh0ILK58q",
        "colab": {
          "base_uri": "https://localhost:8080/",
          "height": 430
        },
        "outputId": "46a58f00-014e-4579-a9d6-7702f373aff8"
      },
      "outputs": [
        {
          "output_type": "display_data",
          "data": {
            "text/plain": [
              "<Figure size 640x480 with 1 Axes>"
            ],
            "image/png": "[encoded data removed]"
          },
          "metadata": {}
        }
      ],
      "source": [
        "import matplotlib.pyplot as plt\n",
        "plt.plot(failure_x)\n",
        "\n",
        "plt.show()"
      ]
    },
    {
      "cell_type": "code",
      "execution_count": 16,
      "metadata": {
        "id": "pIVS_woNCIxt",
        "colab": {
          "base_uri": "https://localhost:8080/"
        },
        "outputId": "4464cd66-5c82-4974-85d2-8258e3457d24"
      },
      "outputs": [
        {
          "output_type": "stream",
          "name": "stdout",
          "text": [
            "failure  0        0.5723\n",
            "         1       -0.0049\n",
            "         2       -0.0381\n",
            "         3       -0.2627\n",
            "         4        0.4268\n",
            "                   ...  \n",
            "normal   89710    0.3418\n",
            "         89711    0.4780\n",
            "         89712    0.9316\n",
            "         89713    0.2231\n",
            "         89714    0.3755\n",
            "Name: X_axis, Length: 180500, dtype: float64\n",
            "(180500,) (180500,) (180500,)\n"
          ]
        }
      ],
      "source": [
        "# Concatenate the failure and normal data with multi-index\n",
        "data_1 = pd.concat([failure_x, normal_x], keys=['failure', 'normal'])\n",
        "data_2 = pd.concat([failure_y, normal_y], keys=['failure', 'normal'])\n",
        "data_3 = pd.concat([failure_z, normal_z], keys=['failure', 'normal'])\n",
        "print(data_1)\n",
        "\n",
        "\n",
        "print(data_1.shape,data_2.shape,data_3.shape)\n"
      ]
    },
    {
      "cell_type": "code",
      "execution_count": 17,
      "metadata": {
        "id": "GdOVaPyvCYzv",
        "colab": {
          "base_uri": "https://localhost:8080/"
        },
        "outputId": "6d5aab9c-d9c0-4748-ee7f-12e3397b8de3"
      },
      "outputs": [
        {
          "output_type": "stream",
          "name": "stdout",
          "text": [
            "(180500, 2) (180500, 2) (180500, 2)\n"
          ]
        }
      ],
      "source": [
        "# Reset multi-index to flatten the 'Condition' label into a column\n",
        "data_1 = data_1.reset_index(level=0).rename(columns={'level_0': 'Condition'})\n",
        "data_2 = data_2.reset_index(level=0).rename(columns={'level_0': 'Condition'})\n",
        "data_3 = data_3.reset_index(level=0).rename(columns={'level_0': 'Condition'})\n",
        "\n",
        "\n",
        "print(data_1.shape,data_2.shape,data_3.shape)"
      ]
    },
    {
      "cell_type": "code",
      "execution_count": 18,
      "metadata": {
        "id": "I2ZltO1HCaOW",
        "colab": {
          "base_uri": "https://localhost:8080/"
        },
        "outputId": "443bb1a2-aae1-4abe-a717-34a215c5ef9f"
      },
      "outputs": [
        {
          "output_type": "stream",
          "name": "stdout",
          "text": [
            "Index(['Condition', 'X_axis'], dtype='object')\n",
            "Index(['Condition', 'Y_axis'], dtype='object')\n",
            "Index(['Condition', 'Z_axis'], dtype='object')\n"
          ]
        }
      ],
      "source": [
        "print(data_1.columns)\n",
        "print(data_2.columns)\n",
        "print(data_3.columns)"
      ]
    },
    {
      "cell_type": "code",
      "execution_count": 19,
      "metadata": {
        "id": "SyN2aHj1MQhh",
        "colab": {
          "base_uri": "https://localhost:8080/",
          "height": 363
        },
        "outputId": "2eaf5169-328e-4462-e105-3b1b323c00a7"
      },
      "outputs": [
        {
          "output_type": "execute_result",
          "data": {
            "text/plain": [
              "  Condition  X_axis\n",
              "0   failure  0.5723\n",
              "1   failure -0.0049\n",
              "2   failure -0.0381\n",
              "3   failure -0.2627\n",
              "4   failure  0.4268\n",
              "5   failure -0.1152\n",
              "6   failure  0.0942\n",
              "7   failure -0.3994\n",
              "8   failure -0.4082\n",
              "9   failure -0.1250"
            ],
            "text/html": [
              "\n",
              "  <div id=\"df-d9953e3c-b7f9-44c0-8130-d8809b28a445\" class=\"colab-df-container\">\n",
              "    <div>\n",
              "<style scoped>\n",
              "    .dataframe tbody tr th:only-of-type {\n",
              "        vertical-align: middle;\n",
              "    }\n",
              "\n",
              "    .dataframe tbody tr th {\n",
              "        vertical-align: top;\n",
              "    }\n",
              "\n",
              "    .dataframe thead th {\n",
              "        text-align: right;\n",
              "    }\n",
              "</style>\n",
              "<table border=\"1\" class=\"dataframe\">\n",
              "  <thead>\n",
              "    <tr style=\"text-align: right;\">\n",
              "      <th></th>\n",
              "      <th>Condition</th>\n",
              "      <th>X_axis</th>\n",
              "    </tr>\n",
              "  </thead>\n",
              "  <tbody>\n",
              "    <tr>\n",
              "      <th>0</th>\n",
              "      <td>failure</td>\n",
              "      <td>0.5723</td>\n",
              "    </tr>\n",
              "    <tr>\n",
              "      <th>1</th>\n",
              "      <td>failure</td>\n",
              "      <td>-0.0049</td>\n",
              "    </tr>\n",
              "    <tr>\n",
              "      <th>2</th>\n",
              "      <td>failure</td>\n",
              "      <td>-0.0381</td>\n",
              "    </tr>\n",
              "    <tr>\n",
              "      <th>3</th>\n",
              "      <td>failure</td>\n",
              "      <td>-0.2627</td>\n",
              "    </tr>\n",
              "    <tr>\n",
              "      <th>4</th>\n",
              "      <td>failure</td>\n",
              "      <td>0.4268</td>\n",
              "    </tr>\n",
              "    <tr>\n",
              "      <th>5</th>\n",
              "      <td>failure</td>\n",
              "      <td>-0.1152</td>\n",
              "    </tr>\n",
              "    <tr>\n",
              "      <th>6</th>\n",
              "      <td>failure</td>\n",
              "      <td>0.0942</td>\n",
              "    </tr>\n",
              "    <tr>\n",
              "      <th>7</th>\n",
              "      <td>failure</td>\n",
              "      <td>-0.3994</td>\n",
              "    </tr>\n",
              "    <tr>\n",
              "      <th>8</th>\n",
              "      <td>failure</td>\n",
              "      <td>-0.4082</td>\n",
              "    </tr>\n",
              "    <tr>\n",
              "      <th>9</th>\n",
              "      <td>failure</td>\n",
              "      <td>-0.1250</td>\n",
              "    </tr>\n",
              "  </tbody>\n",
              "</table>\n",
              "</div>\n",
              "    <div class=\"colab-df-buttons\">\n",
              "\n",
              "  <div class=\"colab-df-container\">\n",
              "    <button class=\"colab-df-convert\" onclick=\"convertToInteractive('df-d9953e3c-b7f9-44c0-8130-d8809b28a445')\"\n",
              "            title=\"Convert this dataframe to an interactive table.\"\n",
              "            style=\"display:none;\">\n",
              "\n",
              "  <svg xmlns=\"http://www.w3.org/2000/svg\" height=\"24px\" viewBox=\"0 -960 960 960\">\n",
              "    <path d=\"M120-120v-720h720v720H120Zm60-500h600v-160H180v160Zm220 220h160v-160H400v160Zm0 220h160v-160H400v160ZM180-400h160v-160H180v160Zm440 0h160v-160H620v160ZM180-180h160v-160H180v160Zm440 0h160v-160H620v160Z\"/>\n",
              "  </svg>\n",
              "    </button>\n",
              "\n",
              "  <style>\n",
              "    .colab-df-container {\n",
              "      display:flex;\n",
              "      gap: 12px;\n",
              "    }\n",
              "\n",
              "    .colab-df-convert {\n",
              "      background-color: #E8F0FE;\n",
              "      border: none;\n",
              "      border-radius: 50%;\n",
              "      cursor: pointer;\n",
              "      display: none;\n",
              "      fill: #1967D2;\n",
              "      height: 32px;\n",
              "      padding: 0 0 0 0;\n",
              "      width: 32px;\n",
              "    }\n",
              "\n",
              "    .colab-df-convert:hover {\n",
              "      background-color: #E2EBFA;\n",
              "      box-shadow: 0px 1px 2px rgba(60, 64, 67, 0.3), 0px 1px 3px 1px rgba(60, 64, 67, 0.15);\n",
              "      fill: #174EA6;\n",
              "    }\n",
              "\n",
              "    .colab-df-buttons div {\n",
              "      margin-bottom: 4px;\n",
              "    }\n",
              "\n",
              "    [theme=dark] .colab-df-convert {\n",
              "      background-color: #3B4455;\n",
              "      fill: #D2E3FC;\n",
              "    }\n",
              "\n",
              "    [theme=dark] .colab-df-convert:hover {\n",
              "      background-color: #434B5C;\n",
              "      box-shadow: 0px 1px 3px 1px rgba(0, 0, 0, 0.15);\n",
              "      filter: drop-shadow(0px 1px 2px rgba(0, 0, 0, 0.3));\n",
              "      fill: #FFFFFF;\n",
              "    }\n",
              "  </style>\n",
              "\n",
              "    <script>\n",
              "      const buttonEl =\n",
              "        document.querySelector('#df-d9953e3c-b7f9-44c0-8130-d8809b28a445 button.colab-df-convert');\n",
              "      buttonEl.style.display =\n",
              "        google.colab.kernel.accessAllowed ? 'block' : 'none';\n",
              "\n",
              "      async function convertToInteractive(key) {\n",
              "        const element = document.querySelector('#df-d9953e3c-b7f9-44c0-8130-d8809b28a445');\n",
              "        const dataTable =\n",
              "          await google.colab.kernel.invokeFunction('convertToInteractive',\n",
              "                                                    [key], {});\n",
              "        if (!dataTable) return;\n",
              "\n",
              "        const docLinkHtml = 'Like what you see? Visit the ' +\n",
              "          '<a target=\"_blank\" href=https://colab.research.google.com/notebooks/data_table.ipynb>data table notebook</a>'\n",
              "          + ' to learn more about interactive tables.';\n",
              "        element.innerHTML = '';\n",
              "        dataTable['output_type'] = 'display_data';\n",
              "        await google.colab.output.renderOutput(dataTable, element);\n",
              "        const docLink = document.createElement('div');\n",
              "        docLink.innerHTML = docLinkHtml;\n",
              "        element.appendChild(docLink);\n",
              "      }\n",
              "    </script>\n",
              "  </div>\n",
              "\n",
              "\n",
              "    <div id=\"df-2754a714-130c-403c-b2f4-c78ea435b8e7\">\n",
              "      <button class=\"colab-df-quickchart\" onclick=\"quickchart('df-2754a714-130c-403c-b2f4-c78ea435b8e7')\"\n",
              "                title=\"Suggest charts\"\n",
              "                style=\"display:none;\">\n",
              "\n",
              "<svg xmlns=\"http://www.w3.org/2000/svg\" height=\"24px\"viewBox=\"0 0 24 24\"\n",
              "     width=\"24px\">\n",
              "    <g>\n",
              "        <path d=\"M19 3H5c-1.1 0-2 .9-2 2v14c0 1.1.9 2 2 2h14c1.1 0 2-.9 2-2V5c0-1.1-.9-2-2-2zM9 17H7v-7h2v7zm4 0h-2V7h2v10zm4 0h-2v-4h2v4z\"/>\n",
              "    </g>\n",
              "</svg>\n",
              "      </button>\n",
              "\n",
              "<style>\n",
              "  .colab-df-quickchart {\n",
              "      --bg-color: #E8F0FE;\n",
              "      --fill-color: #1967D2;\n",
              "      --hover-bg-color: #E2EBFA;\n",
              "      --hover-fill-color: #174EA6;\n",
              "      --disabled-fill-color: #AAA;\n",
              "      --disabled-bg-color: #DDD;\n",
              "  }\n",
              "\n",
              "  [theme=dark] .colab-df-quickchart {\n",
              "      --bg-color: #3B4455;\n",
              "      --fill-color: #D2E3FC;\n",
              "      --hover-bg-color: #434B5C;\n",
              "      --hover-fill-color: #FFFFFF;\n",
              "      --disabled-bg-color: #3B4455;\n",
              "      --disabled-fill-color: #666;\n",
              "  }\n",
              "\n",
              "  .colab-df-quickchart {\n",
              "    background-color: var(--bg-color);\n",
              "    border: none;\n",
              "    border-radius: 50%;\n",
              "    cursor: pointer;\n",
              "    display: none;\n",
              "    fill: var(--fill-color);\n",
              "    height: 32px;\n",
              "    padding: 0;\n",
              "    width: 32px;\n",
              "  }\n",
              "\n",
              "  .colab-df-quickchart:hover {\n",
              "    background-color: var(--hover-bg-color);\n",
              "    box-shadow: 0 1px 2px rgba(60, 64, 67, 0.3), 0 1px 3px 1px rgba(60, 64, 67, 0.15);\n",
              "    fill: var(--button-hover-fill-color);\n",
              "  }\n",
              "\n",
              "  .colab-df-quickchart-complete:disabled,\n",
              "  .colab-df-quickchart-complete:disabled:hover {\n",
              "    background-color: var(--disabled-bg-color);\n",
              "    fill: var(--disabled-fill-color);\n",
              "    box-shadow: none;\n",
              "  }\n",
              "\n",
              "  .colab-df-spinner {\n",
              "    border: 2px solid var(--fill-color);\n",
              "    border-color: transparent;\n",
              "    border-bottom-color: var(--fill-color);\n",
              "    animation:\n",
              "      spin 1s steps(1) infinite;\n",
              "  }\n",
              "\n",
              "  @keyframes spin {\n",
              "    0% {\n",
              "      border-color: transparent;\n",
              "      border-bottom-color: var(--fill-color);\n",
              "      border-left-color: var(--fill-color);\n",
              "    }\n",
              "    20% {\n",
              "      border-color: transparent;\n",
              "      border-left-color: var(--fill-color);\n",
              "      border-top-color: var(--fill-color);\n",
              "    }\n",
              "    30% {\n",
              "      border-color: transparent;\n",
              "      border-left-color: var(--fill-color);\n",
              "      border-top-color: var(--fill-color);\n",
              "      border-right-color: var(--fill-color);\n",
              "    }\n",
              "    40% {\n",
              "      border-color: transparent;\n",
              "      border-right-color: var(--fill-color);\n",
              "      border-top-color: var(--fill-color);\n",
              "    }\n",
              "    60% {\n",
              "      border-color: transparent;\n",
              "      border-right-color: var(--fill-color);\n",
              "    }\n",
              "    80% {\n",
              "      border-color: transparent;\n",
              "      border-right-color: var(--fill-color);\n",
              "      border-bottom-color: var(--fill-color);\n",
              "    }\n",
              "    90% {\n",
              "      border-color: transparent;\n",
              "      border-bottom-color: var(--fill-color);\n",
              "    }\n",
              "  }\n",
              "</style>\n",
              "\n",
              "      <script>\n",
              "        async function quickchart(key) {\n",
              "          const quickchartButtonEl =\n",
              "            document.querySelector('#' + key + ' button');\n",
              "          quickchartButtonEl.disabled = true;  // To prevent multiple clicks.\n",
              "          quickchartButtonEl.classList.add('colab-df-spinner');\n",
              "          try {\n",
              "            const charts = await google.colab.kernel.invokeFunction(\n",
              "                'suggestCharts', [key], {});\n",
              "          } catch (error) {\n",
              "            console.error('Error during call to suggestCharts:', error);\n",
              "          }\n",
              "          quickchartButtonEl.classList.remove('colab-df-spinner');\n",
              "          quickchartButtonEl.classList.add('colab-df-quickchart-complete');\n",
              "        }\n",
              "        (() => {\n",
              "          let quickchartButtonEl =\n",
              "            document.querySelector('#df-2754a714-130c-403c-b2f4-c78ea435b8e7 button');\n",
              "          quickchartButtonEl.style.display =\n",
              "            google.colab.kernel.accessAllowed ? 'block' : 'none';\n",
              "        })();\n",
              "      </script>\n",
              "    </div>\n",
              "\n",
              "    </div>\n",
              "  </div>\n"
            ],
            "application/vnd.google.colaboratory.intrinsic+json": {
              "type": "dataframe",
              "variable_name": "data_1"
            }
          },
          "metadata": {},
          "execution_count": 19
        }
      ],
      "source": [
        "data_1.head(10)"
      ]
    },
    {
      "cell_type": "code",
      "execution_count": 20,
      "metadata": {
        "id": "pVeC56erMak_",
        "colab": {
          "base_uri": "https://localhost:8080/",
          "height": 363
        },
        "outputId": "6078ed8a-0b7e-4eab-f423-ce8ba37a0066"
      },
      "outputs": [
        {
          "output_type": "execute_result",
          "data": {
            "text/plain": [
              "      Condition  X_axis\n",
              "89705    normal -0.0371\n",
              "89706    normal -0.3164\n",
              "89707    normal -0.3257\n",
              "89708    normal  0.2964\n",
              "89709    normal  0.2280\n",
              "89710    normal  0.3418\n",
              "89711    normal  0.4780\n",
              "89712    normal  0.9316\n",
              "89713    normal  0.2231\n",
              "89714    normal  0.3755"
            ],
            "text/html": [
              "\n",
              "  <div id=\"df-0e6b584e-e283-4ff2-b337-0a125b820d8d\" class=\"colab-df-container\">\n",
              "    <div>\n",
              "<style scoped>\n",
              "    .dataframe tbody tr th:only-of-type {\n",
              "        vertical-align: middle;\n",
              "    }\n",
              "\n",
              "    .dataframe tbody tr th {\n",
              "        vertical-align: top;\n",
              "    }\n",
              "\n",
              "    .dataframe thead th {\n",
              "        text-align: right;\n",
              "    }\n",
              "</style>\n",
              "<table border=\"1\" class=\"dataframe\">\n",
              "  <thead>\n",
              "    <tr style=\"text-align: right;\">\n",
              "      <th></th>\n",
              "      <th>Condition</th>\n",
              "      <th>X_axis</th>\n",
              "    </tr>\n",
              "  </thead>\n",
              "  <tbody>\n",
              "    <tr>\n",
              "      <th>89705</th>\n",
              "      <td>normal</td>\n",
              "      <td>-0.0371</td>\n",
              "    </tr>\n",
              "    <tr>\n",
              "      <th>89706</th>\n",
              "      <td>normal</td>\n",
              "      <td>-0.3164</td>\n",
              "    </tr>\n",
              "    <tr>\n",
              "      <th>89707</th>\n",
              "      <td>normal</td>\n",
              "      <td>-0.3257</td>\n",
              "    </tr>\n",
              "    <tr>\n",
              "      <th>89708</th>\n",
              "      <td>normal</td>\n",
              "      <td>0.2964</td>\n",
              "    </tr>\n",
              "    <tr>\n",
              "      <th>89709</th>\n",
              "      <td>normal</td>\n",
              "      <td>0.2280</td>\n",
              "    </tr>\n",
              "    <tr>\n",
              "      <th>89710</th>\n",
              "      <td>normal</td>\n",
              "      <td>0.3418</td>\n",
              "    </tr>\n",
              "    <tr>\n",
              "      <th>89711</th>\n",
              "      <td>normal</td>\n",
              "      <td>0.4780</td>\n",
              "    </tr>\n",
              "    <tr>\n",
              "      <th>89712</th>\n",
              "      <td>normal</td>\n",
              "      <td>0.9316</td>\n",
              "    </tr>\n",
              "    <tr>\n",
              "      <th>89713</th>\n",
              "      <td>normal</td>\n",
              "      <td>0.2231</td>\n",
              "    </tr>\n",
              "    <tr>\n",
              "      <th>89714</th>\n",
              "      <td>normal</td>\n",
              "      <td>0.3755</td>\n",
              "    </tr>\n",
              "  </tbody>\n",
              "</table>\n",
              "</div>\n",
              "    <div class=\"colab-df-buttons\">\n",
              "\n",
              "  <div class=\"colab-df-container\">\n",
              "    <button class=\"colab-df-convert\" onclick=\"convertToInteractive('df-0e6b584e-e283-4ff2-b337-0a125b820d8d')\"\n",
              "            title=\"Convert this dataframe to an interactive table.\"\n",
              "            style=\"display:none;\">\n",
              "\n",
              "  <svg xmlns=\"http://www.w3.org/2000/svg\" height=\"24px\" viewBox=\"0 -960 960 960\">\n",
              "    <path d=\"M120-120v-720h720v720H120Zm60-500h600v-160H180v160Zm220 220h160v-160H400v160Zm0 220h160v-160H400v160ZM180-400h160v-160H180v160Zm440 0h160v-160H620v160ZM180-180h160v-160H180v160Zm440 0h160v-160H620v160Z\"/>\n",
              "  </svg>\n",
              "    </button>\n",
              "\n",
              "  <style>\n",
              "    .colab-df-container {\n",
              "      display:flex;\n",
              "      gap: 12px;\n",
              "    }\n",
              "\n",
              "    .colab-df-convert {\n",
              "      background-color: #E8F0FE;\n",
              "      border: none;\n",
              "      border-radius: 50%;\n",
              "      cursor: pointer;\n",
              "      display: none;\n",
              "      fill: #1967D2;\n",
              "      height: 32px;\n",
              "      padding: 0 0 0 0;\n",
              "      width: 32px;\n",
              "    }\n",
              "\n",
              "    .colab-df-convert:hover {\n",
              "      background-color: #E2EBFA;\n",
              "      box-shadow: 0px 1px 2px rgba(60, 64, 67, 0.3), 0px 1px 3px 1px rgba(60, 64, 67, 0.15);\n",
              "      fill: #174EA6;\n",
              "    }\n",
              "\n",
              "    .colab-df-buttons div {\n",
              "      margin-bottom: 4px;\n",
              "    }\n",
              "\n",
              "    [theme=dark] .colab-df-convert {\n",
              "      background-color: #3B4455;\n",
              "      fill: #D2E3FC;\n",
              "    }\n",
              "\n",
              "    [theme=dark] .colab-df-convert:hover {\n",
              "      background-color: #434B5C;\n",
              "      box-shadow: 0px 1px 3px 1px rgba(0, 0, 0, 0.15);\n",
              "      filter: drop-shadow(0px 1px 2px rgba(0, 0, 0, 0.3));\n",
              "      fill: #FFFFFF;\n",
              "    }\n",
              "  </style>\n",
              "\n",
              "    <script>\n",
              "      const buttonEl =\n",
              "        document.querySelector('#df-0e6b584e-e283-4ff2-b337-0a125b820d8d button.colab-df-convert');\n",
              "      buttonEl.style.display =\n",
              "        google.colab.kernel.accessAllowed ? 'block' : 'none';\n",
              "\n",
              "      async function convertToInteractive(key) {\n",
              "        const element = document.querySelector('#df-0e6b584e-e283-4ff2-b337-0a125b820d8d');\n",
              "        const dataTable =\n",
              "          await google.colab.kernel.invokeFunction('convertToInteractive',\n",
              "                                                    [key], {});\n",
              "        if (!dataTable) return;\n",
              "\n",
              "        const docLinkHtml = 'Like what you see? Visit the ' +\n",
              "          '<a target=\"_blank\" href=https://colab.research.google.com/notebooks/data_table.ipynb>data table notebook</a>'\n",
              "          + ' to learn more about interactive tables.';\n",
              "        element.innerHTML = '';\n",
              "        dataTable['output_type'] = 'display_data';\n",
              "        await google.colab.output.renderOutput(dataTable, element);\n",
              "        const docLink = document.createElement('div');\n",
              "        docLink.innerHTML = docLinkHtml;\n",
              "        element.appendChild(docLink);\n",
              "      }\n",
              "    </script>\n",
              "  </div>\n",
              "\n",
              "\n",
              "    <div id=\"df-0e525d66-05a3-4ab4-94b1-cf01138e8f0d\">\n",
              "      <button class=\"colab-df-quickchart\" onclick=\"quickchart('df-0e525d66-05a3-4ab4-94b1-cf01138e8f0d')\"\n",
              "                title=\"Suggest charts\"\n",
              "                style=\"display:none;\">\n",
              "\n",
              "<svg xmlns=\"http://www.w3.org/2000/svg\" height=\"24px\"viewBox=\"0 0 24 24\"\n",
              "     width=\"24px\">\n",
              "    <g>\n",
              "        <path d=\"M19 3H5c-1.1 0-2 .9-2 2v14c0 1.1.9 2 2 2h14c1.1 0 2-.9 2-2V5c0-1.1-.9-2-2-2zM9 17H7v-7h2v7zm4 0h-2V7h2v10zm4 0h-2v-4h2v4z\"/>\n",
              "    </g>\n",
              "</svg>\n",
              "      </button>\n",
              "\n",
              "<style>\n",
              "  .colab-df-quickchart {\n",
              "      --bg-color: #E8F0FE;\n",
              "      --fill-color: #1967D2;\n",
              "      --hover-bg-color: #E2EBFA;\n",
              "      --hover-fill-color: #174EA6;\n",
              "      --disabled-fill-color: #AAA;\n",
              "      --disabled-bg-color: #DDD;\n",
              "  }\n",
              "\n",
              "  [theme=dark] .colab-df-quickchart {\n",
              "      --bg-color: #3B4455;\n",
              "      --fill-color: #D2E3FC;\n",
              "      --hover-bg-color: #434B5C;\n",
              "      --hover-fill-color: #FFFFFF;\n",
              "      --disabled-bg-color: #3B4455;\n",
              "      --disabled-fill-color: #666;\n",
              "  }\n",
              "\n",
              "  .colab-df-quickchart {\n",
              "    background-color: var(--bg-color);\n",
              "    border: none;\n",
              "    border-radius: 50%;\n",
              "    cursor: pointer;\n",
              "    display: none;\n",
              "    fill: var(--fill-color);\n",
              "    height: 32px;\n",
              "    padding: 0;\n",
              "    width: 32px;\n",
              "  }\n",
              "\n",
              "  .colab-df-quickchart:hover {\n",
              "    background-color: var(--hover-bg-color);\n",
              "    box-shadow: 0 1px 2px rgba(60, 64, 67, 0.3), 0 1px 3px 1px rgba(60, 64, 67, 0.15);\n",
              "    fill: var(--button-hover-fill-color);\n",
              "  }\n",
              "\n",
              "  .colab-df-quickchart-complete:disabled,\n",
              "  .colab-df-quickchart-complete:disabled:hover {\n",
              "    background-color: var(--disabled-bg-color);\n",
              "    fill: var(--disabled-fill-color);\n",
              "    box-shadow: none;\n",
              "  }\n",
              "\n",
              "  .colab-df-spinner {\n",
              "    border: 2px solid var(--fill-color);\n",
              "    border-color: transparent;\n",
              "    border-bottom-color: var(--fill-color);\n",
              "    animation:\n",
              "      spin 1s steps(1) infinite;\n",
              "  }\n",
              "\n",
              "  @keyframes spin {\n",
              "    0% {\n",
              "      border-color: transparent;\n",
              "      border-bottom-color: var(--fill-color);\n",
              "      border-left-color: var(--fill-color);\n",
              "    }\n",
              "    20% {\n",
              "      border-color: transparent;\n",
              "      border-left-color: var(--fill-color);\n",
              "      border-top-color: var(--fill-color);\n",
              "    }\n",
              "    30% {\n",
              "      border-color: transparent;\n",
              "      border-left-color: var(--fill-color);\n",
              "      border-top-color: var(--fill-color);\n",
              "      border-right-color: var(--fill-color);\n",
              "    }\n",
              "    40% {\n",
              "      border-color: transparent;\n",
              "      border-right-color: var(--fill-color);\n",
              "      border-top-color: var(--fill-color);\n",
              "    }\n",
              "    60% {\n",
              "      border-color: transparent;\n",
              "      border-right-color: var(--fill-color);\n",
              "    }\n",
              "    80% {\n",
              "      border-color: transparent;\n",
              "      border-right-color: var(--fill-color);\n",
              "      border-bottom-color: var(--fill-color);\n",
              "    }\n",
              "    90% {\n",
              "      border-color: transparent;\n",
              "      border-bottom-color: var(--fill-color);\n",
              "    }\n",
              "  }\n",
              "</style>\n",
              "\n",
              "      <script>\n",
              "        async function quickchart(key) {\n",
              "          const quickchartButtonEl =\n",
              "            document.querySelector('#' + key + ' button');\n",
              "          quickchartButtonEl.disabled = true;  // To prevent multiple clicks.\n",
              "          quickchartButtonEl.classList.add('colab-df-spinner');\n",
              "          try {\n",
              "            const charts = await google.colab.kernel.invokeFunction(\n",
              "                'suggestCharts', [key], {});\n",
              "          } catch (error) {\n",
              "            console.error('Error during call to suggestCharts:', error);\n",
              "          }\n",
              "          quickchartButtonEl.classList.remove('colab-df-spinner');\n",
              "          quickchartButtonEl.classList.add('colab-df-quickchart-complete');\n",
              "        }\n",
              "        (() => {\n",
              "          let quickchartButtonEl =\n",
              "            document.querySelector('#df-0e525d66-05a3-4ab4-94b1-cf01138e8f0d button');\n",
              "          quickchartButtonEl.style.display =\n",
              "            google.colab.kernel.accessAllowed ? 'block' : 'none';\n",
              "        })();\n",
              "      </script>\n",
              "    </div>\n",
              "\n",
              "    </div>\n",
              "  </div>\n"
            ],
            "application/vnd.google.colaboratory.intrinsic+json": {
              "type": "dataframe",
              "summary": "{\n  \"name\": \"data_1\",\n  \"rows\": 10,\n  \"fields\": [\n    {\n      \"column\": \"Condition\",\n      \"properties\": {\n        \"dtype\": \"category\",\n        \"num_unique_values\": 1,\n        \"samples\": [\n          \"normal\"\n        ],\n        \"semantic_type\": \"\",\n        \"description\": \"\"\n      }\n    },\n    {\n      \"column\": \"X_axis\",\n      \"properties\": {\n        \"dtype\": \"number\",\n        \"std\": 0.3755701112235163,\n        \"min\": -0.3257,\n        \"max\": 0.9316,\n        \"num_unique_values\": 10,\n        \"samples\": [\n          0.2231\n        ],\n        \"semantic_type\": \"\",\n        \"description\": \"\"\n      }\n    }\n  ]\n}"
            }
          },
          "metadata": {},
          "execution_count": 20
        }
      ],
      "source": [
        "data_1.tail(10)"
      ]
    },
    {
      "cell_type": "code",
      "execution_count": 21,
      "metadata": {
        "id": "x2J0gLYQCnLe",
        "colab": {
          "base_uri": "https://localhost:8080/"
        },
        "outputId": "c637a163-6c65-4404-9891-8035ede8c6b6"
      },
      "outputs": [
        {
          "output_type": "stream",
          "name": "stdout",
          "text": [
            "     Condition  x_axis  y_axis  z_axis\n",
            "0            0  0.5723  0.0200  2.2148\n",
            "1            0 -0.0049 -0.5493  2.0522\n",
            "2            0 -0.0381 -0.2627  1.8750\n",
            "3            0 -0.2627  0.0332  1.8301\n",
            "4            0  0.4268  0.5518  2.3745\n",
            "..         ...     ...     ...     ...\n",
            "995          0  0.4004 -0.3833  1.4976\n",
            "996          0  0.2178 -2.6011  1.7158\n",
            "997          0  0.7002 -1.5947  2.3438\n",
            "998          0  0.5776  0.2148  2.2441\n",
            "999          0  0.6108  0.6963  1.7139\n",
            "\n",
            "[1000 rows x 4 columns]\n"
          ]
        }
      ],
      "source": [
        "# Merge X, Y, and Z axis data on the same index (drop duplicate 'Condition' columns)\n",
        "merged_data = pd.concat([data_1, data_2.drop('Condition', axis=1), data_3.drop('Condition', axis=1)], axis=1)\n",
        "\n",
        "# Rename columns for clarity\n",
        "merged_data.columns = ['Condition', 'x_axis', 'y_axis', 'z_axis']\n",
        "\n",
        "# Encode 'Condition' as numerical labels (0 for Failure, 1 for Normal)\n",
        "merged_data['Condition'] = merged_data['Condition'].map({'failure': 0, 'normal': 1})\n",
        "\n",
        "# Check the merged data\n",
        "print(merged_data.head(1000))\n",
        "\n",
        "# Save the final merged data for future use\n",
        "#merged_data.to_csv('merged_vibration_data.csv', index=True)"
      ]
    },
    {
      "cell_type": "code",
      "execution_count": 22,
      "metadata": {
        "id": "fWc9Px5gGZDv",
        "colab": {
          "base_uri": "https://localhost:8080/"
        },
        "outputId": "9c240d89-1574-4f83-8513-3a6b245ef901"
      },
      "outputs": [
        {
          "output_type": "stream",
          "name": "stdout",
          "text": [
            "Number of 0 values (Failure) in 'Condition' column: 90785\n"
          ]
        }
      ],
      "source": [
        "\n",
        "\n",
        "# Count for the number of 0 values in the 'Condition' column\n",
        "zero_count = (merged_data['Condition'] == 0).sum()\n",
        "print(f\"Number of 0 values (Failure) in 'Condition' column: {zero_count}\")\n"
      ]
    },
    {
      "cell_type": "code",
      "execution_count": 23,
      "metadata": {
        "id": "Nwfwpq0BHFbO",
        "colab": {
          "base_uri": "https://localhost:8080/"
        },
        "outputId": "d1bff39c-d2ad-4771-f2c5-70e54a07de14"
      },
      "outputs": [
        {
          "output_type": "stream",
          "name": "stdout",
          "text": [
            "Number of 1 values (Normal) in 'Condition' column: 89715\n"
          ]
        }
      ],
      "source": [
        "one_count= (merged_data['Condition'] == 1).sum()\n",
        "print(f\"Number of 1 values (Normal) in 'Condition' column: {one_count}\")"
      ]
    },
    {
      "cell_type": "code",
      "execution_count": 24,
      "metadata": {
        "id": "dJHFGo9AH_3r",
        "colab": {
          "base_uri": "https://localhost:8080/"
        },
        "outputId": "1f84f5bf-e5c4-4fd4-f307-f3b3d7bef096"
      },
      "outputs": [
        {
          "output_type": "stream",
          "name": "stdout",
          "text": [
            "Shape of failure_df: (90785, 4)\n",
            "Shape of normal_df: (89715, 4)\n"
          ]
        }
      ],
      "source": [
        "\n",
        "# Split the merged data into two dataframes based on the 'Condition' column\n",
        "failure_data_merged = merged_data[merged_data['Condition'] == 0]\n",
        "normal_data_merged= merged_data[merged_data['Condition'] == 1]\n",
        "\n",
        "# Print the shapes of the new dataframes to verify the split\n",
        "print(\"Shape of failure_df:\", failure_data_merged.shape)\n",
        "print(\"Shape of normal_df:\", normal_data_merged.shape)\n"
      ]
    },
    {
      "cell_type": "code",
      "execution_count": 25,
      "metadata": {
        "id": "jf_LwcPtNLEp",
        "colab": {
          "base_uri": "https://localhost:8080/",
          "height": 430
        },
        "outputId": "d77cdf04-8122-4ba2-bc40-0e76773069fa"
      },
      "outputs": [
        {
          "output_type": "display_data",
          "data": {
            "text/plain": [
              "<Figure size 640x480 with 1 Axes>"
            ],
            "image/png": "[encoded data removed]"
          },
          "metadata": {}
        }
      ],
      "source": [
        "plt.plot(failure_data_merged['x_axis'])\n",
        "plt.show()\n",
        "#np.unique(failure_data_merged['x_axis']-failure_x)"
      ]
    },
    {
      "cell_type": "code",
      "execution_count": 26,
      "metadata": {
        "id": "r7a9ZhucJRS_"
      },
      "outputs": [],
      "source": [
        "# Saving the final merged data for future use\n",
        "#failure_data_merged.to_csv('failure_data.csv', index=True)"
      ]
    },
    {
      "cell_type": "code",
      "execution_count": 27,
      "metadata": {
        "id": "rCw-z5slKOQo",
        "colab": {
          "base_uri": "https://localhost:8080/"
        },
        "outputId": "67f2bca6-cb30-4638-89ad-fac860e06f7e"
      },
      "outputs": [
        {
          "output_type": "execute_result",
          "data": {
            "text/plain": [
              "(90785, 4)"
            ]
          },
          "metadata": {},
          "execution_count": 27
        }
      ],
      "source": [
        "failure_data_merged.shape"
      ]
    },
    {
      "cell_type": "code",
      "execution_count": 28,
      "metadata": {
        "id": "cfH4gGWrKSVE",
        "colab": {
          "base_uri": "https://localhost:8080/"
        },
        "outputId": "3ef58a6e-0b95-4456-cba6-3daf86ec2509"
      },
      "outputs": [
        {
          "output_type": "execute_result",
          "data": {
            "text/plain": [
              "(89715, 4)"
            ]
          },
          "metadata": {},
          "execution_count": 28
        }
      ],
      "source": [
        "normal_data_merged.shape"
      ]
    },
    {
      "cell_type": "code",
      "execution_count": 29,
      "metadata": {
        "id": "69t92Mk-HXLj"
      },
      "outputs": [],
      "source": [
        "\n",
        "def energy(df):\n",
        "  \"\"\"\n",
        "  Calculateing the sum of squares of 'x_axis', 'y_axis', and 'z_axis' columns.\n",
        "\n",
        "  Args:\n",
        "    df: A pandas DataFrame with 'x_axis', 'y_axis', and 'z_axis' columns.\n",
        "\n",
        "  Returns:\n",
        "    A float representing the sum of squares.\n",
        "  \"\"\"\n",
        "  return ((df['x_axis'] ** 2) + (df['y_axis'] ** 2) + (df['z_axis'] ** 2)).sum()\n"
      ]
    },
    {
      "cell_type": "code",
      "execution_count": 30,
      "metadata": {
        "id": "aIAv8ky7Kkl3"
      },
      "outputs": [],
      "source": [
        "\n",
        "\n",
        "def slice(start_index):\n",
        "\n",
        "  if start_index < 0 or start_index >= len(failure_data_merged):\n",
        "    print(\"Invalid start index.\")\n",
        "    return None\n",
        "\n",
        "  end_index = min(start_index + 1024, len(failure_data_merged))\n",
        "  return failure_data_merged.iloc[start_index:end_index].drop(columns=['Condition'])\n"
      ]
    },
    {
      "cell_type": "code",
      "execution_count": 31,
      "metadata": {
        "id": "mFFbIGBMay2G"
      },
      "outputs": [],
      "source": [
        "def slice_fn(start_index):\n",
        "  \"\"\"\n",
        "  Slices the failure_data_merged DataFrame.\n",
        "\n",
        "  Args:\n",
        "    start_index: The starting index for the slice.\n",
        "\n",
        "  Returns:\n",
        "    A Pandas DataFrame containing 1024 rows starting from start_index.\n",
        "    Returns None if the start_index is invalid.\n",
        "  \"\"\"\n",
        "  if start_index < 0 or start_index >= len(normal_data_merged):\n",
        "    print(\"Invalid start index.\")\n",
        "    return None\n",
        "\n",
        "  end_index = min(start_index + 1024, len(normal_data_merged))\n",
        "  return normal_data_merged.iloc[start_index:end_index].drop(columns=['Condition'])\n"
      ]
    },
    {
      "cell_type": "code",
      "execution_count": 32,
      "metadata": {
        "id": "Meh0xyzvL2cp"
      },
      "outputs": [],
      "source": [
        "\n",
        "\n",
        "def dataframe_to_numpy(df):\n",
        "  \"\"\"Converts a Pandas DataFrame to a NumPy array.\n",
        "\n",
        "  Args:\n",
        "    df: The input Pandas DataFrame.\n",
        "\n",
        "  Returns:\n",
        "    A NumPy array representing the DataFrame's data, or None if an error occurs.\n",
        "  \"\"\"\n",
        "  try:\n",
        "    return df.to_numpy()\n",
        "  except Exception as e:\n",
        "    print(f\"Error converting DataFrame to NumPy array: {e}\")\n",
        "    return None\n"
      ]
    },
    {
      "cell_type": "code",
      "execution_count": 33,
      "metadata": {
        "id": "LrpYWelWLcPQ"
      },
      "outputs": [],
      "source": [
        "\n",
        "\n",
        "import numpy as np\n",
        "\n",
        "failure_3d_array = []\n",
        "normal_3d_array= []\n"
      ]
    },
    {
      "cell_type": "code",
      "execution_count": 34,
      "metadata": {
        "id": "7RM49fvVAQqG"
      },
      "outputs": [],
      "source": [
        "#for i in random.sample(range(1, len(failure_data_merged)-1024), 10000):\n",
        "  #if energy(slice(i)) >= 0.1:\n",
        "    #failure_3d_array.append(slice(i).to_numpy())"
      ]
    },
    {
      "cell_type": "code",
      "execution_count": 35,
      "metadata": {
        "id": "TlX8Ze3164Kt"
      },
      "outputs": [],
      "source": [
        "\n",
        "#   if energy(slice(i)) >= 0.1:\n",
        "#     failure_3d_array.append(slice(i).to_numpy())\n",
        "# change this, add break or some functionn such that after the loop i should get 10000 values in the array\n",
        "\n",
        "failure_3d_array = []\n",
        "count = 0\n",
        "for i in random.sample(range(1, len(failure_data_merged) - 1024), 20000):\n",
        "    if energy(slice(i)) >= 0.1:\n",
        "        failure_3d_array.append(slice(i).to_numpy())\n",
        "        count += 1\n",
        "    if count == 10000:\n",
        "        break\n"
      ]
    },
    {
      "cell_type": "code",
      "source": [
        "type(failure_3d_array[0])"
      ],
      "metadata": {
        "collapsed": true,
        "id": "2b4LfRuIwR0H",
        "colab": {
          "base_uri": "https://localhost:8080/"
        },
        "outputId": "84c85a46-d23f-4df4-8f8b-01af2a2f4c6f"
      },
      "execution_count": 36,
      "outputs": [
        {
          "output_type": "execute_result",
          "data": {
            "text/plain": [
              "numpy.ndarray"
            ]
          },
          "metadata": {},
          "execution_count": 36
        }
      ]
    },
    {
      "cell_type": "code",
      "execution_count": 37,
      "metadata": {
        "id": "8_TC117Ns4pH"
      },
      "outputs": [],
      "source": [
        "failure_3d_array=np.array(failure_3d_array)"
      ]
    },
    {
      "cell_type": "code",
      "execution_count": 38,
      "metadata": {
        "id": "KiBPORGFtRoG",
        "colab": {
          "base_uri": "https://localhost:8080/"
        },
        "outputId": "e4a70db4-741d-46b8-ee57-4dcf8e59e522"
      },
      "outputs": [
        {
          "output_type": "execute_result",
          "data": {
            "text/plain": [
              "(10000, 1024, 3)"
            ]
          },
          "metadata": {},
          "execution_count": 38
        }
      ],
      "source": [
        "failure_3d_array.shape"
      ]
    },
    {
      "cell_type": "code",
      "execution_count": 39,
      "metadata": {
        "id": "7gALcbmgtsII"
      },
      "outputs": [],
      "source": [
        "normal_3d_array = []\n",
        "count = 0\n",
        "for i in random.sample(range(1, len(normal_data_merged) - 1024), 20000):\n",
        "    if energy(slice_fn(i)) >= 0.1:\n",
        "        normal_3d_array.append(slice_fn(i).to_numpy())\n",
        "        count += 1\n",
        "    if count == 10000:\n",
        "        break\n"
      ]
    },
    {
      "cell_type": "code",
      "execution_count": 40,
      "metadata": {
        "id": "OytWX7-1vLi-"
      },
      "outputs": [],
      "source": [
        "normal_3d_array=np.array(normal_3d_array)"
      ]
    },
    {
      "cell_type": "code",
      "execution_count": 41,
      "metadata": {
        "id": "z2Y37g8SvSFV",
        "colab": {
          "base_uri": "https://localhost:8080/"
        },
        "outputId": "6d8396b6-36e5-4ec3-816a-26fd7c0768c9"
      },
      "outputs": [
        {
          "output_type": "execute_result",
          "data": {
            "text/plain": [
              "(10000, 1024, 3)"
            ]
          },
          "metadata": {},
          "execution_count": 41
        }
      ],
      "source": [
        "normal_3d_array.shape"
      ]
    },
    {
      "cell_type": "code",
      "execution_count": 42,
      "metadata": {
        "id": "_fKLmHoQ83m1"
      },
      "outputs": [],
      "source": [
        "# np.save('/content/normal_3d_array_update.npy', normal_3d_array)\n",
        "# np.save('/content/failure_3d_array_update.npy', failure_3d_array)"
      ]
    },
    {
      "cell_type": "markdown",
      "metadata": {
        "id": "O4QI2L-95Lum"
      },
      "source": [
        "\n",
        "\n",
        "---\n",
        "\n"
      ]
    },
    {
      "cell_type": "code",
      "execution_count": 45,
      "metadata": {
        "id": "Qofch9tQ7ANF"
      },
      "outputs": [],
      "source": [
        "#plot_fft_from_array(failure_array, label='Failure')"
      ]
    },
    {
      "cell_type": "code",
      "source": [
        "\n",
        "# stop here"
      ],
      "metadata": {
        "id": "JcgHMVngESUS"
      },
      "execution_count": 46,
      "outputs": []
    },
    {
      "cell_type": "markdown",
      "metadata": {
        "id": "4MAH6_P35KVH"
      },
      "source": [
        "\n",
        "\n",
        "---\n",
        "\n"
      ]
    },
    {
      "cell_type": "markdown",
      "metadata": {
        "id": "d9l0mH9oxV5B"
      },
      "source": [
        "**STEP 2**\n"
      ]
    },
    {
      "cell_type": "code",
      "execution_count": 47,
      "metadata": {
        "id": "UQK1njVbvVfl"
      },
      "outputs": [],
      "source": [
        "normal_3d_array=normal_3d_array.transpose(0,2,1)\n",
        "failure_3d_array=failure_3d_array.transpose(0,2,1)\n",
        "\n",
        "\n",
        "\n"
      ]
    },
    {
      "cell_type": "code",
      "source": [
        "\n",
        "#saving them\n",
        "np.save('failure_3d_array.npy', failure_3d_array)\n",
        "np.save('normal_3d_array.npy', normal_3d_array)\n"
      ],
      "metadata": {
        "id": "wgkPv2cKnkSx"
      },
      "execution_count": 48,
      "outputs": []
    },
    {
      "cell_type": "code",
      "execution_count": 49,
      "metadata": {
        "id": "mXhUbGoO4I6e"
      },
      "outputs": [],
      "source": [
        "import numpy as np\n",
        "from numpy.fft import fft"
      ]
    },
    {
      "cell_type": "code",
      "source": [],
      "metadata": {
        "id": "TI1anG1ZCAlz"
      },
      "execution_count": 49,
      "outputs": []
    },
    {
      "cell_type": "code",
      "execution_count": 50,
      "metadata": {
        "id": "j7u9Hx950frc"
      },
      "outputs": [],
      "source": [
        "from collections.abc import ItemsView\n",
        "\n",
        "\n",
        "class Dataset:\n",
        "    def __init__(self, normal_array_path, failure_array_path):\n",
        "        self.normal_array = np.load(normal_array_path, mmap_mode='r')\n",
        "        self.failure_array = np.load(failure_array_path, mmap_mode='r')\n",
        "\n",
        "    def __len__(self):\n",
        "        return len(self.normal_array) + len(self.failure_array)\n",
        "\n",
        "    def __getitem__(self, idx):\n",
        "        if idx<len(self.normal_array):\n",
        "          data=self.normal_array[idx,:,:]\n",
        "          label=1\n",
        "        if idx>=len(self.normal_array):\n",
        "          data=self.failure_array[idx-len(self.normal_array),:,:]\n",
        "          label=0\n",
        "        return data,label\n",
        "\n",
        "\n",
        "\n"
      ]
    },
    {
      "cell_type": "code",
      "source": [
        "# stop"
      ],
      "metadata": {
        "id": "6Nqdu7PYCBhc"
      },
      "execution_count": 51,
      "outputs": []
    },
    {
      "cell_type": "code",
      "execution_count": 52,
      "metadata": {
        "collapsed": true,
        "id": "nmsfh_pYd44_",
        "colab": {
          "base_uri": "https://localhost:8080/"
        },
        "outputId": "212ce5db-3836-4cd7-9484-4e9e3eb710db"
      },
      "outputs": [
        {
          "output_type": "stream",
          "name": "stdout",
          "text": [
            "Batch 0: Data shape: torch.Size([100, 3, 1024]), Labels shape: torch.Size([100])\n",
            "Time taken 0.061281442642211914\n"
          ]
        },
        {
          "output_type": "stream",
          "name": "stderr",
          "text": [
            "/usr/local/lib/python3.11/dist-packages/torch/utils/data/_utils/collate.py:285: UserWarning: The given NumPy array is not writable, and PyTorch does not support non-writable tensors. This means writing to this tensor will result in undefined behavior. You may want to copy the array to protect its data or make it writable before converting it to a tensor. This type of warning will be suppressed for the rest of this program. (Triggered internally at /pytorch/torch/csrc/utils/tensor_numpy.cpp:203.)\n",
            "  return collate([torch.as_tensor(b) for b in batch], collate_fn_map=collate_fn_map)\n"
          ]
        }
      ],
      "source": [
        "\n",
        "from torch.utils.data import DataLoader\n",
        "\n",
        "import time\n",
        "\n",
        "start= time.time()\n",
        "### Your code goes here #################################################################################################\n",
        "\n",
        "\n",
        "\n",
        "\n",
        "# Create the dataset\n",
        "dataset = Dataset('/content/normal_3d_array.npy', '/content/failure_3d_array.npy')\n",
        "\n",
        "# Create a DataLoader\n",
        "batch_size = 100\n",
        "dataloader = DataLoader(dataset, batch_size=batch_size, shuffle=False)\n",
        "\n",
        "# Iterate through the DataLoader\n",
        "for batch_idx, (data, labels) in enumerate(dataloader):\n",
        "    print(f\"Batch {batch_idx}: Data shape: {data.shape}, Labels shape: {labels.shape}\")\n",
        "    # Now you have batches of data and labels ready for your model\n",
        "    # ... your model training code here ...\n",
        "    break #remove to run through the entire dataloader\n",
        "\n",
        "#################################################################################################################################\n",
        "\n",
        "end = time.time()\n",
        "print(\"Time taken\", end- start)\n"
      ]
    },
    {
      "cell_type": "code",
      "execution_count": 53,
      "metadata": {
        "id": "OKcdNKUjMRCj",
        "colab": {
          "base_uri": "https://localhost:8080/"
        },
        "outputId": "3665cf31-ccf7-4961-99e0-77297ba7d659"
      },
      "outputs": [
        {
          "output_type": "stream",
          "name": "stdout",
          "text": [
            "y_train memory occupied: 56 bytes\n"
          ]
        }
      ],
      "source": [
        "#checking the size of the file in memory\n",
        "import sys\n",
        "print(f'y_train memory occupied: {sys.getsizeof(dataset)} bytes')"
      ]
    },
    {
      "cell_type": "code",
      "source": [
        "# stop"
      ],
      "metadata": {
        "id": "M_IGDzRcnDmO"
      },
      "execution_count": 54,
      "outputs": []
    },
    {
      "cell_type": "code",
      "execution_count": 55,
      "metadata": {
        "id": "EBYw9f9sAgbn"
      },
      "outputs": [],
      "source": [
        "# import torch.nn as nn\n",
        "\n",
        "class ConvNet(nn.Module):\n",
        "    def __init__(self, in_channels=3):\n",
        "        super(ConvNet, self).__init__()\n",
        "        #reduced convolutional channels\n",
        "        self.conv1 = nn.Conv1d(in_channels, 8, kernel_size=3, padding=1)\n",
        "        self.relu1 = nn.ReLU()\n",
        "        self.pool1 = nn.MaxPool1d(kernel_size=4) #changed kernel size to 4\n",
        "\n",
        "        self.conv2 = nn.Conv1d(8, 32, kernel_size=3, padding=1)  #reduced from 64, changed input channels from 16 to 8\n",
        "        self.relu2 = nn.ReLU()\n",
        "        self.pool2 = nn.MaxPool1d(kernel_size=4) #changed kernel size to 4\n",
        "\n",
        "        #adjusted FC layers with gradually   reducing\n",
        "        self.fc1 = nn.Linear(32 * 64, 1)  #changed input features to 32*64\n",
        "        #removed fc2, relu4, and fc3\n",
        "        self.sigmoid = nn.Sigmoid()\n",
        "\n",
        "    def forward(self, x):\n",
        "        x = self.pool1(self.relu1(self.conv1(x)))\n",
        "        x = self.pool2(self.relu2(self.conv2(x)))\n",
        "        x = x.view(-1, 32 * 64)  #Adjusted for new size\n",
        "        # Removed relu3 and the second linear layer\n",
        "        x = self.fc1(x)\n",
        "        x = self.sigmoid(x)\n",
        "        return x\n",
        "\n",
        "\n",
        "\n",
        "model = ConvNet()\n",
        "#print(model(failure_tensor).shape) # Now it should print a valid shape\n",
        "# Example forward pass (replace with our actual input)\n",
        "#output = model(failure_tensor[0].unsqueeze(0))  # Unsqueezingto add a batch dimension\n",
        "#print(output)\n",
        "\n",
        "\n",
        "\n",
        "# Example usage (assuming your data is in 'failure_array'):\n",
        "# Reshape the data to (samples, channels, length)\n",
        "#failure_array = failure_array.reshape(failure_array.shape[0], 3, 1024) # Correct the reshape\n",
        "#normal_array = normal_array.reshape(normal_array.shape[0], 3, 1024)\n",
        "\n",
        "# Convert NumPy arrays to PyTorch tensors\n",
        "#failure_tensor = torch.tensor(failure_array, dtype=torch.float32)\n",
        "# Instantiate the model"
      ]
    },
    {
      "cell_type": "code",
      "execution_count": 56,
      "metadata": {
        "collapsed": true,
        "id": "l4eYIUTYkzXi"
      },
      "outputs": [],
      "source": [
        "\n",
        "# import torch\n",
        "# import torch.nn as nn\n",
        "import torch.optim as optim\n",
        "from torch.utils.data import DataLoader, random_split\n",
        "from sklearn.metrics import accuracy_score, confusion_matrix\n",
        "import numpy as np\n",
        "import seaborn as sns\n",
        "import matplotlib.pyplot as plt\n",
        "\n",
        "\n",
        "# Split the dataset into training and testing sets\n",
        "test_size = int(0.2 * len(dataset))\n",
        "train_size = len(dataset) - test_size\n",
        "train_dataset, test_dataset = random_split(dataset, [train_size, test_size])\n",
        "\n",
        "\n",
        "# # Create DataLoaders\n",
        "\n",
        "train_loader = DataLoader(train_dataset, batch_size=batch_size, shuffle=True)\n",
        "test_loader = DataLoader(test_dataset, batch_size=batch_size, shuffle=False)\n",
        "\n",
        "# # Instantiate the model, optimizer, and loss function\n",
        "model = ConvNet()\n",
        "optimizer = optim.Adam(model.parameters())\n",
        "criterion = nn.BCELoss()  # Binary Cross-Entropy Loss\n"
      ]
    },
    {
      "cell_type": "code",
      "source": [
        "#Training loop with early stopping\n",
        "num_epochs = 10  #Adjust as needed\n",
        "patience = 1  #Number of epochs with no improvement after which training will be stopped\n",
        "best_accuracy = 0\n",
        "epochs_no_improve = 0\n",
        "\n",
        "# Training\n",
        "train_losses = []\n",
        "train_accuracies = []\n",
        "test_losses = []\n",
        "test_accuracies = []\n",
        "\n",
        "for epoch in range(num_epochs):\n",
        "    model.train()\n",
        "    train_loss = 0\n",
        "    correct_train = 0\n",
        "    total_train = 0\n",
        "    for data, labels in train_loader:\n",
        "        #data = data.to(torch.complex64)\n",
        "        data = data.float()\n",
        "        labels = labels.float().unsqueeze(1)  # convert labels to float and unsqueeze\n",
        "        # print(f\"Batch {batch_idx} - Data shape: {data.shape}, Labels shape: {labels.shape}, Data type: {data.dtype}, Labels shape: {labels.dtype}\")\n",
        "\n",
        "        optimizer.zero_grad()\n",
        "        outputs = model(data)\n",
        "        loss = criterion(outputs, labels)\n",
        "        loss.backward()\n",
        "        optimizer.step()\n",
        "\n",
        "        train_loss += loss.item()\n",
        "        predicted = (outputs > 0.5).float()\n",
        "        total_train += labels.size(0)\n",
        "        correct_train += (predicted == labels).sum().item()\n",
        "\n",
        "    train_accuracy = 100 * correct_train / total_train\n",
        "    train_losses.append(train_loss / len(train_loader))\n",
        "    train_accuracies.append(train_accuracy)\n",
        "\n",
        "    # Evaluation\n",
        "    model.eval()\n",
        "    test_loss = 0\n",
        "    correct_test = 0\n",
        "    total_test = 0\n",
        "    all_predictions = []\n",
        "    all_labels = []\n",
        "    with torch.no_grad():\n",
        "        for data, labels in test_loader:\n",
        "            data = data.float()  # convert data to float\n",
        "            #data = data.to(torch.complex64)\n",
        "            labels = labels.float().unsqueeze(1)  # convert labels to float and unsqueeze\n",
        "            outputs = model(data)\n",
        "            loss = criterion(outputs, labels)\n",
        "            test_loss += loss.item()\n",
        "            predictions = (outputs > 0.5).float()  # convert output to 0,1 values\n",
        "            all_predictions.extend(predictions.cpu().numpy())\n",
        "            all_labels.extend(labels.cpu().numpy())\n",
        "            total_test += labels.size(0)\n",
        "            correct_test += (predictions == labels).sum().item()\n",
        "\n",
        "    test_accuracy = 100 * correct_test / total_test\n",
        "    test_losses.append(test_loss / len(test_loader))\n",
        "    test_accuracies.append(test_accuracy)\n",
        "\n",
        "\n",
        "    print(f\"Epoch {epoch+1}/{num_epochs}, \"\n",
        "          f\"Train Loss: {train_losses[-1]:.4f}, Train Acc: {train_accuracies[-1]:.2f}%, \"\n",
        "          f\"Test Loss: {test_losses[-1]:.4f}, Test Acc: {test_accuracies[-1]:.2f}%\")\n",
        "\n",
        "\n",
        "\n",
        "     # Early stopping check\n",
        "    if test_accuracy > best_accuracy:\n",
        "        best_accuracy = test_accuracy\n",
        "        epochs_no_improve = 0\n",
        "        # Save the model weights\n",
        "        torch.save(model.state_dict(), 'best_model_weights.pth')\n",
        "    else:\n",
        "        epochs_no_improve += 1\n",
        "    if epochs_no_improve == patience:\n",
        "        print(f\"Early stopping at epoch {epoch+1}\")\n",
        "        break\n",
        "\n",
        "    # Confusion Matrix (optional - uncomment if you want to see it per epoch)\n",
        "    # cm = confusion_matrix(all_labels, all_predictions)\n",
        "    # plt.figure(figsize=(8, 6))\n",
        "    # sns.heatmap(cm, annot=True, fmt=\"d\", cmap=\"Blues\",\n",
        "    #             xticklabels=['Predicted Failure', 'Predicted Normal'],\n",
        "    #             yticklabels=['Actual Failure', 'Actual Normal'])\n",
        "    # plt.title(f\"Confusion Matrix - Epoch {epoch+1}\")\n",
        "    # plt.show()"
      ],
      "metadata": {
        "colab": {
          "base_uri": "https://localhost:8080/"
        },
        "id": "OF6nPbeWn3_B",
        "outputId": "d76bb722-1113-49ba-af2b-672414304674"
      },
      "execution_count": 57,
      "outputs": [
        {
          "output_type": "stream",
          "name": "stdout",
          "text": [
            "Epoch 1/10, Train Loss: 0.0647, Train Acc: 97.75%, Test Loss: 0.0003, Test Acc: 100.00%\n",
            "Epoch 2/10, Train Loss: 0.0001, Train Acc: 100.00%, Test Loss: 0.0001, Test Acc: 100.00%\n",
            "Early stopping at epoch 2\n"
          ]
        }
      ]
    },
    {
      "cell_type": "code",
      "source": [
        "# Plot the loss vs epochs\n",
        "plt.plot(range(1, len(train_losses) + 1), train_losses, label='Train Loss')\n",
        "plt.plot(range(1, len(train_losses) + 1), test_losses, label='Test Loss')\n",
        "plt.xlabel('Epochs')\n",
        "plt.ylabel('Loss')\n",
        "plt.title('Loss vs Epochs')\n",
        "plt.legend()\n",
        "plt.show()\n"
      ],
      "metadata": {
        "colab": {
          "base_uri": "https://localhost:8080/",
          "height": 472
        },
        "id": "NBOE2KPCoHsG",
        "outputId": "4b603f38-0d8f-42de-ba49-1b6ad296cbc2"
      },
      "execution_count": 58,
      "outputs": [
        {
          "output_type": "display_data",
          "data": {
            "text/plain": [
              "<Figure size 640x480 with 1 Axes>"
            ],
            "image/png": "[encoded data removed]"
          },
          "metadata": {}
        }
      ]
    },
    {
      "cell_type": "code",
      "source": [
        "\n",
        "\n",
        "#  ( existing code)\n",
        "\n",
        "# (modified to print confusion matrix only once)\n",
        "\n",
        "\n",
        "# Confusion Matrix (printed only once after all epochs)\n",
        "cm = confusion_matrix(all_labels, all_predictions)\n",
        "plt.figure(figsize=(8, 6))\n",
        "sns.heatmap(cm, annot=True, fmt=\"d\", cmap=\"Blues\",\n",
        "            xticklabels=['Predicted Failure', 'Predicted Normal'],\n",
        "            yticklabels=['Actual Failure', 'Actual Normal'])\n",
        "plt.title(\"Confusion Matrix - Final\") # Added - Final to indicate it is the last epoch\n",
        "plt.show()\n"
      ],
      "metadata": {
        "colab": {
          "base_uri": "https://localhost:8080/",
          "height": 545
        },
        "id": "FJ4mgO6goKmf",
        "outputId": "66088b74-952a-4445-c89e-4970c1f95207"
      },
      "execution_count": 59,
      "outputs": [
        {
          "output_type": "display_data",
          "data": {
            "text/plain": [
              "<Figure size 800x600 with 2 Axes>"
            ],
            "image/png": "[encoded data removed]"
          },
          "metadata": {}
        }
      ]
    },
    {
      "cell_type": "code",
      "source": [
        "\n",
        "from sklearn.metrics import precision_score, recall_score, f1_score\n",
        "\n",
        "# Calculate precision, recall, and F1-score\n",
        "precision = precision_score(all_labels, all_predictions)\n",
        "recall = recall_score(all_labels, all_predictions)\n",
        "f1 = f1_score(all_labels, all_predictions)\n",
        "\n",
        "print(f\"\\nPrecision: {precision:.4f}\")\n",
        "print(f\"Recall: {recall:.4f}\")\n",
        "print(f\"F1-Score: {f1:.4f}\")"
      ],
      "metadata": {
        "colab": {
          "base_uri": "https://localhost:8080/"
        },
        "id": "TJr7Pce1oM9Q",
        "outputId": "88f05404-933d-49b7-bc4f-0977232ea8bd"
      },
      "execution_count": 60,
      "outputs": [
        {
          "output_type": "stream",
          "name": "stdout",
          "text": [
            "\n",
            "Precision: 1.0000\n",
            "Recall: 1.0000\n",
            "F1-Score: 1.0000\n"
          ]
        }
      ]
    },
    {
      "cell_type": "markdown",
      "metadata": {
        "id": "Zh2HMT_uz6PC"
      },
      "source": [
        "\n",
        "\n",
        "---\n",
        "\n"
      ]
    },
    {
      "cell_type": "markdown",
      "metadata": {
        "id": "-CS1aMGQ-djd"
      },
      "source": [
        "\n",
        "\n",
        "```\n",
        "# This is formatted as code\n",
        "```\n",
        "\n",
        "\n",
        "\n",
        "---\n",
        "**With Transform : Hilbert**\n",
        "\n",
        "---\n",
        "\n",
        "\n"
      ]
    },
    {
      "cell_type": "code",
      "source": [
        "from collections.abc import ItemsView\n",
        "from scipy.signal import hilbert\n",
        "\n",
        "class Dataset_custom_transform(Dataset):\n",
        "    def __init__(self, normal_array_path, failure_array_path, preprocessing_flag = 'None'):\n",
        "        self.normal_array = np.load(normal_array_path, mmap_mode='r')\n",
        "        self.failure_array = np.load(failure_array_path, mmap_mode='r')\n",
        "        self.preprocessing_flag = preprocessing_flag\n",
        "\n",
        "    def fft_function(self, data):\n",
        "        num_channels, signal_length = data.shape\n",
        "        fft_data = np.zeros_like(data, dtype=complex)\n",
        "        for ch in range(num_channels):\n",
        "            fft_data[ch, :] = np.fft.fft(data[ch, :])\n",
        "        return fft_data\n",
        "\n",
        "\n",
        "    def hilbert_function(self, data, fs=400):\n",
        "        num_channels, signal_length = data.shape\n",
        "        hilbert_data = np.zeros_like(data, dtype=complex)\n",
        "        for ch in range(num_channels):\n",
        "            hilbert_data[ch, :] = hilbert(data[ch, :])\n",
        "        return hilbert_data\n",
        "\n",
        "    def dct_function(self, data):\n",
        "        num_channels, signal_length = data.shape\n",
        "        dct_data = np.zeros_like(data)\n",
        "        for ch in range(num_channels):\n",
        "            dct_data[ch, :] = dct(data[ch, :], type=2)  # Using DCT-II\n",
        "        return dct_data\n",
        "\n",
        "    def dst_function(self, data):\n",
        "        num_channels, signal_length = data.shape\n",
        "        dst_data = np.zeros_like(data)\n",
        "        for ch in range(num_channels):\n",
        "            dst_data[ch, :] = dst(data[ch, :], type=2)  # Using DST-II\n",
        "        return dst_data\n",
        "\n",
        "    def wavelet_function(self, data, wavelet='haar', level=1):\n",
        "        import pywt\n",
        "        num_channels, signal_length = data.shape\n",
        "        wavelet_data = []\n",
        "        for ch in range(num_channels):\n",
        "            coeffs = pywt.wavedec(data[ch, :].copy(), wavelet, level=level)\n",
        "            # We will concatenate the coefficients for each channel\n",
        "            wavelet_data.append(np.concatenate(coeffs))\n",
        "        # Pad or truncate to a consistent size if needed, or handle variable lengths\n",
        "        # For simplicity, we will just return the list of concatenated coefficients\n",
        "        # This might require adjustments depending on the CNN input requirements\n",
        "        # For a fixed output size, you might need padding/truncation\n",
        "        # Example of padding to the max length:\n",
        "        max_len = max(len(coeff_array) for coeff_array in wavelet_data)\n",
        "        padded_wavelet_data = np.zeros((num_channels, max_len))\n",
        "        for ch, coeff_array in enumerate(wavelet_data):\n",
        "            padded_wavelet_data[ch, :len(coeff_array)] = coeff_array\n",
        "\n",
        "        return padded_wavelet_data\n",
        "\n",
        "    def __len__(self):\n",
        "        return len(self.normal_array) + len(self.failure_array)\n",
        "\n",
        "    def preprocessing(self, data, preprocessing_flag):\n",
        "        if preprocessing_flag == 'FFT':\n",
        "            return self.fft_function(data)\n",
        "        elif preprocessing_flag == 'Hilbert':\n",
        "            return self.hilbert_function(data)\n",
        "        else:              # MMMR: Changed here. Not sure if it is necessary\n",
        "            return data\n",
        "\n",
        "    def preprocessing(self, data, preprocessing_flag):\n",
        "        if preprocessing_flag == 'FFT':\n",
        "            return self.fft_function(data)\n",
        "        elif preprocessing_flag == 'Hilbert':\n",
        "            return self.hilbert_function(data)\n",
        "        elif preprocessing_flag == 'DCT':\n",
        "            from scipy.fftpack import dct\n",
        "            return self.dct_function(data)\n",
        "        elif preprocessing_flag == 'DST':\n",
        "            from scipy.fftpack import dst\n",
        "            return self.dst_function(data)\n",
        "        elif preprocessing_flag == 'Wavelet':\n",
        "            # Making sure pywt is installed: !pip install PyWavelets\n",
        "            import pywt\n",
        "            return self.wavelet_function(data)\n",
        "        else:\n",
        "            return data\n",
        "\n",
        "    def __getitem__(self, idx):\n",
        "        if idx<len(self.normal_array):\n",
        "          data=self.normal_array[idx,:,:]\n",
        "          label=1\n",
        "        else:\n",
        "          data=self.failure_array[idx-len(self.normal_array),:,:]\n",
        "          label=0\n",
        "\n",
        "        final_data = self.preprocessing(data, self.preprocessing_flag)\n",
        "        return torch.from_numpy(final_data), torch.tensor(label)  # MMMR: Changed here. Not sure if it is necessary\n"
      ],
      "metadata": {
        "id": "-XttmsItrShP"
      },
      "execution_count": 69,
      "outputs": []
    },
    {
      "cell_type": "code",
      "source": [],
      "metadata": {
        "id": "AJ64z4lt2lEO"
      },
      "execution_count": null,
      "outputs": []
    },
    {
      "cell_type": "code",
      "source": [
        "from torch.utils.data import DataLoader\n",
        "import time\n",
        "\n",
        "start= time.time()\n",
        "### Your code goes here #################################################################################################\n",
        "\n",
        "\n",
        "# Create the dataset\n",
        "dataset = Dataset_custom_transform('/content/normal_3d_array.npy', '/content/failure_3d_array.npy', preprocessing_flag='Hilbert')\n",
        "\n",
        "# Create a DataLoader\n",
        "batch_size = 100\n",
        "dataloader = DataLoader(dataset, batch_size=batch_size, shuffle=False)\n",
        "\n",
        "# Iterate through the DataLoader\n",
        "for batch_idx, (data, labels) in enumerate(dataloader):\n",
        "    data = data.to(torch.complex64)\n",
        "    labels = labels.float().unsqueeze(1)\n",
        "    print(f\"Batch {batch_idx} - Data shape: {data.shape}, Labels shape: {labels.shape}, Data type: {data.dtype}, Labels shape: {labels.dtype}\")\n",
        "    # Now you have batches of data and labels ready for your model\n",
        "    # ... your model training code here ...\n",
        "    break #remove to run through the entire dataloader\n",
        "\n",
        "#################################################################################################################################\n",
        "\n",
        "end = time.time()\n",
        "print(\"Time taken\", end- start)\n",
        "\n",
        "\n"
      ],
      "metadata": {
        "id": "qPfNo4Koq5S_",
        "colab": {
          "base_uri": "https://localhost:8080/"
        },
        "outputId": "a4b413b0-5c20-49a4-f6fa-e38db712cd2e"
      },
      "execution_count": 82,
      "outputs": [
        {
          "output_type": "stream",
          "name": "stdout",
          "text": [
            "Batch 0 - Data shape: torch.Size([100, 3, 1024]), Labels shape: torch.Size([100, 1]), Data type: torch.complex64, Labels shape: torch.float32\n",
            "Time taken 0.02739715576171875\n"
          ]
        }
      ]
    },
    {
      "cell_type": "code",
      "source": [],
      "metadata": {
        "id": "miVdNH-d2mfM"
      },
      "execution_count": null,
      "outputs": []
    },
    {
      "cell_type": "code",
      "source": [
        "import torch\n",
        "import torch.nn as nn\n",
        "import torch.nn.functional as F\n",
        "\n",
        "class ComplexConv1D(nn.Module):\n",
        "    def __init__(self, in_channels, out_channels, kernel_size, padding=0):\n",
        "        super(ComplexConv1D, self).__init__()\n",
        "        self.real_conv = nn.Conv1d(in_channels, out_channels, kernel_size, padding=padding)\n",
        "        self.imag_conv = nn.Conv1d(in_channels, out_channels, kernel_size, padding=padding)\n",
        "\n",
        "    def forward(self, x):\n",
        "        real = x.real\n",
        "        imag = x.imag\n",
        "        real_out = self.real_conv(real) - self.imag_conv(imag)\n",
        "        imag_out = self.real_conv(imag) + self.imag_conv(real)\n",
        "        return torch.complex(real_out, imag_out)\n",
        "\n",
        "class ComplexReLU(nn.Module):\n",
        "    def forward(self, x):\n",
        "        return torch.complex(F.relu(x.real), F.relu(x.imag))\n",
        "\n",
        "class ComplexMaxPool1d(nn.Module):\n",
        "    def __init__(self, kernel_size, return_indices=True):\n",
        "        super(ComplexMaxPool1d, self).__init__()\n",
        "        self.pool = nn.MaxPool1d(kernel_size, return_indices=return_indices)\n",
        "        self.return_indices = return_indices\n",
        "\n",
        "    def forward(self, x):\n",
        "        mag = torch.abs(x)\n",
        "        if self.return_indices:\n",
        "            output, indices = self.pool(mag)\n",
        "            real = torch.gather(x.real, dim=-1, index=indices)\n",
        "            imag = torch.gather(x.imag, dim=-1, index=indices)\n",
        "            return torch.complex(real, imag)\n",
        "        else:\n",
        "            output = self.pool(mag)\n",
        "            magnitude = output\n",
        "            phase = torch.atan2(x.imag, x.real)\n",
        "            real_out = magnitude * torch.cos(phase)\n",
        "            imag_out = magnitude * torch.sin(phase)\n",
        "            return torch.complex(real_out, imag_out)\n",
        "\n",
        "class ComplexLinear(nn.Module):\n",
        "    def __init__(self, in_features, out_features):\n",
        "        super(ComplexLinear, self).__init__()\n",
        "        self.real_fc = nn.Linear(in_features, out_features)\n",
        "        self.imag_fc = nn.Linear(in_features, out_features)\n",
        "\n",
        "    def forward(self, x):\n",
        "        real = x.real\n",
        "        imag = x.imag\n",
        "        real_out = self.real_fc(real) - self.imag_fc(imag)\n",
        "        imag_out = self.real_fc(imag) + self.imag_fc(real)\n",
        "        return torch.complex(real_out, imag_out)\n",
        "\n",
        "class ComplexConvNet(nn.Module):\n",
        "    def __init__(self, in_channels=3):\n",
        "        super(ComplexConvNet, self).__init__()\n",
        "        self.conv1 = ComplexConv1D(in_channels, 32, kernel_size=3, padding=1)\n",
        "        self.relu1 = ComplexReLU()\n",
        "        self.pool1 = ComplexMaxPool1d(kernel_size=2)\n",
        "        self.conv2 = ComplexConv1D(32, 64, kernel_size=3, padding=1)\n",
        "        self.relu2 = ComplexReLU()\n",
        "        self.pool2 = ComplexMaxPool1d(kernel_size=2)\n",
        "        self.fc = ComplexLinear(64 * 256, 64)  #Reduced to 64 neurons\n",
        "        self.relu3 = ComplexReLU()\n",
        "        self.output = ComplexLinear(64, 1)     #Output layer\n",
        "\n",
        "    def forward(self, x):\n",
        "        x = self.pool1(self.relu1(self.conv1(x)))\n",
        "        x = self.pool2(self.relu2(self.conv2(x)))\n",
        "        x = x.view(x.size(0), -1)\n",
        "        #x = x.view(-1, 64 * 128)\n",
        "        x = self.relu3(self.fc(x))\n",
        "        x = self.output(x)\n",
        "        x = torch.sigmoid(torch.real(x))\n",
        "        # x = torch.real(x)  #Output real part for regression or classification\n",
        "        return x\n",
        "\n",
        "model = ComplexConvNet(in_channels=3)\n"
      ],
      "metadata": {
        "id": "sq1rY4spzvhX"
      },
      "execution_count": 86,
      "outputs": []
    },
    {
      "cell_type": "code",
      "source": [
        "# import torch\n",
        "# import torch.nn as nn\n",
        "import torch.optim as optim\n",
        "from torch.utils.data import DataLoader, random_split\n",
        "from sklearn.metrics import accuracy_score, confusion_matrix\n",
        "import numpy as np\n",
        "import seaborn as sns\n",
        "import matplotlib.pyplot as plt\n",
        "\n",
        "\n",
        "# Split the dataset into training and testing sets\n",
        "test_size = int(0.2 * len(dataset))\n",
        "train_size = len(dataset) - test_size\n",
        "train_dataset, test_dataset = random_split(dataset, [train_size, test_size])\n",
        "\n",
        "\n",
        "# # Create DataLoaders\n",
        "\n",
        "train_loader = DataLoader(train_dataset, batch_size=batch_size, shuffle=True)  # MMMR: This need to be True always as batch optimization need data to be shuffled at the start of every epochs.\n",
        "test_loader = DataLoader(test_dataset, batch_size=batch_size, shuffle=False)\n",
        "\n",
        "# # Instantiate the model, optimizer, and loss function\n",
        "model = ComplexConvNet(in_channels=3)\n",
        "optimizer = optim.Adam(model.parameters())\n",
        "criterion = nn.BCELoss()  # Binary Cross-Entropy Loss\n"
      ],
      "metadata": {
        "id": "fxmOUD8f2nq3"
      },
      "execution_count": 87,
      "outputs": []
    },
    {
      "cell_type": "code",
      "source": [
        "num_epochs = 10\n",
        "patience = 1\n",
        "best_accuracy = 0\n",
        "epochs_no_improve = 0\n",
        "\n",
        "for epoch in range(num_epochs):\n",
        "    model.train()\n",
        "    train_loss = 0\n",
        "    correct_train = 0\n",
        "    total_train = 0\n",
        "    for data, labels in train_loader:\n",
        "        data = data.to(torch.complex64)\n",
        "        labels = labels.float().unsqueeze(1)\n",
        "        optimizer.zero_grad()\n",
        "        outputs = model(data)\n",
        "        loss = criterion(outputs, labels)\n",
        "        loss.backward()\n",
        "        optimizer.step()\n",
        "        train_loss += loss.item()\n",
        "        predicted = (outputs > 0.5).float()\n",
        "        total_train += labels.size(0)\n",
        "        correct_train += (predicted == labels).sum().item()\n",
        "\n",
        "    train_accuracy = 100 * correct_train / total_train\n",
        "\n",
        "    # Evaluation\n",
        "    model.eval()\n",
        "    test_loss = 0\n",
        "    correct_test = 0\n",
        "    total_test = 0\n",
        "    with torch.no_grad():\n",
        "        for data, labels in test_loader:\n",
        "            data = data.to(torch.complex64)\n",
        "            labels = labels.float().unsqueeze(1)\n",
        "            outputs = model(data)\n",
        "            loss = criterion(outputs, labels)\n",
        "            test_loss += loss.item()\n",
        "            predictions = (outputs > 0.5).float()\n",
        "            total_test += labels.size(0)\n",
        "            correct_test += (predictions == labels).sum().item()\n",
        "\n",
        "    test_accuracy = 100 * correct_test / total_test\n",
        "\n",
        "    print(f\"Epoch {epoch+1}/{num_epochs}, Train Loss: {train_loss:.4f}, Train Acc: {train_accuracy:.2f}%, Test Loss: {test_loss:.4f}, Test Acc: {test_accuracy:.2f}%\")\n",
        "\n",
        "    # Early stopping\n",
        "    if test_accuracy > best_accuracy:\n",
        "        best_accuracy = test_accuracy\n",
        "        epochs_no_improve = 0\n",
        "        torch.save(model.state_dict(), 'best_model_weights.pth')\n",
        "    else:\n",
        "        epochs_no_improve += 1\n",
        "    if epochs_no_improve == patience:\n",
        "        print(f\"Early stopping at epoch {epoch+1}\")\n",
        "        break\n"
      ],
      "metadata": {
        "colab": {
          "base_uri": "https://localhost:8080/"
        },
        "id": "Mb4YVlnE0U86",
        "outputId": "9cbf7443-b51b-4f73-b162-bd68864e223a"
      },
      "execution_count": 88,
      "outputs": [
        {
          "output_type": "stream",
          "name": "stdout",
          "text": [
            "Epoch 1/10, Train Loss: 11.9721, Train Acc: 98.17%, Test Loss: 0.0002, Test Acc: 100.00%\n",
            "Epoch 2/10, Train Loss: 0.0006, Train Acc: 100.00%, Test Loss: 0.0000, Test Acc: 100.00%\n",
            "Early stopping at epoch 2\n"
          ]
        }
      ]
    },
    {
      "cell_type": "code",
      "source": [
        "\n",
        "\n",
        "#  ( existing code)\n",
        "\n",
        "# (modified to print confusion matrix only once)\n",
        "\n",
        "\n",
        "# Confusion Matrix (printed only once after all epochs)\n",
        "cm = confusion_matrix(all_labels, all_predictions)\n",
        "plt.figure(figsize=(8, 6))\n",
        "sns.heatmap(cm, annot=True, fmt=\"d\", cmap=\"Blues\",\n",
        "            xticklabels=['Predicted Failure', 'Predicted Normal'],\n",
        "            yticklabels=['Actual Failure', 'Actual Normal'])\n",
        "plt.title(\"Confusion Matrix - Final\") # Added - Final to indicate it is the last epoch\n",
        "plt.show()\n"
      ],
      "metadata": {
        "colab": {
          "base_uri": "https://localhost:8080/",
          "height": 545
        },
        "id": "SdcgOjGZ6AX5",
        "outputId": "d39f4c8f-1a28-4f81-e2b1-ab2ad00e6ef0"
      },
      "execution_count": 91,
      "outputs": [
        {
          "output_type": "display_data",
          "data": {
            "text/plain": [
              "<Figure size 800x600 with 2 Axes>"
            ],
            "image/png": "[encoded data removed]"
          },
          "metadata": {}
        }
      ]
    },
    {
      "cell_type": "code",
      "source": [
        "\n",
        "from sklearn.metrics import precision_score, recall_score, f1_score\n",
        "\n",
        "# Calculate precision, recall, and F1-score\n",
        "precision = precision_score(all_labels, all_predictions)\n",
        "recall = recall_score(all_labels, all_predictions)\n",
        "f1 = f1_score(all_labels, all_predictions)\n",
        "\n",
        "print(f\"\\nPrecision: {precision:.4f}\")\n",
        "print(f\"Recall: {recall:.4f}\")\n",
        "print(f\"F1-Score: {f1:.4f}\")"
      ],
      "metadata": {
        "id": "jrLxZJZ27d3A"
      },
      "execution_count": null,
      "outputs": []
    },
    {
      "cell_type": "code",
      "source": [
        "# import torch\n",
        "# import torch.nn as nn\n",
        "# import torch.nn.functional as F\n",
        "\n",
        "# class ComplexConv1D(nn.Module):\n",
        "#     def __init__(self, in_channels, out_channels, kernel_size, padding=0):\n",
        "#         super(ComplexConv1D, self).__init__()\n",
        "#         self.real_conv = nn.Conv1d(in_channels, out_channels, kernel_size, padding=padding)\n",
        "#         self.imag_conv = nn.Conv1d(in_channels, out_channels, kernel_size, padding=padding)\n",
        "\n",
        "#     def forward(self, x):\n",
        "#         real = x.real\n",
        "#         imag = x.imag\n",
        "#         real_out = self.real_conv(real) - self.imag_conv(imag)\n",
        "#         imag_out = self.real_conv(imag) + self.imag_conv(real)\n",
        "#         return torch.complex(real_out, imag_out)\n",
        "\n",
        "# class ComplexReLU(nn.Module):\n",
        "#     def forward(self, x):\n",
        "#         return torch.complex(F.relu(x.real), F.relu(x.imag))\n",
        "\n",
        "\n",
        "# class ComplexMaxPool1d(nn.Module):\n",
        "#     def __init__(self, kernel_size, return_indices=True):\n",
        "#         super(ComplexMaxPool1d, self).__init__()\n",
        "#         self.pool = nn.MaxPool1d(kernel_size, return_indices=return_indices)\n",
        "#         self.return_indices = return_indices\n",
        "\n",
        "#     def forward(self, x):\n",
        "#         # Max-pool based on magnitude\n",
        "#         mag = torch.abs(x)\n",
        "\n",
        "#         # Perform max pooling, optionally returning indices\n",
        "#         if self.return_indices:\n",
        "#             output, indices = self.pool(mag)\n",
        "#             # If returning indices, apply pooling separately to real and imaginary parts\n",
        "#             real = torch.gather(x.real, dim=-1, index=indices)\n",
        "#             imag = torch.gather(x.imag, dim=-1, index=indices)\n",
        "#             return torch.complex(real, imag)            # MMMR: Returning indices as well. So it is a tuple and networ breaks. Removed it\n",
        "#         else:\n",
        "#             # If not returning indices, just return the pooled magnitude\n",
        "#             output = self.pool(mag)\n",
        "#             # Calculate magnitude and phase from pooled magnitude\n",
        "#             magnitude = output\n",
        "#             phase = torch.atan2(x.imag, x.real)\n",
        "#             # Reconstruct complex output using pooled magnitude and original phase\n",
        "#             real_out = magnitude * torch.cos(phase)\n",
        "#             imag_out = magnitude * torch.sin(phase)\n",
        "#             return torch.complex(real_out, imag_out) # Return only the complex output\n",
        "\n",
        "\n",
        "# class ComplexLinear(nn.Module):\n",
        "#     def __init__(self, in_features, out_features):\n",
        "#         super(ComplexLinear, self).__init__()\n",
        "#         self.real_fc = nn.Linear(in_features, out_features)\n",
        "#         self.imag_fc = nn.Linear(in_features, out_features)\n",
        "\n",
        "#     def forward(self, x):\n",
        "#         real = x.real\n",
        "#         imag = x.imag\n",
        "#         real_out = self.real_fc(real) - self.imag_fc(imag)\n",
        "#         imag_out = self.real_fc(imag) + self.imag_fc(real)\n",
        "#         return torch.complex(real_out, imag_out)\n",
        "\n",
        "# class ComplexConv1D(nn.Module):\n",
        "#     def __init__(self, in_channels, out_channels, kernel_size, padding=0):\n",
        "#         super(ComplexConv1D, self).__init__()\n",
        "#         self.real_conv = nn.Conv1d(in_channels, out_channels, kernel_size, padding=padding)\n",
        "#         self.imag_conv = nn.Conv1d(in_channels, out_channels, kernel_size, padding=padding)\n",
        "\n",
        "#     def forward(self, x):\n",
        "#         real = x.real\n",
        "#         imag = x.imag\n",
        "#         real_out = self.real_conv(real) - self.imag_conv(imag)\n",
        "#         imag_out = self.real_conv(imag) + self.imag_conv(real)\n",
        "#         return torch.complex(real_out, imag_out)\n"
      ],
      "metadata": {
        "id": "h14_5Nrzq-CV"
      },
      "execution_count": null,
      "outputs": []
    },
    {
      "cell_type": "code",
      "source": [
        "# class ComplexConvNet(nn.Module):\n",
        "#     def __init__(self, in_channels=3):\n",
        "#         super(ComplexConvNet, self).__init__()\n",
        "#         self.conv1 = ComplexConv1D(in_channels, 32, kernel_size=3, padding=1)\n",
        "#         #self.conv1 = ComplexConv1D(32, in_channels, kernel_size=3, padding=1)\n",
        "#         self.relu1 = ComplexReLU()\n",
        "#         self.pool1 = ComplexMaxPool1d(kernel_size=2)\n",
        "#         self.conv2 = ComplexConv1D(32, 64, kernel_size=3, padding=1)\n",
        "#         self.relu2 = ComplexReLU()\n",
        "#         self.pool2 = ComplexMaxPool1d(kernel_size=2)\n",
        "#         self.fc1 = ComplexLinear(64 * 256, 128)\n",
        "#         self.relu3 = ComplexReLU()\n",
        "#         self.fc2 = ComplexLinear(128, 1)\n",
        "\n",
        "#     def forward(self, x):\n",
        "#         x = self.pool1(self.relu1(self.conv1(x)))\n",
        "#         x = self.pool2(self.relu2(self.conv2(x)))\n",
        "#         x = x.view(-1, 64 * 256)\n",
        "#         x = self.relu3(self.fc1(x))\n",
        "#         x = self.fc2(x)\n",
        "#         x = torch.real(x)  # MMMR: Need a number from -inf to + inf. Then only sigmoid can produce [0-1]\n",
        "#         # x = torch.sigmoid(x) # MMMR - Need a probability value from [0-1]\n",
        "#         return x\n",
        "\n",
        "# model = ComplexConvNet(in_channels=3)"
      ],
      "metadata": {
        "id": "3iUxPPGrrBZ0"
      },
      "execution_count": null,
      "outputs": []
    },
    {
      "cell_type": "code",
      "source": [
        "# import torch\n",
        "# import torch.nn as nn\n",
        "# import torch.optim as optim\n",
        "# from torch.utils.data import DataLoader, random_split\n",
        "# import numpy as np\n",
        "# import matplotlib.pyplot as plt\n",
        "# import seaborn as sns\n",
        "# from sklearn.metrics import confusion_matrix, precision_score, recall_score, f1_score\n",
        "\n",
        "# # seeds = [0, 1, 42, 1234, 10]\n",
        "# seeds = [42, 1234, 10, 1]\n",
        "\n",
        "# for seed in seeds:\n",
        "#     print(f\"\\nRunning training with seed: {seed}\")\n",
        "#     torch.manual_seed(seed)\n",
        "#     torch.cuda.manual_seed(seed)\n",
        "#     torch.backends.cudnn.deterministic = True\n",
        "#     torch.backends.cudnn.benchmark = False\n",
        "#     np.random.seed(seed)\n",
        "\n",
        "#     test_size = int(0.2 * len(dataset))\n",
        "#     train_size = len(dataset) - test_size\n",
        "#     train_dataset, test_dataset = random_split(dataset, [train_size, test_size])\n",
        "\n",
        "#     train_loader = DataLoader(train_dataset, batch_size=batch_size, shuffle=True)\n",
        "#     test_loader = DataLoader(test_dataset, batch_size=batch_size, shuffle=False)\n",
        "\n",
        "#     model = ComplexConvNet()\n",
        "#     criterion = nn.BCEWithLogitsLoss()\n",
        "#     optimizer = optim.Adam(model.parameters(), lr=1e-3)\n",
        "\n",
        "#     num_epochs = 10\n",
        "#     patience = 5\n",
        "#     best_accuracy = 0\n",
        "#     epochs_no_improve = 0\n",
        "\n",
        "#     train_losses = []\n",
        "#     train_accuracies = []\n",
        "#     test_losses = []\n",
        "#     test_accuracies = []\n",
        "\n",
        "#     for epoch in range(num_epochs):\n",
        "#         model.train()\n",
        "#         train_loss = 0\n",
        "#         correct_train = 0\n",
        "#         total_train = 0\n",
        "\n",
        "#         for data, labels in train_loader:\n",
        "#             data = data.float()\n",
        "#             data = (data - data.mean(dim=-1, keepdim=True)) / (data.std(dim=-1, keepdim=True) + 1e-6)\n",
        "#             data = data.to(torch.complex64)\n",
        "#             labels = labels.float().unsqueeze(1)\n",
        "\n",
        "#             optimizer.zero_grad()\n",
        "#             outputs = model(data)\n",
        "#             loss = criterion(outputs, labels)\n",
        "#             loss.backward()\n",
        "#             optimizer.step()\n",
        "\n",
        "#             train_loss += loss.item()\n",
        "#             predicted = (torch.sigmoid(outputs) > 0.5).float()\n",
        "#             total_train += labels.size(0)\n",
        "#             correct_train += (predicted == labels).sum().item()\n",
        "\n",
        "#         train_accuracy = 100 * correct_train / total_train\n",
        "#         train_losses.append(train_loss / len(train_loader))\n",
        "#         train_accuracies.append(train_accuracy)\n",
        "\n",
        "#         model.eval()\n",
        "#         test_loss = 0\n",
        "#         correct_test = 0\n",
        "#         total_test = 0\n",
        "#         all_predictions = []\n",
        "#         all_labels = []\n",
        "\n",
        "#         with torch.no_grad():\n",
        "#             for data, labels in test_loader:\n",
        "#                 if data.ndim == 2:\n",
        "#                     data = data.unsqueeze(1)\n",
        "#                 elif data.ndim == 4:\n",
        "#                     data = data.squeeze(1)\n",
        "#                 data = data.float()\n",
        "#                 data = (data - data.mean(dim=-1, keepdim=True)) / (data.std(dim=-1, keepdim=True) + 1e-6)\n",
        "#                 data = data.to(torch.complex64)\n",
        "#                 labels = labels.float().unsqueeze(1)\n",
        "\n",
        "#                 outputs = model(data)\n",
        "#                 loss = criterion(outputs, labels)\n",
        "#                 test_loss += loss.item()\n",
        "#                 predictions = (torch.sigmoid(outputs) > 0.5).float()\n",
        "#                 all_predictions.extend(predictions.cpu().numpy())\n",
        "#                 all_labels.extend(labels.cpu().numpy())\n",
        "#                 total_test += labels.size(0)\n",
        "#                 correct_test += (predictions == labels).sum().item()\n",
        "\n",
        "#         test_accuracy = 100 * correct_test / total_test\n",
        "#         test_losses.append(test_loss / len(test_loader))\n",
        "#         test_accuracies.append(test_accuracy)\n",
        "\n",
        "#         print(f\"Epoch {epoch+1}/{num_epochs}, \"\n",
        "#               f\"Train Loss: {train_losses[-1]:.4f}, Train Acc: {train_accuracies[-1]:.2f}%, \"\n",
        "#               f\"Test Loss: {test_losses[-1]:.4f}, Test Acc: {test_accuracies[-1]:.2f}%\")\n",
        "\n",
        "#         if test_accuracy > best_accuracy:\n",
        "#             best_accuracy = test_accuracy\n",
        "#             epochs_no_improve = 0\n",
        "#             torch.save(model.state_dict(), f'best_model_seed_{seed}.pth')\n",
        "#         else:\n",
        "#             epochs_no_improve += 1\n",
        "#             if epochs_no_improve == patience:\n",
        "#                 print(f\"Early stopping at epoch {epoch+1}\")\n",
        "#                 break\n",
        "\n",
        "#     cm = confusion_matrix(all_labels, all_predictions)\n",
        "#     plt.figure(figsize=(8, 6))\n",
        "#     sns.heatmap(cm, annot=True, fmt=\"d\", cmap=\"Blues\",\n",
        "#                 xticklabels=['Predicted Failure', 'Predicted Normal'],\n",
        "#                 yticklabels=['Actual Failure', 'Actual Normal'])\n",
        "#     plt.title(f\"Confusion Matrix - Final (Seed: {seed})\")\n",
        "#     plt.xlabel(\"Predicted Label\")\n",
        "#     plt.ylabel(\"True Label\")\n",
        "#     plt.show()\n",
        "\n",
        "#     precision = precision_score(all_labels, all_predictions)\n",
        "#     recall = recall_score(all_labels, all_predictions)\n",
        "#     f1 = f1_score(all_labels, all_predictions)\n",
        "\n",
        "#     print(f\"\\n[Metrics for Seed {seed}]\")\n",
        "#     print(f\"Precision: {precision:.4f}\")\n",
        "#     print(f\"Recall:    {recall:.4f}\")\n",
        "#     print(f\"F1-Score:  {f1:.4f}\")"
      ],
      "metadata": {
        "id": "byXbNGMerEdD"
      },
      "execution_count": null,
      "outputs": []
    },
    {
      "cell_type": "markdown",
      "metadata": {
        "id": "eOmM06Tq2sBu"
      },
      "source": []
    },
    {
      "cell_type": "markdown",
      "metadata": {
        "id": "rxxkHAQObXE0"
      },
      "source": [
        "**FOURIER TRANSFORM**"
      ]
    },
    {
      "cell_type": "code",
      "source": [
        "#start"
      ],
      "metadata": {
        "id": "mCd8sz2oB3kb"
      },
      "execution_count": null,
      "outputs": []
    },
    {
      "cell_type": "code",
      "execution_count": 89,
      "metadata": {
        "id": "2fJ47xMIsDxD",
        "colab": {
          "base_uri": "https://localhost:8080/"
        },
        "outputId": "0d54a56c-1219-46e0-d2fc-d5da3ff6410d"
      },
      "outputs": [
        {
          "output_type": "stream",
          "name": "stdout",
          "text": [
            "Batch 0 - Data shape: torch.Size([100, 3, 1024]), Labels shape: torch.Size([100, 1]), Data type: torch.complex64, Labels shape: torch.float32\n",
            "Time taken 0.019553661346435547\n"
          ]
        }
      ],
      "source": [
        "from torch.utils.data import DataLoader\n",
        "import time\n",
        "\n",
        "start= time.time()\n",
        "### Your code goes here #################################################################################################\n",
        "\n",
        "\n",
        "# Create the dataset\n",
        "dataset = Dataset_custom_transform('/content/normal_3d_array.npy', '/content/failure_3d_array.npy', preprocessing_flag='FFT')\n",
        "\n",
        "# Create a DataLoader\n",
        "batch_size = 100\n",
        "dataloader = DataLoader(dataset, batch_size=batch_size, shuffle=False)\n",
        "\n",
        "# Iterate through the DataLoader\n",
        "for batch_idx, (data, labels) in enumerate(dataloader):\n",
        "    data = data.to(torch.complex64)\n",
        "    labels = labels.float().unsqueeze(1)\n",
        "    print(f\"Batch {batch_idx} - Data shape: {data.shape}, Labels shape: {labels.shape}, Data type: {data.dtype}, Labels shape: {labels.dtype}\")\n",
        "    # Now you have batches of data and labels ready for your model\n",
        "    # ... your model training code here ...\n",
        "    break #remove to run through the entire dataloader\n",
        "\n",
        "#################################################################################################################################\n",
        "\n",
        "end = time.time()\n",
        "print(\"Time taken\", end- start)\n",
        "\n",
        "\n"
      ]
    },
    {
      "cell_type": "code",
      "source": [
        "# import torch\n",
        "# import torch.nn as nn\n",
        "import torch.optim as optim\n",
        "from torch.utils.data import DataLoader, random_split\n",
        "from sklearn.metrics import accuracy_score, confusion_matrix\n",
        "import numpy as np\n",
        "import seaborn as sns\n",
        "import matplotlib.pyplot as plt\n",
        "\n",
        "\n",
        "# Split the dataset into training and testing sets\n",
        "test_size = int(0.2 * len(dataset))\n",
        "train_size = len(dataset) - test_size\n",
        "train_dataset, test_dataset = random_split(dataset, [train_size, test_size])\n",
        "\n",
        "\n",
        "# # Create DataLoaders\n",
        "\n",
        "train_loader = DataLoader(train_dataset, batch_size=batch_size, shuffle=True)  # MMMR: This need to be True always as batch optimization need data to be shuffled at the start of every epochs.\n",
        "test_loader = DataLoader(test_dataset, batch_size=batch_size, shuffle=False)\n",
        "\n",
        "# # Instantiate the model, optimizer, and loss function\n",
        "model = ComplexConvNet(in_channels=3)\n",
        "optimizer = optim.Adam(model.parameters())\n",
        "criterion = nn.BCELoss()  # Binary Cross-Entropy Loss\n"
      ],
      "metadata": {
        "id": "Bnf6myTs5yfa"
      },
      "execution_count": 90,
      "outputs": []
    },
    {
      "cell_type": "code",
      "source": [
        "num_epochs = 10\n",
        "patience = 1\n",
        "best_accuracy = 0\n",
        "epochs_no_improve = 0\n",
        "\n",
        "for epoch in range(num_epochs):\n",
        "    model.train()\n",
        "    train_loss = 0\n",
        "    correct_train = 0\n",
        "    total_train = 0\n",
        "    for data, labels in train_loader:\n",
        "        data = data.to(torch.complex64)\n",
        "        labels = labels.float().unsqueeze(1)\n",
        "        optimizer.zero_grad()\n",
        "        outputs = model(data)\n",
        "        loss = criterion(outputs, labels)\n",
        "        loss.backward()\n",
        "        optimizer.step()\n",
        "        train_loss += loss.item()\n",
        "        predicted = (outputs > 0.5).float()\n",
        "        total_train += labels.size(0)\n",
        "        correct_train += (predicted == labels).sum().item()\n",
        "\n",
        "    train_accuracy = 100 * correct_train / total_train\n",
        "\n",
        "    # Evaluation\n",
        "    model.eval()\n",
        "    test_loss = 0\n",
        "    correct_test = 0\n",
        "    total_test = 0\n",
        "    with torch.no_grad():\n",
        "        for data, labels in test_loader:\n",
        "            data = data.to(torch.complex64)\n",
        "            labels = labels.float().unsqueeze(1)\n",
        "            outputs = model(data)\n",
        "            loss = criterion(outputs, labels)\n",
        "            test_loss += loss.item()\n",
        "            predictions = (outputs > 0.5).float()\n",
        "            total_test += labels.size(0)\n",
        "            correct_test += (predictions == labels).sum().item()\n",
        "\n",
        "    test_accuracy = 100 * correct_test / total_test\n",
        "\n",
        "    print(f\"Epoch {epoch+1}/{num_epochs}, Train Loss: {train_loss:.4f}, Train Acc: {train_accuracy:.2f}%, Test Loss: {test_loss:.4f}, Test Acc: {test_accuracy:.2f}%\")\n",
        "\n",
        "    # Early stopping\n",
        "    if test_accuracy > best_accuracy:\n",
        "        best_accuracy = test_accuracy\n",
        "        epochs_no_improve = 0\n",
        "        torch.save(model.state_dict(), 'best_model_weights.pth')\n",
        "    else:\n",
        "        epochs_no_improve += 1\n",
        "    if epochs_no_improve == patience:\n",
        "        print(f\"Early stopping at epoch {epoch+1}\")\n",
        "        break\n"
      ],
      "metadata": {
        "colab": {
          "base_uri": "https://localhost:8080/"
        },
        "id": "IH-YQun954oP",
        "outputId": "3e1c2ddd-b124-4bfa-b441-e93bf2776a99"
      },
      "execution_count": 92,
      "outputs": [
        {
          "output_type": "stream",
          "name": "stdout",
          "text": [
            "Epoch 1/10, Train Loss: 1.9791, Train Acc: 99.51%, Test Loss: 0.0000, Test Acc: 100.00%\n",
            "Epoch 2/10, Train Loss: 0.0000, Train Acc: 100.00%, Test Loss: 0.0000, Test Acc: 100.00%\n",
            "Early stopping at epoch 2\n"
          ]
        }
      ]
    },
    {
      "cell_type": "code",
      "source": [
        "\n",
        "\n",
        "#  ( existing code)\n",
        "\n",
        "# (modified to print confusion matrix only once)\n",
        "\n",
        "\n",
        "# Confusion Matrix (printed only once after all epochs)\n",
        "cm = confusion_matrix(all_labels, all_predictions)\n",
        "plt.figure(figsize=(8, 6))\n",
        "sns.heatmap(cm, annot=True, fmt=\"d\", cmap=\"Blues\",\n",
        "            xticklabels=['Predicted Failure', 'Predicted Normal'],\n",
        "            yticklabels=['Actual Failure', 'Actual Normal'])\n",
        "plt.title(\"Confusion Matrix - Final\") # Added - Final to indicate it is the last epoch\n",
        "plt.show()\n"
      ],
      "metadata": {
        "colab": {
          "base_uri": "https://localhost:8080/",
          "height": 545
        },
        "id": "n5KK11v66D88",
        "outputId": "003f489a-e3e2-4f83-ebde-6bacbb5e25b0"
      },
      "execution_count": 93,
      "outputs": [
        {
          "output_type": "display_data",
          "data": {
            "text/plain": [
              "<Figure size 800x600 with 2 Axes>"
            ],
            "image/png": "[encoded data removed]"
          },
          "metadata": {}
        }
      ]
    },
    {
      "cell_type": "code",
      "source": [
        "\n",
        "from sklearn.metrics import precision_score, recall_score, f1_score\n",
        "\n",
        "# Calculate precision, recall, and F1-score\n",
        "precision = precision_score(all_labels, all_predictions)\n",
        "recall = recall_score(all_labels, all_predictions)\n",
        "f1 = f1_score(all_labels, all_predictions)\n",
        "\n",
        "print(f\"\\nPrecision: {precision:.4f}\")\n",
        "print(f\"Recall: {recall:.4f}\")\n",
        "print(f\"F1-Score: {f1:.4f}\")"
      ],
      "metadata": {
        "colab": {
          "base_uri": "https://localhost:8080/"
        },
        "id": "O-Eiz9W37g9-",
        "outputId": "c7c9ae65-1670-4ebe-ae11-15b673188ef5"
      },
      "execution_count": 94,
      "outputs": [
        {
          "output_type": "stream",
          "name": "stdout",
          "text": [
            "\n",
            "Precision: 1.0000\n",
            "Recall: 1.0000\n",
            "F1-Score: 1.0000\n"
          ]
        }
      ]
    },
    {
      "cell_type": "markdown",
      "metadata": {
        "id": "gBXI4mEZ-6eT"
      },
      "source": [
        "**DCT**\n"
      ]
    },
    {
      "cell_type": "code",
      "source": [
        "from scipy.fft import dct  #\n",
        "from scipy.fft import dst"
      ],
      "metadata": {
        "id": "-vuZh63WNCSC"
      },
      "execution_count": 95,
      "outputs": []
    },
    {
      "cell_type": "code",
      "execution_count": 96,
      "metadata": {
        "id": "FFdqievP-5ZQ",
        "colab": {
          "base_uri": "https://localhost:8080/"
        },
        "outputId": "8cfe3e35-16bc-48e0-823e-3dcfa9f90fb0"
      },
      "outputs": [
        {
          "output_type": "stream",
          "name": "stdout",
          "text": [
            "Batch 0 - Data shape: torch.Size([100, 3, 1024]), Labels shape: torch.Size([100, 1]), Data type: torch.complex64, Labels shape: torch.float32\n",
            "Time taken 0.030242204666137695\n"
          ]
        }
      ],
      "source": [
        "from torch.utils.data import DataLoader\n",
        "import time\n",
        "\n",
        "start= time.time()\n",
        "### Your code goes here #################################################################################################\n",
        "\n",
        "\n",
        "# Create the dataset\n",
        "dataset = Dataset_custom_transform('/content/normal_3d_array.npy', '/content/failure_3d_array.npy', preprocessing_flag='DCT')\n",
        "\n",
        "# Create a DataLoader\n",
        "batch_size = 100\n",
        "dataloader = DataLoader(dataset, batch_size=batch_size, shuffle=False)\n",
        "\n",
        "# Iterate through the DataLoader\n",
        "for batch_idx, (data, labels) in enumerate(dataloader):\n",
        "    data = data.to(torch.complex64)\n",
        "    labels = labels.float().unsqueeze(1)\n",
        "    print(f\"Batch {batch_idx} - Data shape: {data.shape}, Labels shape: {labels.shape}, Data type: {data.dtype}, Labels shape: {labels.dtype}\")\n",
        "    # Now you have batches of data and labels ready for your model\n",
        "    # ... your model training code here ...\n",
        "    break #remove to run through the entire dataloader\n",
        "\n",
        "#################################################################################################################################\n",
        "\n",
        "end = time.time()\n",
        "print(\"Time taken\", end- start)\n",
        "\n",
        "\n"
      ]
    },
    {
      "cell_type": "code",
      "source": [
        "# import torch.nn as nn\n",
        "\n",
        "class ConvNet(nn.Module):\n",
        "    def __init__(self, in_channels=3):\n",
        "        super(ConvNet, self).__init__()\n",
        "        #reduced convolutional channels\n",
        "        self.conv1 = nn.Conv1d(in_channels, 8, kernel_size=3, padding=1)\n",
        "        self.relu1 = nn.ReLU()\n",
        "        self.pool1 = nn.MaxPool1d(kernel_size=4) #changed kernel size to 4\n",
        "\n",
        "        self.conv2 = nn.Conv1d(8, 32, kernel_size=3, padding=1)  #reduced from 64, changed input channels from 16 to 8\n",
        "        self.relu2 = nn.ReLU()\n",
        "        self.pool2 = nn.MaxPool1d(kernel_size=4) #changed kernel size to 4\n",
        "\n",
        "        #adjusted FC layers with gradually   reducing\n",
        "        self.fc1 = nn.Linear(32 * 64, 1)  #changed input features to 32*64\n",
        "        #removed fc2, relu4, and fc3\n",
        "        self.sigmoid = nn.Sigmoid()\n",
        "\n",
        "    def forward(self, x):\n",
        "        x = self.pool1(self.relu1(self.conv1(x)))\n",
        "        x = self.pool2(self.relu2(self.conv2(x)))\n",
        "        x = x.view(-1, 32 * 64)  #Adjusted for new size\n",
        "        # Removed relu3 and the second linear layer\n",
        "        x = self.fc1(x)\n",
        "        x = self.sigmoid(x)\n",
        "        return x\n",
        "\n",
        "\n",
        "\n",
        "model = ConvNet()\n",
        "#print(model(failure_tensor).shape) # Now it should print a valid shape\n",
        "# Example forward pass (replace with our actual input)\n",
        "#output = model(failure_tensor[0].unsqueeze(0))  # Unsqueezingto add a batch dimension\n",
        "#print(output)\n",
        "\n",
        "\n",
        "\n",
        "# Example usage (assuming your data is in 'failure_array'):\n",
        "# Reshape the data to (samples, channels, length)\n",
        "#failure_array = failure_array.reshape(failure_array.shape[0], 3, 1024) # Correct the reshape\n",
        "#normal_array = normal_array.reshape(normal_array.shape[0], 3, 1024)\n",
        "\n",
        "# Convert NumPy arrays to PyTorch tensors\n",
        "#failure_tensor = torch.tensor(failure_array, dtype=torch.float32)\n",
        "# Instantiate the model"
      ],
      "metadata": {
        "id": "VqKDOzCG6WPS"
      },
      "execution_count": 97,
      "outputs": []
    },
    {
      "cell_type": "code",
      "source": [
        "\n",
        "# import torch\n",
        "# import torch.nn as nn\n",
        "import torch.optim as optim\n",
        "from torch.utils.data import DataLoader, random_split\n",
        "from sklearn.metrics import accuracy_score, confusion_matrix\n",
        "import numpy as np\n",
        "import seaborn as sns\n",
        "import matplotlib.pyplot as plt\n",
        "\n",
        "\n",
        "# Split the dataset into training and testing sets\n",
        "test_size = int(0.2 * len(dataset))\n",
        "train_size = len(dataset) - test_size\n",
        "train_dataset, test_dataset = random_split(dataset, [train_size, test_size])\n",
        "\n",
        "\n",
        "# # Create DataLoaders\n",
        "\n",
        "train_loader = DataLoader(train_dataset, batch_size=batch_size, shuffle=True)\n",
        "test_loader = DataLoader(test_dataset, batch_size=batch_size, shuffle=False)\n",
        "\n",
        "# # Instantiate the model, optimizer, and loss function\n",
        "model = ConvNet()\n",
        "optimizer = optim.Adam(model.parameters())\n",
        "criterion = nn.BCELoss()  # Binary Cross-Entropy Loss\n"
      ],
      "metadata": {
        "id": "mL9LXBzG61AX"
      },
      "execution_count": 98,
      "outputs": []
    },
    {
      "cell_type": "code",
      "source": [
        "#Training loop with early stopping\n",
        "num_epochs = 10  #Adjust as needed\n",
        "patience = 1  #Number of epochs with no improvement after which training will be stopped\n",
        "best_accuracy = 0\n",
        "epochs_no_improve = 0\n",
        "\n",
        "# Training\n",
        "train_losses = []\n",
        "train_accuracies = []\n",
        "test_losses = []\n",
        "test_accuracies = []\n",
        "\n",
        "for epoch in range(num_epochs):\n",
        "    model.train()\n",
        "    train_loss = 0\n",
        "    correct_train = 0\n",
        "    total_train = 0\n",
        "    for data, labels in train_loader:\n",
        "        #data = data.to(torch.complex64)\n",
        "        data = data.float()\n",
        "        labels = labels.float().unsqueeze(1)  # convert labels to float and unsqueeze\n",
        "        # print(f\"Batch {batch_idx} - Data shape: {data.shape}, Labels shape: {labels.shape}, Data type: {data.dtype}, Labels shape: {labels.dtype}\")\n",
        "\n",
        "        optimizer.zero_grad()\n",
        "        outputs = model(data)\n",
        "        loss = criterion(outputs, labels)\n",
        "        loss.backward()\n",
        "        optimizer.step()\n",
        "\n",
        "        train_loss += loss.item()\n",
        "        predicted = (outputs > 0.5).float()\n",
        "        total_train += labels.size(0)\n",
        "        correct_train += (predicted == labels).sum().item()\n",
        "\n",
        "    train_accuracy = 100 * correct_train / total_train\n",
        "    train_losses.append(train_loss / len(train_loader))\n",
        "    train_accuracies.append(train_accuracy)\n",
        "\n",
        "    # Evaluation\n",
        "    model.eval()\n",
        "    test_loss = 0\n",
        "    correct_test = 0\n",
        "    total_test = 0\n",
        "    all_predictions = []\n",
        "    all_labels = []\n",
        "    with torch.no_grad():\n",
        "        for data, labels in test_loader:\n",
        "            data = data.float()  # convert data to float\n",
        "            #data = data.to(torch.complex64)\n",
        "            labels = labels.float().unsqueeze(1)  # convert labels to float and unsqueeze\n",
        "            outputs = model(data)\n",
        "            loss = criterion(outputs, labels)\n",
        "            test_loss += loss.item()\n",
        "            predictions = (outputs > 0.5).float()  # convert output to 0,1 values\n",
        "            all_predictions.extend(predictions.cpu().numpy())\n",
        "            all_labels.extend(labels.cpu().numpy())\n",
        "            total_test += labels.size(0)\n",
        "            correct_test += (predictions == labels).sum().item()\n",
        "\n",
        "    test_accuracy = 100 * correct_test / total_test\n",
        "    test_losses.append(test_loss / len(test_loader))\n",
        "    test_accuracies.append(test_accuracy)\n",
        "\n",
        "\n",
        "    print(f\"Epoch {epoch+1}/{num_epochs}, \"\n",
        "          f\"Train Loss: {train_losses[-1]:.4f}, Train Acc: {train_accuracies[-1]:.2f}%, \"\n",
        "          f\"Test Loss: {test_losses[-1]:.4f}, Test Acc: {test_accuracies[-1]:.2f}%\")\n",
        "\n",
        "\n",
        "\n",
        "     # Early stopping check\n",
        "    if test_accuracy > best_accuracy:\n",
        "        best_accuracy = test_accuracy\n",
        "        epochs_no_improve = 0\n",
        "        # Save the model weights\n",
        "        torch.save(model.state_dict(), 'best_model_weights.pth')\n",
        "    else:\n",
        "        epochs_no_improve += 1\n",
        "    if epochs_no_improve == patience:\n",
        "        print(f\"Early stopping at epoch {epoch+1}\")\n",
        "        break\n",
        "\n",
        "    # Confusion Matrix (optional - uncomment if you want to see it per epoch)\n",
        "    # cm = confusion_matrix(all_labels, all_predictions)\n",
        "    # plt.figure(figsize=(8, 6))\n",
        "    # sns.heatmap(cm, annot=True, fmt=\"d\", cmap=\"Blues\",\n",
        "    #             xticklabels=['Predicted Failure', 'Predicted Normal'],\n",
        "    #             yticklabels=['Actual Failure', 'Actual Normal'])\n",
        "    # plt.title(f\"Confusion Matrix - Epoch {epoch+1}\")\n",
        "    # plt.show()"
      ],
      "metadata": {
        "colab": {
          "base_uri": "https://localhost:8080/"
        },
        "id": "3RRmkOQu7Bxw",
        "outputId": "3c0c072e-4e1f-4516-9793-ab222e2a5a56"
      },
      "execution_count": 99,
      "outputs": [
        {
          "output_type": "stream",
          "name": "stdout",
          "text": [
            "Epoch 1/10, Train Loss: 0.1257, Train Acc: 99.03%, Test Loss: 0.0000, Test Acc: 100.00%\n",
            "Epoch 2/10, Train Loss: 0.0000, Train Acc: 100.00%, Test Loss: 0.0000, Test Acc: 100.00%\n",
            "Early stopping at epoch 2\n"
          ]
        }
      ]
    },
    {
      "cell_type": "code",
      "source": [
        "\n",
        "\n",
        "#  ( existing code)\n",
        "\n",
        "# (modified to print confusion matrix only once)\n",
        "\n",
        "\n",
        "# Confusion Matrix (printed only once after all epochs)\n",
        "cm = confusion_matrix(all_labels, all_predictions)\n",
        "plt.figure(figsize=(8, 6))\n",
        "sns.heatmap(cm, annot=True, fmt=\"d\", cmap=\"Blues\",\n",
        "            xticklabels=['Predicted Failure', 'Predicted Normal'],\n",
        "            yticklabels=['Actual Failure', 'Actual Normal'])\n",
        "plt.title(\"Confusion Matrix - Final\") # Added - Final to indicate it is the last epoch\n",
        "plt.show()\n"
      ],
      "metadata": {
        "colab": {
          "base_uri": "https://localhost:8080/",
          "height": 545
        },
        "id": "bbFQp1Og7K17",
        "outputId": "a1bb919f-d3be-4f8b-c908-bd968cadeb45"
      },
      "execution_count": 100,
      "outputs": [
        {
          "output_type": "display_data",
          "data": {
            "text/plain": [
              "<Figure size 800x600 with 2 Axes>"
            ],
            "image/png": "[encoded data removed]"
          },
          "metadata": {}
        }
      ]
    },
    {
      "cell_type": "code",
      "source": [
        "\n",
        "from sklearn.metrics import precision_score, recall_score, f1_score\n",
        "\n",
        "# Calculate precision, recall, and F1-score\n",
        "precision = precision_score(all_labels, all_predictions)\n",
        "recall = recall_score(all_labels, all_predictions)\n",
        "f1 = f1_score(all_labels, all_predictions)\n",
        "\n",
        "print(f\"\\nPrecision: {precision:.4f}\")\n",
        "print(f\"Recall: {recall:.4f}\")\n",
        "print(f\"F1-Score: {f1:.4f}\")"
      ],
      "metadata": {
        "colab": {
          "base_uri": "https://localhost:8080/"
        },
        "id": "AGWpnhza7lu4",
        "outputId": "d77d6777-d392-4e06-d982-50e7be81a484"
      },
      "execution_count": 101,
      "outputs": [
        {
          "output_type": "stream",
          "name": "stdout",
          "text": [
            "\n",
            "Precision: 1.0000\n",
            "Recall: 1.0000\n",
            "F1-Score: 1.0000\n"
          ]
        }
      ]
    },
    {
      "cell_type": "markdown",
      "metadata": {
        "id": "Q2woZRndCX7o"
      },
      "source": []
    },
    {
      "cell_type": "markdown",
      "metadata": {
        "id": "sgBbgfIzCYfZ"
      },
      "source": [
        "**DST code**"
      ]
    },
    {
      "cell_type": "code",
      "execution_count": 105,
      "metadata": {
        "id": "TU7kT6F6CbsN",
        "colab": {
          "base_uri": "https://localhost:8080/"
        },
        "outputId": "9e351bfe-03fb-4f34-a97f-b143a3a074aa"
      },
      "outputs": [
        {
          "output_type": "stream",
          "name": "stdout",
          "text": [
            "Batch 0 - Data shape: torch.Size([100, 3, 1024]), Labels shape: torch.Size([100, 1]), Data type: torch.complex64, Labels shape: torch.float32\n",
            "Time taken 0.015559673309326172\n"
          ]
        }
      ],
      "source": [
        "from torch.utils.data import DataLoader\n",
        "import time\n",
        "\n",
        "start= time.time()\n",
        "### Your code goes here #################################################################################################\n",
        "\n",
        "\n",
        "# Create the dataset\n",
        "dataset = Dataset_custom_transform('/content/normal_3d_array.npy', '/content/failure_3d_array.npy', preprocessing_flag='DST')\n",
        "\n",
        "# Create a DataLoader\n",
        "batch_size = 100\n",
        "dataloader = DataLoader(dataset, batch_size=batch_size, shuffle=False)\n",
        "\n",
        "# Iterate through the DataLoader\n",
        "for batch_idx, (data, labels) in enumerate(dataloader):\n",
        "    data = data.to(torch.complex64)\n",
        "    labels = labels.float().unsqueeze(1)\n",
        "    print(f\"Batch {batch_idx} - Data shape: {data.shape}, Labels shape: {labels.shape}, Data type: {data.dtype}, Labels shape: {labels.dtype}\")\n",
        "    # Now you have batches of data and labels ready for your model\n",
        "    # ... your model training code here ...\n",
        "    break #remove to run through the entire dataloader\n",
        "\n",
        "#################################################################################################################################\n",
        "\n",
        "end = time.time()\n",
        "print(\"Time taken\", end- start)\n",
        "\n",
        "\n"
      ]
    },
    {
      "cell_type": "code",
      "source": [
        "# import torch.nn as nn\n",
        "\n",
        "class ConvNet(nn.Module):\n",
        "    def __init__(self, in_channels=3):\n",
        "        super(ConvNet, self).__init__()\n",
        "        #reduced convolutional channels\n",
        "        self.conv1 = nn.Conv1d(in_channels, 8, kernel_size=3, padding=1)\n",
        "        self.relu1 = nn.ReLU()\n",
        "        self.pool1 = nn.MaxPool1d(kernel_size=4) #changed kernel size to 4\n",
        "\n",
        "        self.conv2 = nn.Conv1d(8, 32, kernel_size=3, padding=1)  #reduced from 64, changed input channels from 16 to 8\n",
        "        self.relu2 = nn.ReLU()\n",
        "        self.pool2 = nn.MaxPool1d(kernel_size=4) #changed kernel size to 4\n",
        "\n",
        "        #adjusted FC layers with gradually   reducing\n",
        "        self.fc1 = nn.Linear(32 * 64, 1)  #changed input features to 32*64\n",
        "        #removed fc2, relu4, and fc3\n",
        "        self.sigmoid = nn.Sigmoid()\n",
        "\n",
        "    def forward(self, x):\n",
        "        x = self.pool1(self.relu1(self.conv1(x)))\n",
        "        x = self.pool2(self.relu2(self.conv2(x)))\n",
        "        x = x.view(-1, 32 * 64)  #Adjusted for new size\n",
        "        # Removed relu3 and the second linear layer\n",
        "        x = self.fc1(x)\n",
        "        x = self.sigmoid(x)\n",
        "        return x\n",
        "\n",
        "\n",
        "\n",
        "model = ConvNet()\n",
        "#print(model(failure_tensor).shape) # Now it should print a valid shape\n",
        "# Example forward pass (replace with our actual input)\n",
        "#output = model(failure_tensor[0].unsqueeze(0))  # Unsqueezingto add a batch dimension\n",
        "#print(output)\n",
        "\n",
        "\n",
        "\n",
        "# Example usage (assuming your data is in 'failure_array'):\n",
        "# Reshape the data to (samples, channels, length)\n",
        "#failure_array = failure_array.reshape(failure_array.shape[0], 3, 1024) # Correct the reshape\n",
        "#normal_array = normal_array.reshape(normal_array.shape[0], 3, 1024)\n",
        "\n",
        "# Convert NumPy arrays to PyTorch tensors\n",
        "#failure_tensor = torch.tensor(failure_array, dtype=torch.float32)\n",
        "# Instantiate the model"
      ],
      "metadata": {
        "id": "cPcAPzPW6jv7"
      },
      "execution_count": 106,
      "outputs": []
    },
    {
      "cell_type": "code",
      "source": [
        "\n",
        "# import torch\n",
        "# import torch.nn as nn\n",
        "import torch.optim as optim\n",
        "from torch.utils.data import DataLoader, random_split\n",
        "from sklearn.metrics import accuracy_score, confusion_matrix\n",
        "import numpy as np\n",
        "import seaborn as sns\n",
        "import matplotlib.pyplot as plt\n",
        "\n",
        "\n",
        "# Split the dataset into training and testing sets\n",
        "test_size = int(0.2 * len(dataset))\n",
        "train_size = len(dataset) - test_size\n",
        "train_dataset, test_dataset = random_split(dataset, [train_size, test_size])\n",
        "\n",
        "\n",
        "# # Create DataLoaders\n",
        "\n",
        "train_loader = DataLoader(train_dataset, batch_size=batch_size, shuffle=True)\n",
        "test_loader = DataLoader(test_dataset, batch_size=batch_size, shuffle=False)\n",
        "\n",
        "# # Instantiate the model, optimizer, and loss function\n",
        "model = ConvNet()\n",
        "optimizer = optim.Adam(model.parameters())\n",
        "criterion = nn.BCELoss()  # Binary Cross-Entropy Loss\n"
      ],
      "metadata": {
        "id": "pb7P5qDf6zUQ"
      },
      "execution_count": 107,
      "outputs": []
    },
    {
      "cell_type": "code",
      "source": [
        "#Training loop with early stopping\n",
        "num_epochs = 10  #Adjust as needed\n",
        "patience = 1  #Number of epochs with no improvement after which training will be stopped\n",
        "best_accuracy = 0\n",
        "epochs_no_improve = 0\n",
        "\n",
        "# Training\n",
        "train_losses = []\n",
        "train_accuracies = []\n",
        "test_losses = []\n",
        "test_accuracies = []\n",
        "\n",
        "for epoch in range(num_epochs):\n",
        "    model.train()\n",
        "    train_loss = 0\n",
        "    correct_train = 0\n",
        "    total_train = 0\n",
        "    for data, labels in train_loader:\n",
        "        #data = data.to(torch.complex64)\n",
        "        data = data.float()\n",
        "        labels = labels.float().unsqueeze(1)  # convert labels to float and unsqueeze\n",
        "        # print(f\"Batch {batch_idx} - Data shape: {data.shape}, Labels shape: {labels.shape}, Data type: {data.dtype}, Labels shape: {labels.dtype}\")\n",
        "\n",
        "        optimizer.zero_grad()\n",
        "        outputs = model(data)\n",
        "        loss = criterion(outputs, labels)\n",
        "        loss.backward()\n",
        "        optimizer.step()\n",
        "\n",
        "        train_loss += loss.item()\n",
        "        predicted = (outputs > 0.5).float()\n",
        "        total_train += labels.size(0)\n",
        "        correct_train += (predicted == labels).sum().item()\n",
        "\n",
        "    train_accuracy = 100 * correct_train / total_train\n",
        "    train_losses.append(train_loss / len(train_loader))\n",
        "    train_accuracies.append(train_accuracy)\n",
        "\n",
        "    # Evaluation\n",
        "    model.eval()\n",
        "    test_loss = 0\n",
        "    correct_test = 0\n",
        "    total_test = 0\n",
        "    all_predictions = []\n",
        "    all_labels = []\n",
        "    with torch.no_grad():\n",
        "        for data, labels in test_loader:\n",
        "            data = data.float()  # convert data to float\n",
        "            #data = data.to(torch.complex64)\n",
        "            labels = labels.float().unsqueeze(1)  # convert labels to float and unsqueeze\n",
        "            outputs = model(data)\n",
        "            loss = criterion(outputs, labels)\n",
        "            test_loss += loss.item()\n",
        "            predictions = (outputs > 0.5).float()  # convert output to 0,1 values\n",
        "            all_predictions.extend(predictions.cpu().numpy())\n",
        "            all_labels.extend(labels.cpu().numpy())\n",
        "            total_test += labels.size(0)\n",
        "            correct_test += (predictions == labels).sum().item()\n",
        "\n",
        "    test_accuracy = 100 * correct_test / total_test\n",
        "    test_losses.append(test_loss / len(test_loader))\n",
        "    test_accuracies.append(test_accuracy)\n",
        "\n",
        "\n",
        "    print(f\"Epoch {epoch+1}/{num_epochs}, \"\n",
        "          f\"Train Loss: {train_losses[-1]:.4f}, Train Acc: {train_accuracies[-1]:.2f}%, \"\n",
        "          f\"Test Loss: {test_losses[-1]:.4f}, Test Acc: {test_accuracies[-1]:.2f}%\")\n",
        "\n",
        "\n",
        "\n",
        "     # Early stopping check\n",
        "    if test_accuracy > best_accuracy:\n",
        "        best_accuracy = test_accuracy\n",
        "        epochs_no_improve = 0\n",
        "        # Save the model weights\n",
        "        torch.save(model.state_dict(), 'best_model_weights.pth')\n",
        "    else:\n",
        "        epochs_no_improve += 1\n",
        "    if epochs_no_improve == patience:\n",
        "        print(f\"Early stopping at epoch {epoch+1}\")\n",
        "        break\n",
        "\n",
        "    # Confusion Matrix (optional - uncomment if you want to see it per epoch)\n",
        "    # cm = confusion_matrix(all_labels, all_predictions)\n",
        "    # plt.figure(figsize=(8, 6))\n",
        "    # sns.heatmap(cm, annot=True, fmt=\"d\", cmap=\"Blues\",\n",
        "    #             xticklabels=['Predicted Failure', 'Predicted Normal'],\n",
        "    #             yticklabels=['Actual Failure', 'Actual Normal'])\n",
        "    # plt.title(f\"Confusion Matrix - Epoch {epoch+1}\")\n",
        "    # plt.show()"
      ],
      "metadata": {
        "colab": {
          "base_uri": "https://localhost:8080/"
        },
        "id": "8F57sIgh6-Je",
        "outputId": "2fa20f19-2286-4895-c635-c887e2e3368d"
      },
      "execution_count": 108,
      "outputs": [
        {
          "output_type": "stream",
          "name": "stdout",
          "text": [
            "Epoch 1/10, Train Loss: 0.0703, Train Acc: 98.74%, Test Loss: 0.0000, Test Acc: 100.00%\n",
            "Epoch 2/10, Train Loss: 0.0000, Train Acc: 100.00%, Test Loss: 0.0000, Test Acc: 100.00%\n",
            "Early stopping at epoch 2\n"
          ]
        }
      ]
    },
    {
      "cell_type": "code",
      "source": [
        "\n",
        "\n",
        "#  ( existing code)\n",
        "\n",
        "# (modified to print confusion matrix only once)\n",
        "\n",
        "\n",
        "# Confusion Matrix (printed only once after all epochs)\n",
        "cm = confusion_matrix(all_labels, all_predictions)\n",
        "plt.figure(figsize=(8, 6))\n",
        "sns.heatmap(cm, annot=True, fmt=\"d\", cmap=\"Blues\",\n",
        "            xticklabels=['Predicted Failure', 'Predicted Normal'],\n",
        "            yticklabels=['Actual Failure', 'Actual Normal'])\n",
        "plt.title(\"Confusion Matrix - Final\") # Added - Final to indicate it is the last epoch\n",
        "plt.show()\n"
      ],
      "metadata": {
        "colab": {
          "base_uri": "https://localhost:8080/",
          "height": 545
        },
        "id": "Y29FAGnZ7Ixg",
        "outputId": "182794e6-0085-403e-ba65-e903ed3bb9cc"
      },
      "execution_count": 109,
      "outputs": [
        {
          "output_type": "display_data",
          "data": {
            "text/plain": [
              "<Figure size 800x600 with 2 Axes>"
            ],
            "image/png": "[encoded data removed]"
          },
          "metadata": {}
        }
      ]
    },
    {
      "cell_type": "code",
      "source": [
        "\n",
        "from sklearn.metrics import precision_score, recall_score, f1_score\n",
        "\n",
        "# Calculate precision, recall, and F1-score\n",
        "precision = precision_score(all_labels, all_predictions)\n",
        "recall = recall_score(all_labels, all_predictions)\n",
        "f1 = f1_score(all_labels, all_predictions)\n",
        "\n",
        "print(f\"\\nPrecision: {precision:.4f}\")\n",
        "print(f\"Recall: {recall:.4f}\")\n",
        "print(f\"F1-Score: {f1:.4f}\")"
      ],
      "metadata": {
        "colab": {
          "base_uri": "https://localhost:8080/"
        },
        "id": "wBVg7vJ57ojO",
        "outputId": "770df7e0-eae6-4ec5-cc57-a31d4c66e6e6"
      },
      "execution_count": 110,
      "outputs": [
        {
          "output_type": "stream",
          "name": "stdout",
          "text": [
            "\n",
            "Precision: 1.0000\n",
            "Recall: 1.0000\n",
            "F1-Score: 1.0000\n"
          ]
        }
      ]
    },
    {
      "cell_type": "markdown",
      "metadata": {
        "id": "SQBS725lJUal"
      },
      "source": [
        "**WAVELET**"
      ]
    },
    {
      "cell_type": "code",
      "execution_count": 111,
      "metadata": {
        "id": "A_rPgfgtJUDU",
        "colab": {
          "base_uri": "https://localhost:8080/"
        },
        "outputId": "5b81586d-2958-4534-a297-e11f9421e901"
      },
      "outputs": [
        {
          "output_type": "stream",
          "name": "stdout",
          "text": [
            "Batch 0 - Data shape: torch.Size([100, 3, 1024]), Labels shape: torch.Size([100, 1]), Data type: torch.complex64, Labels shape: torch.float32\n",
            "Time taken 0.08833599090576172\n"
          ]
        }
      ],
      "source": [
        "from torch.utils.data import DataLoader\n",
        "import time\n",
        "\n",
        "start= time.time()\n",
        "### Your code goes here #################################################################################################\n",
        "\n",
        "\n",
        "# Create the dataset\n",
        "dataset = Dataset_custom_transform('/content/normal_3d_array.npy', '/content/failure_3d_array.npy', preprocessing_flag='Wavelet')\n",
        "\n",
        "# Create a DataLoader\n",
        "batch_size = 100\n",
        "dataloader = DataLoader(dataset, batch_size=batch_size, shuffle=False)\n",
        "\n",
        "# Iterate through the DataLoader\n",
        "for batch_idx, (data, labels) in enumerate(dataloader):\n",
        "    data = data.to(torch.complex64)\n",
        "    labels = labels.float().unsqueeze(1)\n",
        "    print(f\"Batch {batch_idx} - Data shape: {data.shape}, Labels shape: {labels.shape}, Data type: {data.dtype}, Labels shape: {labels.dtype}\")\n",
        "    # Now you have batches of data and labels ready for your model\n",
        "    # ... your model training code here ...\n",
        "    break #remove to run through the entire dataloader\n",
        "\n",
        "#################################################################################################################################\n",
        "\n",
        "end = time.time()\n",
        "print(\"Time taken\", end- start)\n",
        "\n",
        "\n"
      ]
    },
    {
      "cell_type": "code",
      "source": [
        "# import torch\n",
        "# import torch.nn as nn\n",
        "import torch.optim as optim\n",
        "from torch.utils.data import DataLoader, random_split\n",
        "from sklearn.metrics import accuracy_score, confusion_matrix\n",
        "import numpy as np\n",
        "import seaborn as sns\n",
        "import matplotlib.pyplot as plt\n",
        "\n",
        "\n",
        "# Split the dataset into training and testing sets\n",
        "test_size = int(0.2 * len(dataset))\n",
        "train_size = len(dataset) - test_size\n",
        "train_dataset, test_dataset = random_split(dataset, [train_size, test_size])\n",
        "\n",
        "\n",
        "# # Create DataLoaders\n",
        "\n",
        "train_loader = DataLoader(train_dataset, batch_size=batch_size, shuffle=True)  # MMMR: This need to be True always as batch optimization need data to be shuffled at the start of every epochs.\n",
        "test_loader = DataLoader(test_dataset, batch_size=batch_size, shuffle=False)\n",
        "\n",
        "# # Instantiate the model, optimizer, and loss function\n",
        "model = ComplexConvNet(in_channels=3)\n",
        "optimizer = optim.Adam(model.parameters())\n",
        "criterion = nn.BCELoss()  # Binary Cross-Entropy Loss\n"
      ],
      "metadata": {
        "id": "r_9OfzDD7QVC"
      },
      "execution_count": 112,
      "outputs": []
    },
    {
      "cell_type": "code",
      "source": [
        "num_epochs = 10\n",
        "patience = 1\n",
        "best_accuracy = 0\n",
        "epochs_no_improve = 0\n",
        "\n",
        "for epoch in range(num_epochs):\n",
        "    model.train()\n",
        "    train_loss = 0\n",
        "    correct_train = 0\n",
        "    total_train = 0\n",
        "    for data, labels in train_loader:\n",
        "        data = data.to(torch.complex64)\n",
        "        labels = labels.float().unsqueeze(1)\n",
        "        optimizer.zero_grad()\n",
        "        outputs = model(data)\n",
        "        loss = criterion(outputs, labels)\n",
        "        loss.backward()\n",
        "        optimizer.step()\n",
        "        train_loss += loss.item()\n",
        "        predicted = (outputs > 0.5).float()\n",
        "        total_train += labels.size(0)\n",
        "        correct_train += (predicted == labels).sum().item()\n",
        "\n",
        "    train_accuracy = 100 * correct_train / total_train\n",
        "\n",
        "    # Evaluation\n",
        "    model.eval()\n",
        "    test_loss = 0\n",
        "    correct_test = 0\n",
        "    total_test = 0\n",
        "    with torch.no_grad():\n",
        "        for data, labels in test_loader:\n",
        "            data = data.to(torch.complex64)\n",
        "            labels = labels.float().unsqueeze(1)\n",
        "            outputs = model(data)\n",
        "            loss = criterion(outputs, labels)\n",
        "            test_loss += loss.item()\n",
        "            predictions = (outputs > 0.5).float()\n",
        "            total_test += labels.size(0)\n",
        "            correct_test += (predictions == labels).sum().item()\n",
        "\n",
        "    test_accuracy = 100 * correct_test / total_test\n",
        "\n",
        "    print(f\"Epoch {epoch+1}/{num_epochs}, Train Loss: {train_loss:.4f}, Train Acc: {train_accuracy:.2f}%, Test Loss: {test_loss:.4f}, Test Acc: {test_accuracy:.2f}%\")\n",
        "\n",
        "    # Early stopping\n",
        "    if test_accuracy > best_accuracy:\n",
        "        best_accuracy = test_accuracy\n",
        "        epochs_no_improve = 0\n",
        "        torch.save(model.state_dict(), 'best_model_weights.pth')\n",
        "    else:\n",
        "        epochs_no_improve += 1\n",
        "    if epochs_no_improve == patience:\n",
        "        print(f\"Early stopping at epoch {epoch+1}\")\n",
        "        break\n"
      ],
      "metadata": {
        "colab": {
          "base_uri": "https://localhost:8080/"
        },
        "id": "mBwYlUYF7RK2",
        "outputId": "2f21fa2f-42a6-47a8-b0de-d743328e8ff9"
      },
      "execution_count": 113,
      "outputs": [
        {
          "output_type": "stream",
          "name": "stdout",
          "text": [
            "Epoch 1/10, Train Loss: 10.1182, Train Acc: 98.36%, Test Loss: 0.0001, Test Acc: 100.00%\n",
            "Epoch 2/10, Train Loss: 0.0001, Train Acc: 100.00%, Test Loss: 0.0000, Test Acc: 100.00%\n",
            "Early stopping at epoch 2\n"
          ]
        }
      ]
    },
    {
      "cell_type": "code",
      "source": [
        "\n",
        "\n",
        "#  ( existing code)\n",
        "\n",
        "# (modified to print confusion matrix only once)\n",
        "\n",
        "\n",
        "# Confusion Matrix (printed only once after all epochs)\n",
        "cm = confusion_matrix(all_labels, all_predictions)\n",
        "plt.figure(figsize=(8, 6))\n",
        "sns.heatmap(cm, annot=True, fmt=\"d\", cmap=\"Blues\",\n",
        "            xticklabels=['Predicted Failure', 'Predicted Normal'],\n",
        "            yticklabels=['Actual Failure', 'Actual Normal'])\n",
        "plt.title(\"Confusion Matrix - Final\") # Added - Final to indicate it is the last epoch\n",
        "plt.show()\n"
      ],
      "metadata": {
        "colab": {
          "base_uri": "https://localhost:8080/",
          "height": 545
        },
        "id": "fEXZQSw76lk_",
        "outputId": "7461c757-e2c7-4007-83f5-a59f398d8e5b"
      },
      "execution_count": 114,
      "outputs": [
        {
          "output_type": "display_data",
          "data": {
            "text/plain": [
              "<Figure size 800x600 with 2 Axes>"
            ],
            "image/png": "[encoded data removed]"
          },
          "metadata": {}
        }
      ]
    },
    {
      "cell_type": "code",
      "source": [
        "\n",
        "from sklearn.metrics import precision_score, recall_score, f1_score\n",
        "\n",
        "# Calculate precision, recall, and F1-score\n",
        "precision = precision_score(all_labels, all_predictions)\n",
        "recall = recall_score(all_labels, all_predictions)\n",
        "f1 = f1_score(all_labels, all_predictions)\n",
        "\n",
        "print(f\"\\nPrecision: {precision:.4f}\")\n",
        "print(f\"Recall: {recall:.4f}\")\n",
        "print(f\"F1-Score: {f1:.4f}\")"
      ],
      "metadata": {
        "colab": {
          "base_uri": "https://localhost:8080/"
        },
        "id": "HyvQVLQr7qAz",
        "outputId": "bdfcc550-f231-4769-c494-09244b250d09"
      },
      "execution_count": 115,
      "outputs": [
        {
          "output_type": "stream",
          "name": "stdout",
          "text": [
            "\n",
            "Precision: 1.0000\n",
            "Recall: 1.0000\n",
            "F1-Score: 1.0000\n"
          ]
        }
      ]
    }
  ],
  "metadata": {
    "accelerator": "GPU",
    "colab": {
      "gpuType": "T4",
      "provenance": []
    },
    "kernelspec": {
      "display_name": "Python 3",
      "name": "python3"
    },
    "language_info": {
      "name": "python"
    }
  },
  "nbformat": 4,
  "nbformat_minor": 0
}